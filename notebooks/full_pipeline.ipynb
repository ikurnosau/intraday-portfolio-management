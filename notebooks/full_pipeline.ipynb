{
 "cells": [
  {
   "cell_type": "code",
   "execution_count": 1,
   "id": "b3a6dcaa",
   "metadata": {},
   "outputs": [
    {
     "data": {
      "text/plain": [
       "device(type='cuda')"
      ]
     },
     "execution_count": 1,
     "metadata": {},
     "output_type": "execute_result"
    }
   ],
   "source": [
    "import sys\n",
    "import os\n",
    "sys.path.append(os.path.abspath(os.path.join(os.getcwd(), '..')))\n",
    "\n",
    "import pandas as pd\n",
    "import torch\n",
    "from datetime import datetime, timezone\n",
    "import logging\n",
    "\n",
    "logging.basicConfig(\n",
    "    level=logging.INFO,  # Set the logging level\n",
    "    format='%(asctime)s - %(levelname)s - %(message)s',  # Format for the log messages\n",
    "    handlers=[\n",
    "        logging.StreamHandler()  # Log to the console\n",
    "    ]\n",
    ")\n",
    "\n",
    "%reload_ext autoreload\n",
    "%autoreload 2\n",
    "from data.raw.retrievers.alpaca_markets_retriever import AlpacaMarketsRetriever\n",
    "from config.constants import *\n",
    "from data.processed.dataset_creation import DatasetCreator\n",
    "from data.processed.indicators import *\n",
    "from data.processed.targets import Balanced3ClassClassification\n",
    "from data.processed.normalization import ZScoreOverWindowNormalizer, ZScoreNormalizer, MinMaxNormalizer\n",
    "from data.processed.dataset_pytorch import DatasetPytorch\n",
    "from modeling.trainer import Trainer\n",
    "from modeling.evaluate import evaluate_lgb_regressor, evaluate_torch_regressor, evaluate_torch_regressor_multiasset\n",
    "# from observability.mlflow_integration import log_experiment\n",
    "\n",
    "from modeling.rl.environment import PortfolioEnvironment\n",
    "from modeling.rl.state import State\n",
    "from modeling.rl.agent import RlAgent\n",
    "from modeling.rl.algorithms.policy_gradient import PolicyGradient\n",
    "from modeling.rl.actors.actor import RlActor, FullyConnectedBackend, TransformerBackend\n",
    "from modeling.rl.actors.signal_predictor_actor import SignalPredictorActor\n",
    "from modeling.rl.actors.high_energy_low_friction_actor import HighEnergyLowFrictionActor\n",
    "from modeling.rl.actors.xsmom_actor import XSMomActor\n",
    "from modeling.rl.actors.tsmom_actor import TSMomActor\n",
    "from modeling.rl.actors.blsw_actor import BLSWActor\n",
    "from modeling.rl.trajectory_dataset import TrajectoryDataset\n",
    "from modeling.rl.metrics import MetricsCalculator, DEFAULT_METRICS\n",
    "from modeling.rl.reward import EstimatedReturnReward\n",
    "from modeling.rl.loss import SumLogReturnLoss\n",
    "from modeling.rl.visualization.wealth_plot import plot_cumulative_wealth\n",
    "from modeling.rl.visualization.position_plot import plot_position_heatmap\n",
    "from config.experiments.cur_experiment import config\n",
    "\n",
    "torch.backends.cudnn.benchmark = config.train_config.cudnn_benchmark\n",
    "\n",
    "device = torch.device(\"cuda\" if torch.cuda.is_available() else \"cpu\")\n",
    "device\n"
   ]
  },
  {
   "cell_type": "code",
   "execution_count": 3,
   "id": "d63c4606",
   "metadata": {},
   "outputs": [
    {
     "data": {
      "text/plain": [
       "'1Day'"
      ]
     },
     "execution_count": 3,
     "metadata": {},
     "output_type": "execute_result"
    }
   ],
   "source": [
    "str(config.data_config.frequency)"
   ]
  },
  {
   "cell_type": "code",
   "execution_count": 4,
   "id": "8be511d4",
   "metadata": {},
   "outputs": [
    {
     "name": "stderr",
     "output_type": "stream",
     "text": [
      "2025-08-18 19:21:10,971 - INFO - crm_us_d.csv has no data prior to 1999-06-01\n",
      "2025-08-18 19:21:13,615 - INFO - trv_us_d.csv has no data prior to 1999-06-01\n",
      "2025-08-18 19:21:13,856 - INFO - v_us_d.csv has no data prior to 1999-06-01\n"
     ]
    }
   ],
   "source": [
    "from data.raw.retrievers.stooq_retriever import StooqRetriever\n",
    "retriever = StooqRetriever()\n",
    "retrieval_result = retriever.bars(end=datetime(2008, 9, 1, tzinfo=timezone.utc))\n",
    "\n",
    "# retriever = AlpacaMarketsRetriever(download_from_gdrive=False, timeframe=config.data_config.frequency)\n",
    "\n",
    "# retrieval_result = retriever.bars_with_quotes(\n",
    "#     symbol_or_symbols=config.data_config.symbol_or_symbols, \n",
    "#     start=config.data_config.start, \n",
    "#     end=config.data_config.end)"
   ]
  },
  {
   "cell_type": "code",
   "execution_count": 5,
   "id": "0b10374e",
   "metadata": {},
   "outputs": [
    {
     "data": {
      "text/html": [
       "<div>\n",
       "<style scoped>\n",
       "    .dataframe tbody tr th:only-of-type {\n",
       "        vertical-align: middle;\n",
       "    }\n",
       "\n",
       "    .dataframe tbody tr th {\n",
       "        vertical-align: top;\n",
       "    }\n",
       "\n",
       "    .dataframe thead th {\n",
       "        text-align: right;\n",
       "    }\n",
       "</style>\n",
       "<table border=\"1\" class=\"dataframe\">\n",
       "  <thead>\n",
       "    <tr style=\"text-align: right;\">\n",
       "      <th></th>\n",
       "      <th>date</th>\n",
       "      <th>open</th>\n",
       "      <th>high</th>\n",
       "      <th>low</th>\n",
       "      <th>close</th>\n",
       "      <th>volume</th>\n",
       "    </tr>\n",
       "  </thead>\n",
       "  <tbody>\n",
       "    <tr>\n",
       "      <th>3722</th>\n",
       "      <td>1999-06-01 17:00:00+00:00</td>\n",
       "      <td>0.338530</td>\n",
       "      <td>0.340943</td>\n",
       "      <td>0.334065</td>\n",
       "      <td>0.337307</td>\n",
       "      <td>547132917</td>\n",
       "    </tr>\n",
       "    <tr>\n",
       "      <th>3723</th>\n",
       "      <td>1999-06-02 17:00:00+00:00</td>\n",
       "      <td>0.334676</td>\n",
       "      <td>0.360537</td>\n",
       "      <td>0.331029</td>\n",
       "      <td>0.350306</td>\n",
       "      <td>618377277</td>\n",
       "    </tr>\n",
       "    <tr>\n",
       "      <th>3724</th>\n",
       "      <td>1999-06-03 17:00:00+00:00</td>\n",
       "      <td>0.352712</td>\n",
       "      <td>0.361147</td>\n",
       "      <td>0.352396</td>\n",
       "      <td>0.356890</td>\n",
       "      <td>579751123</td>\n",
       "    </tr>\n",
       "    <tr>\n",
       "      <th>3725</th>\n",
       "      <td>1999-06-04 17:00:00+00:00</td>\n",
       "      <td>0.358181</td>\n",
       "      <td>0.362369</td>\n",
       "      <td>0.355402</td>\n",
       "      <td>0.362072</td>\n",
       "      <td>437541537</td>\n",
       "    </tr>\n",
       "    <tr>\n",
       "      <th>3726</th>\n",
       "      <td>1999-06-07 17:00:00+00:00</td>\n",
       "      <td>0.362072</td>\n",
       "      <td>0.368635</td>\n",
       "      <td>0.357520</td>\n",
       "      <td>0.367975</td>\n",
       "      <td>496411151</td>\n",
       "    </tr>\n",
       "    <tr>\n",
       "      <th>...</th>\n",
       "      <td>...</td>\n",
       "      <td>...</td>\n",
       "      <td>...</td>\n",
       "      <td>...</td>\n",
       "      <td>...</td>\n",
       "      <td>...</td>\n",
       "    </tr>\n",
       "    <tr>\n",
       "      <th>6044</th>\n",
       "      <td>2008-08-25 17:00:00+00:00</td>\n",
       "      <td>5.293620</td>\n",
       "      <td>5.302980</td>\n",
       "      <td>5.165990</td>\n",
       "      <td>5.192710</td>\n",
       "      <td>574712726</td>\n",
       "    </tr>\n",
       "    <tr>\n",
       "      <th>6045</th>\n",
       "      <td>2008-08-26 17:00:00+00:00</td>\n",
       "      <td>5.196460</td>\n",
       "      <td>5.262760</td>\n",
       "      <td>5.194670</td>\n",
       "      <td>5.225210</td>\n",
       "      <td>528649681</td>\n",
       "    </tr>\n",
       "    <tr>\n",
       "      <th>6046</th>\n",
       "      <td>2008-08-27 17:00:00+00:00</td>\n",
       "      <td>5.210740</td>\n",
       "      <td>5.288870</td>\n",
       "      <td>5.181170</td>\n",
       "      <td>5.256660</td>\n",
       "      <td>565587801</td>\n",
       "    </tr>\n",
       "    <tr>\n",
       "      <th>6047</th>\n",
       "      <td>2008-08-28 17:00:00+00:00</td>\n",
       "      <td>5.275480</td>\n",
       "      <td>5.303670</td>\n",
       "      <td>5.199290</td>\n",
       "      <td>5.228390</td>\n",
       "      <td>511393399</td>\n",
       "    </tr>\n",
       "    <tr>\n",
       "      <th>6048</th>\n",
       "      <td>2008-08-29 17:00:00+00:00</td>\n",
       "      <td>5.201770</td>\n",
       "      <td>5.220990</td>\n",
       "      <td>5.086960</td>\n",
       "      <td>5.101240</td>\n",
       "      <td>711109577</td>\n",
       "    </tr>\n",
       "  </tbody>\n",
       "</table>\n",
       "<p>2327 rows × 6 columns</p>\n",
       "</div>"
      ],
      "text/plain": [
       "                          date      open      high       low     close  \\\n",
       "3722 1999-06-01 17:00:00+00:00  0.338530  0.340943  0.334065  0.337307   \n",
       "3723 1999-06-02 17:00:00+00:00  0.334676  0.360537  0.331029  0.350306   \n",
       "3724 1999-06-03 17:00:00+00:00  0.352712  0.361147  0.352396  0.356890   \n",
       "3725 1999-06-04 17:00:00+00:00  0.358181  0.362369  0.355402  0.362072   \n",
       "3726 1999-06-07 17:00:00+00:00  0.362072  0.368635  0.357520  0.367975   \n",
       "...                        ...       ...       ...       ...       ...   \n",
       "6044 2008-08-25 17:00:00+00:00  5.293620  5.302980  5.165990  5.192710   \n",
       "6045 2008-08-26 17:00:00+00:00  5.196460  5.262760  5.194670  5.225210   \n",
       "6046 2008-08-27 17:00:00+00:00  5.210740  5.288870  5.181170  5.256660   \n",
       "6047 2008-08-28 17:00:00+00:00  5.275480  5.303670  5.199290  5.228390   \n",
       "6048 2008-08-29 17:00:00+00:00  5.201770  5.220990  5.086960  5.101240   \n",
       "\n",
       "         volume  \n",
       "3722  547132917  \n",
       "3723  618377277  \n",
       "3724  579751123  \n",
       "3725  437541537  \n",
       "3726  496411151  \n",
       "...         ...  \n",
       "6044  574712726  \n",
       "6045  528649681  \n",
       "6046  565587801  \n",
       "6047  511393399  \n",
       "6048  711109577  \n",
       "\n",
       "[2327 rows x 6 columns]"
      ]
     },
     "execution_count": 5,
     "metadata": {},
     "output_type": "execute_result"
    }
   ],
   "source": [
    "retrieval_result['AAPL']"
   ]
  },
  {
   "cell_type": "code",
   "execution_count": 6,
   "id": "b37bf20a",
   "metadata": {},
   "outputs": [
    {
     "data": {
      "text/plain": [
       "datetime.datetime(2007, 9, 1, 0, 0, tzinfo=datetime.timezone.utc)"
      ]
     },
     "execution_count": 6,
     "metadata": {},
     "output_type": "execute_result"
    }
   ],
   "source": [
    "config.data_config.train_set_last_date"
   ]
  },
  {
   "cell_type": "code",
   "execution_count": 7,
   "id": "18d48d18",
   "metadata": {},
   "outputs": [
    {
     "name": "stderr",
     "output_type": "stream",
     "text": [
      "2025-08-18 19:21:14,461 - INFO - Processing AAPL …\n",
      "2025-08-18 19:21:14,524 - WARNING - 'ask_price' or 'bid_price' column missing; filling spread with 0.\n",
      "2025-08-18 19:21:14,525 - INFO - Spread has 0 NaNs\n",
      "2025-08-18 19:21:14,532 - INFO - Imputing 79 NaN rows with 0.5 sentinel value\n",
      "2025-08-18 19:21:14,539 - INFO - Processing AMGN …\n",
      "2025-08-18 19:21:14,596 - WARNING - 'ask_price' or 'bid_price' column missing; filling spread with 0.\n",
      "2025-08-18 19:21:14,608 - INFO - Spread has 0 NaNs\n",
      "2025-08-18 19:21:14,615 - INFO - Imputing 79 NaN rows with 0.5 sentinel value\n",
      "2025-08-18 19:21:14,623 - INFO - Processing AMZN …\n",
      "2025-08-18 19:21:14,677 - WARNING - 'ask_price' or 'bid_price' column missing; filling spread with 0.\n",
      "2025-08-18 19:21:14,677 - INFO - Spread has 0 NaNs\n",
      "2025-08-18 19:21:14,694 - INFO - Imputing 79 NaN rows with 0.5 sentinel value\n",
      "2025-08-18 19:21:14,703 - INFO - Processing AXP …\n",
      "2025-08-18 19:21:14,768 - WARNING - 'ask_price' or 'bid_price' column missing; filling spread with 0.\n",
      "2025-08-18 19:21:14,770 - INFO - Spread has 0 NaNs\n",
      "2025-08-18 19:21:14,776 - INFO - Imputing 79 NaN rows with 0.5 sentinel value\n",
      "2025-08-18 19:21:14,788 - INFO - Processing BA …\n",
      "2025-08-18 19:21:14,844 - WARNING - 'ask_price' or 'bid_price' column missing; filling spread with 0.\n",
      "2025-08-18 19:21:14,844 - INFO - Spread has 0 NaNs\n",
      "2025-08-18 19:21:14,858 - INFO - Imputing 79 NaN rows with 0.5 sentinel value\n",
      "2025-08-18 19:21:14,868 - INFO - Processing CAT …\n",
      "2025-08-18 19:21:14,933 - WARNING - 'ask_price' or 'bid_price' column missing; filling spread with 0.\n",
      "2025-08-18 19:21:14,935 - INFO - Spread has 0 NaNs\n",
      "2025-08-18 19:21:14,942 - INFO - Imputing 79 NaN rows with 0.5 sentinel value\n",
      "2025-08-18 19:21:14,946 - INFO - Processing CSCO …\n",
      "2025-08-18 19:21:15,011 - WARNING - 'ask_price' or 'bid_price' column missing; filling spread with 0.\n",
      "2025-08-18 19:21:15,013 - INFO - Spread has 0 NaNs\n",
      "2025-08-18 19:21:15,019 - INFO - Imputing 79 NaN rows with 0.5 sentinel value\n",
      "2025-08-18 19:21:15,027 - INFO - Processing CVX …\n",
      "2025-08-18 19:21:15,079 - WARNING - 'ask_price' or 'bid_price' column missing; filling spread with 0.\n",
      "2025-08-18 19:21:15,079 - INFO - Spread has 0 NaNs\n",
      "2025-08-18 19:21:15,098 - INFO - Imputing 79 NaN rows with 0.5 sentinel value\n",
      "2025-08-18 19:21:15,104 - INFO - Processing DIS …\n",
      "2025-08-18 19:21:15,171 - WARNING - 'ask_price' or 'bid_price' column missing; filling spread with 0.\n",
      "2025-08-18 19:21:15,174 - INFO - Spread has 0 NaNs\n",
      "2025-08-18 19:21:15,179 - INFO - Imputing 79 NaN rows with 0.5 sentinel value\n",
      "2025-08-18 19:21:15,179 - INFO - Processing GS …\n",
      "2025-08-18 19:21:15,259 - WARNING - 'ask_price' or 'bid_price' column missing; filling spread with 0.\n",
      "2025-08-18 19:21:15,261 - INFO - Spread has 0 NaNs\n",
      "2025-08-18 19:21:15,266 - INFO - Imputing 79 NaN rows with 0.5 sentinel value\n",
      "2025-08-18 19:21:15,274 - INFO - Processing HD …\n",
      "2025-08-18 19:21:15,329 - WARNING - 'ask_price' or 'bid_price' column missing; filling spread with 0.\n",
      "2025-08-18 19:21:15,329 - INFO - Spread has 0 NaNs\n",
      "2025-08-18 19:21:15,329 - INFO - Imputing 79 NaN rows with 0.5 sentinel value\n",
      "2025-08-18 19:21:15,349 - INFO - Processing HON …\n",
      "2025-08-18 19:21:15,413 - WARNING - 'ask_price' or 'bid_price' column missing; filling spread with 0.\n",
      "2025-08-18 19:21:15,413 - INFO - Spread has 0 NaNs\n",
      "2025-08-18 19:21:15,413 - INFO - Imputing 79 NaN rows with 0.5 sentinel value\n",
      "2025-08-18 19:21:15,430 - INFO - Processing IBM …\n",
      "2025-08-18 19:21:15,493 - WARNING - 'ask_price' or 'bid_price' column missing; filling spread with 0.\n",
      "2025-08-18 19:21:15,495 - INFO - Spread has 0 NaNs\n",
      "2025-08-18 19:21:15,504 - INFO - Imputing 79 NaN rows with 0.5 sentinel value\n",
      "2025-08-18 19:21:15,510 - INFO - Processing JNJ …\n",
      "2025-08-18 19:21:15,563 - WARNING - 'ask_price' or 'bid_price' column missing; filling spread with 0.\n",
      "2025-08-18 19:21:15,563 - INFO - Spread has 0 NaNs\n",
      "2025-08-18 19:21:15,576 - INFO - Imputing 79 NaN rows with 0.5 sentinel value\n",
      "2025-08-18 19:21:15,579 - INFO - Processing JPM …\n",
      "2025-08-18 19:21:15,638 - WARNING - 'ask_price' or 'bid_price' column missing; filling spread with 0.\n",
      "2025-08-18 19:21:15,640 - INFO - Spread has 0 NaNs\n",
      "2025-08-18 19:21:15,649 - INFO - Imputing 79 NaN rows with 0.5 sentinel value\n",
      "2025-08-18 19:21:15,653 - INFO - Processing KO …\n",
      "2025-08-18 19:21:15,712 - WARNING - 'ask_price' or 'bid_price' column missing; filling spread with 0.\n",
      "2025-08-18 19:21:15,715 - INFO - Spread has 0 NaNs\n",
      "2025-08-18 19:21:15,719 - INFO - Imputing 79 NaN rows with 0.5 sentinel value\n",
      "2025-08-18 19:21:15,728 - INFO - Processing MCD …\n",
      "2025-08-18 19:21:15,786 - WARNING - 'ask_price' or 'bid_price' column missing; filling spread with 0.\n",
      "2025-08-18 19:21:15,787 - INFO - Spread has 0 NaNs\n",
      "2025-08-18 19:21:15,793 - INFO - Imputing 79 NaN rows with 0.5 sentinel value\n",
      "2025-08-18 19:21:15,798 - INFO - Processing MMM …\n",
      "2025-08-18 19:21:15,851 - WARNING - 'ask_price' or 'bid_price' column missing; filling spread with 0.\n",
      "2025-08-18 19:21:15,856 - INFO - Spread has 0 NaNs\n",
      "2025-08-18 19:21:15,864 - INFO - Imputing 79 NaN rows with 0.5 sentinel value\n",
      "2025-08-18 19:21:15,867 - INFO - Processing MRK …\n",
      "2025-08-18 19:21:15,916 - WARNING - 'ask_price' or 'bid_price' column missing; filling spread with 0.\n",
      "2025-08-18 19:21:15,926 - INFO - Spread has 0 NaNs\n",
      "2025-08-18 19:21:15,932 - INFO - Imputing 79 NaN rows with 0.5 sentinel value\n",
      "2025-08-18 19:21:15,932 - INFO - Processing MSFT …\n",
      "2025-08-18 19:21:15,996 - WARNING - 'ask_price' or 'bid_price' column missing; filling spread with 0.\n",
      "2025-08-18 19:21:15,998 - INFO - Spread has 0 NaNs\n",
      "2025-08-18 19:21:16,002 - INFO - Imputing 79 NaN rows with 0.5 sentinel value\n",
      "2025-08-18 19:21:16,011 - INFO - Processing NKE …\n",
      "2025-08-18 19:21:16,069 - WARNING - 'ask_price' or 'bid_price' column missing; filling spread with 0.\n",
      "2025-08-18 19:21:16,071 - INFO - Spread has 0 NaNs\n",
      "2025-08-18 19:21:16,076 - INFO - Imputing 79 NaN rows with 0.5 sentinel value\n",
      "2025-08-18 19:21:16,080 - INFO - Processing NVDA …\n",
      "2025-08-18 19:21:16,154 - WARNING - 'ask_price' or 'bid_price' column missing; filling spread with 0.\n",
      "2025-08-18 19:21:16,170 - INFO - Spread has 0 NaNs\n",
      "2025-08-18 19:21:16,188 - INFO - Imputing 79 NaN rows with 0.5 sentinel value\n",
      "2025-08-18 19:21:16,200 - INFO - Processing PG …\n",
      "2025-08-18 19:21:16,288 - WARNING - 'ask_price' or 'bid_price' column missing; filling spread with 0.\n",
      "2025-08-18 19:21:16,290 - INFO - Spread has 0 NaNs\n",
      "2025-08-18 19:21:16,298 - INFO - Imputing 79 NaN rows with 0.5 sentinel value\n",
      "2025-08-18 19:21:16,300 - INFO - Processing SHW …\n",
      "2025-08-18 19:21:16,364 - WARNING - 'ask_price' or 'bid_price' column missing; filling spread with 0.\n",
      "2025-08-18 19:21:16,367 - INFO - Spread has 0 NaNs\n",
      "2025-08-18 19:21:16,373 - INFO - Imputing 79 NaN rows with 0.5 sentinel value\n",
      "2025-08-18 19:21:16,383 - INFO - Processing UNH …\n",
      "2025-08-18 19:21:16,449 - WARNING - 'ask_price' or 'bid_price' column missing; filling spread with 0.\n",
      "2025-08-18 19:21:16,450 - INFO - Spread has 0 NaNs\n",
      "2025-08-18 19:21:16,455 - INFO - Imputing 79 NaN rows with 0.5 sentinel value\n",
      "2025-08-18 19:21:16,465 - INFO - Processing VZ …\n",
      "2025-08-18 19:21:16,518 - WARNING - 'ask_price' or 'bid_price' column missing; filling spread with 0.\n",
      "2025-08-18 19:21:16,518 - INFO - Spread has 0 NaNs\n",
      "2025-08-18 19:21:16,532 - INFO - Imputing 79 NaN rows with 0.5 sentinel value\n",
      "2025-08-18 19:21:16,534 - INFO - Processing WMT …\n",
      "2025-08-18 19:21:16,594 - WARNING - 'ask_price' or 'bid_price' column missing; filling spread with 0.\n",
      "2025-08-18 19:21:16,596 - INFO - Spread has 0 NaNs\n",
      "2025-08-18 19:21:16,602 - INFO - Imputing 79 NaN rows with 0.5 sentinel value\n",
      "2025-08-18 19:21:17,252 - INFO - Finished feature generation. Dropped 0 assets by length threshold. Kept 27 assets with 2317 aligned rows each. Max features len prior to alignment: 2326\n"
     ]
    },
    {
     "data": {
      "text/plain": [
       "((2008, 27, 60, 15),\n",
       " (2008, 27),\n",
       " (2008, 27),\n",
       " (2008, 27),\n",
       " (2008, 27),\n",
       " (191, 27, 60, 15),\n",
       " (191, 27),\n",
       " (191, 27),\n",
       " (191, 27),\n",
       " (191, 27))"
      ]
     },
     "execution_count": 7,
     "metadata": {},
     "output_type": "execute_result"
    }
   ],
   "source": [
    "dataset_creator = DatasetCreator(\n",
    "    features=config.data_config.features,\n",
    "    target=config.data_config.target,\n",
    "    normalizer=config.data_config.normalizer,\n",
    "    missing_values_handler=config.data_config.missing_values_handler,\n",
    "    train_set_last_date=config.data_config.train_set_last_date, \n",
    "    cutoff_time=config.data_config.cutoff_time,\n",
    "    in_seq_len=config.data_config.in_seq_len,\n",
    "    multi_asset_prediction=config.data_config.multi_asset_prediction,\n",
    ")\n",
    "\n",
    "X_train, y_train, next_return_train, spread_train, volatility_train, X_test, y_test, next_return_test, spread_test, volatility_test = dataset_creator.create_dataset_numpy(retrieval_result)\n",
    "X_train.shape, y_train.shape, next_return_train.shape, spread_train.shape, volatility_train.shape, X_test.shape, y_test.shape, next_return_test.shape, spread_test.shape, volatility_test.shape"
   ]
  },
  {
   "cell_type": "code",
   "execution_count": 8,
   "id": "28ecd68c",
   "metadata": {},
   "outputs": [
    {
     "data": {
      "text/plain": [
       "0.35246432"
      ]
     },
     "execution_count": 8,
     "metadata": {},
     "output_type": "execute_result"
    }
   ],
   "source": [
    "np.sqrt(((y_train - np.ones_like(y_train) * 0.5)**2).mean())"
   ]
  },
  {
   "cell_type": "code",
   "execution_count": 9,
   "id": "66cf7e80",
   "metadata": {},
   "outputs": [
    {
     "data": {
      "text/plain": [
       "0.38802052"
      ]
     },
     "execution_count": 9,
     "metadata": {},
     "output_type": "execute_result"
    }
   ],
   "source": [
    "np.sqrt(((y_test - np.ones_like(y_test) * 0.5)**2).mean())"
   ]
  },
  {
   "cell_type": "code",
   "execution_count": 10,
   "id": "4bc91696",
   "metadata": {},
   "outputs": [
    {
     "data": {
      "text/plain": [
       "(0.50010604, 0.48017257)"
      ]
     },
     "execution_count": 10,
     "metadata": {},
     "output_type": "execute_result"
    }
   ],
   "source": [
    "y_train.mean(), y_test.mean()"
   ]
  },
  {
   "cell_type": "code",
   "execution_count": 11,
   "id": "b98a4882",
   "metadata": {},
   "outputs": [],
   "source": [
    "train_loader = DatasetPytorch(X_train, y_train, learning_task='regression').as_dataloader(\n",
    "    batch_size=config.train_config.batch_size,\n",
    "    shuffle=config.train_config.shuffle,\n",
    "    num_workers=config.train_config.num_workers,\n",
    "    prefetch_factor=config.train_config.prefetch_factor,\n",
    "    pin_memory=config.train_config.pin_memory,\n",
    "    persistent_workers=config.train_config.persistent_workers,\n",
    "    drop_last=config.train_config.drop_last\n",
    ")\n",
    "test_loader = DatasetPytorch(X_test, y_test, learning_task='regression').as_dataloader(\n",
    "    batch_size=config.train_config.batch_size,\n",
    "    shuffle=config.train_config.shuffle,\n",
    "    num_workers=config.train_config.num_workers,\n",
    "    prefetch_factor=config.train_config.prefetch_factor,\n",
    "    pin_memory=config.train_config.pin_memory,\n",
    "    persistent_workers=config.train_config.persistent_workers,\n",
    "    drop_last=config.train_config.drop_last\n",
    ")"
   ]
  },
  {
   "cell_type": "code",
   "execution_count": 12,
   "id": "8c4b5aa6",
   "metadata": {},
   "outputs": [
    {
     "data": {
      "text/plain": [
       "TemporalSpatial(\n",
       "  (lstm): LSTM(15, 128, num_layers=2, batch_first=True, dropout=0.3, bidirectional=True)\n",
       "  (spatial_attn): MultiheadAttention(\n",
       "    (out_proj): NonDynamicallyQuantizableLinear(in_features=256, out_features=256, bias=True)\n",
       "  )\n",
       "  (fc): Linear(in_features=256, out_features=1, bias=True)\n",
       "  (norm): LayerNorm((256,), eps=1e-05, elementwise_affine=True)\n",
       "  (dropout): Dropout(p=0.3, inplace=False)\n",
       ")"
      ]
     },
     "execution_count": 12,
     "metadata": {},
     "output_type": "execute_result"
    }
   ],
   "source": [
    "model = config.model_config.model\n",
    "model"
   ]
  },
  {
   "cell_type": "code",
   "execution_count": 13,
   "id": "488c61d8",
   "metadata": {},
   "outputs": [],
   "source": [
    "# model.load_state_dict(torch.load('../modeling/checkpoints/best_tech_1h_model.pth'))"
   ]
  },
  {
   "cell_type": "code",
   "execution_count": 14,
   "id": "5fa26ca6-8128-4e85-be01-34335ab51675",
   "metadata": {},
   "outputs": [
    {
     "data": {
      "text/plain": [
       "ExperimentConfig(data_config=DataConfig(symbol_or_symbols=['AAPL', 'AMD', 'BABA', 'BITU', 'C', 'CSCO', 'DAL', 'DIA', 'GLD', 'GOOG', 'IJR', 'MARA', 'MRVL', 'MU', 'NEE', 'NKE', 'NVDA', 'ON', 'PLTR', 'PYPL', 'QLD', 'QQQ', 'QQQM', 'RKLB', 'RSP', 'SMCI', 'SMH', 'SOXL', 'SOXX', 'SPXL', 'SPY', 'TMF', 'TNA', 'TQQQ', 'TSLA', 'UBER', 'UDOW', 'UPRO', 'VOO', 'WFC', 'XBI', 'XLC', 'XLE', 'XLI', 'XLK', 'XLU', 'XLV', 'XLY', 'XOM', 'XRT'], frequency=<alpaca.data.timeframe.TimeFrame object at 0x000002CC5E37FB00>, start=datetime.datetime(2024, 6, 1, 0, 0, tzinfo=datetime.timezone.utc), end=datetime.datetime(2025, 6, 1, 0, 0, tzinfo=datetime.timezone.utc), features={'log_ret': <function <lambda> at 0x000002CC5E39A0C0>, 'hl_range': <function <lambda> at 0x000002CC5E39A160>, 'close_open': <function <lambda> at 0x000002CC5E3B0900>, 'vol_delta': <function <lambda> at 0x000002CC5E3B09A0>, 'EMA_fast': <data.processed.indicators.EMA object at 0x000002CC5E39D7F0>, 'EMA_slow': <data.processed.indicators.EMA object at 0x000002CC5E39D910>, 'RSI2': <data.processed.indicators.RSI object at 0x000002CC5E39D940>, 'RSI6': <data.processed.indicators.RSI object at 0x000002CC5E39D9A0>, 'realvol20': <function <lambda> at 0x000002CC5E3B0A40>, 'VWAP_dist': <function <lambda> at 0x000002CC5E3B0AE0>, 'loc_in_range': <function <lambda> at 0x000002CC5E3B0B80>, 'tod_sin': <function <lambda> at 0x000002CC5E3B0C20>, 'tod_cos': <function <lambda> at 0x000002CC5E3B0CC0>, 'ema_slope': <function <lambda> at 0x000002CC5E3B0D60>, 'vol_slope': <function <lambda> at 0x000002CC5E3B0E00>}, target=<data.processed.targets.FutureHorizonReturnClassification object at 0x000002CC5E39DA00>, normalizer=<data.processed.normalization.MinMaxNormalizerOverWindow object at 0x000002CC5E39DA30>, missing_values_handler=<data.processed.missing_values_handling.DummyMissingValuesHandler object at 0x000002CC5E39DA60>, in_seq_len=60, train_set_last_date=datetime.datetime(2007, 9, 1, 0, 0, tzinfo=datetime.timezone.utc), multi_asset_prediction=True, cutoff_time=datetime.time(13, 59)), model_config=ModelConfig(model=TemporalSpatial(\n",
       "  (lstm): LSTM(15, 128, num_layers=2, batch_first=True, dropout=0.3, bidirectional=True)\n",
       "  (spatial_attn): MultiheadAttention(\n",
       "    (out_proj): NonDynamicallyQuantizableLinear(in_features=256, out_features=256, bias=True)\n",
       "  )\n",
       "  (fc): Linear(in_features=256, out_features=1, bias=True)\n",
       "  (norm): LayerNorm((256,), eps=1e-05, elementwise_affine=True)\n",
       "  (dropout): Dropout(p=0.3, inplace=False)\n",
       "), registered_model_name='TemporalSpatial Regressor'), train_config=TrainConfig(loss_fn=MSELoss(), optimizer=AdamW (\n",
       "Parameter Group 0\n",
       "    amsgrad: True\n",
       "    betas: (0.9, 0.999)\n",
       "    capturable: False\n",
       "    differentiable: False\n",
       "    eps: 1e-08\n",
       "    foreach: None\n",
       "    fused: None\n",
       "    lr: 0.001\n",
       "    maximize: False\n",
       "    weight_decay: 0.01\n",
       "), scheduler={'type': 'OneCycleLR', 'max_lr': 0.001, 'pct_start': 0.2, 'div_factor': 25, 'final_div_factor': 10000.0, 'anneal_strategy': 'cos', 'cycle_momentum': False}, num_epochs=20, early_stopping_patience=10, device=device(type='cuda'), cudnn_benchmark=True, metrics={'rmse': <function rmse_regression at 0x000002CC5E3B02C0>}, batch_size=64, shuffle=True, num_workers=8, prefetch_factor=4, pin_memory=True, persistent_workers=True, drop_last=True, save_path=''), observability_config=ObservabilityConfig(experiment_name='Return Regression MLP'))"
      ]
     },
     "execution_count": 14,
     "metadata": {},
     "output_type": "execute_result"
    }
   ],
   "source": [
    "config"
   ]
  },
  {
   "cell_type": "code",
   "execution_count": 15,
   "id": "6a3858fd",
   "metadata": {},
   "outputs": [],
   "source": [
    "trainer = Trainer(\n",
    "    model=model,\n",
    "    train_loader=train_loader,\n",
    "    val_loader=test_loader,\n",
    "    loss_fn=config.train_config.loss_fn,\n",
    "    optimizer=config.train_config.optimizer,\n",
    "    scheduler=config.train_config.scheduler,\n",
    "    num_epochs=config.train_config.num_epochs,\n",
    "    device=config.train_config.device,\n",
    "    metrics=config.train_config.metrics,\n",
    "    save_path=config.train_config.save_path,\n",
    "    early_stopping_patience=config.train_config.early_stopping_patience,\n",
    ")"
   ]
  },
  {
   "cell_type": "code",
   "execution_count": 16,
   "id": "1da6d315-3bf8-452a-ba17-6badd562dd3a",
   "metadata": {},
   "outputs": [],
   "source": [
    "# 0.1154\n",
    "# 0.3397"
   ]
  },
  {
   "cell_type": "code",
   "execution_count": 17,
   "id": "f01c52e0",
   "metadata": {},
   "outputs": [
    {
     "name": "stderr",
     "output_type": "stream",
     "text": [
      "2025-08-18 19:21:23,401 - INFO - Epoch 1/20\n",
      "2025-08-18 19:21:36,936 - INFO - Train Loss: 0.2791      \n",
      "2025-08-18 19:21:36,937 - INFO - Train Rmse: 0.5268\n",
      "2025-08-18 19:21:36,938 - INFO - Val   Loss: 0.1650\n",
      "2025-08-18 19:21:36,938 - INFO - Val   Rmse: 0.4061\n",
      "2025-08-18 19:21:36,939 - INFO - \n",
      "2025-08-18 19:21:36,945 - INFO - Epoch 2/20\n",
      "2025-08-18 19:21:39,765 - INFO - Train Loss: 0.1608      \n",
      "2025-08-18 19:21:39,767 - INFO - Train Rmse: 0.4003\n",
      "2025-08-18 19:21:39,769 - INFO - Val   Loss: 0.1481\n",
      "2025-08-18 19:21:39,770 - INFO - Val   Rmse: 0.3848\n",
      "2025-08-18 19:21:39,771 - INFO - \n",
      "2025-08-18 19:21:39,775 - INFO - Epoch 3/20\n",
      "2025-08-18 19:21:42,538 - INFO - Train Loss: 0.1344      \n",
      "2025-08-18 19:21:42,539 - INFO - Train Rmse: 0.3663\n",
      "2025-08-18 19:21:42,540 - INFO - Val   Loss: 0.1427\n",
      "2025-08-18 19:21:42,541 - INFO - Val   Rmse: 0.3778\n",
      "2025-08-18 19:21:42,542 - INFO - \n",
      "2025-08-18 19:21:42,548 - INFO - Epoch 4/20\n",
      "2025-08-18 19:21:45,372 - INFO - Train Loss: 0.1356      \n",
      "2025-08-18 19:21:45,374 - INFO - Train Rmse: 0.3676\n",
      "2025-08-18 19:21:45,375 - INFO - Val   Loss: 0.1449\n",
      "2025-08-18 19:21:45,376 - INFO - Val   Rmse: 0.3807\n",
      "2025-08-18 19:21:45,376 - INFO - \n",
      "2025-08-18 19:21:45,377 - INFO - Epoch 5/20\n",
      "2025-08-18 19:21:48,286 - INFO - Train Loss: 0.1284      \n",
      "2025-08-18 19:21:48,286 - INFO - Train Rmse: 0.3582\n",
      "2025-08-18 19:21:48,288 - INFO - Val   Loss: 0.1596\n",
      "2025-08-18 19:21:48,288 - INFO - Val   Rmse: 0.3994\n",
      "2025-08-18 19:21:48,289 - INFO - \n",
      "2025-08-18 19:21:48,290 - INFO - Epoch 6/20\n",
      "2025-08-18 19:21:51,111 - INFO - Train Loss: 0.1307      \n",
      "2025-08-18 19:21:51,112 - INFO - Train Rmse: 0.3613\n",
      "2025-08-18 19:21:51,113 - INFO - Val   Loss: 0.1522\n",
      "2025-08-18 19:21:51,113 - INFO - Val   Rmse: 0.3902\n",
      "2025-08-18 19:21:51,114 - INFO - \n",
      "2025-08-18 19:21:51,115 - INFO - Epoch 7/20\n",
      "2025-08-18 19:21:53,942 - INFO - Train Loss: 0.1263      \n",
      "2025-08-18 19:21:53,942 - INFO - Train Rmse: 0.3553\n",
      "2025-08-18 19:21:53,943 - INFO - Val   Loss: 0.1444\n",
      "2025-08-18 19:21:53,944 - INFO - Val   Rmse: 0.3799\n",
      "2025-08-18 19:21:53,944 - INFO - \n",
      "2025-08-18 19:21:53,945 - INFO - Epoch 8/20\n",
      "2025-08-18 19:21:56,730 - INFO - Train Loss: 0.1260      \n",
      "2025-08-18 19:21:56,730 - INFO - Train Rmse: 0.3548\n",
      "2025-08-18 19:21:56,731 - INFO - Val   Loss: 0.1430\n",
      "2025-08-18 19:21:56,732 - INFO - Val   Rmse: 0.3780\n",
      "2025-08-18 19:21:56,733 - INFO - \n",
      "2025-08-18 19:21:56,733 - INFO - Epoch 9/20\n",
      "2025-08-18 19:21:59,636 - INFO - Train Loss: 0.1268      \n",
      "2025-08-18 19:21:59,638 - INFO - Train Rmse: 0.3560\n",
      "2025-08-18 19:21:59,638 - INFO - Val   Loss: 0.1461\n",
      "2025-08-18 19:21:59,639 - INFO - Val   Rmse: 0.3822\n",
      "2025-08-18 19:21:59,639 - INFO - \n",
      "2025-08-18 19:21:59,640 - INFO - Epoch 10/20\n",
      "2025-08-18 19:22:02,580 - INFO - Train Loss: 0.1271      \n",
      "2025-08-18 19:22:02,580 - INFO - Train Rmse: 0.3563\n",
      "2025-08-18 19:22:02,581 - INFO - Val   Loss: 0.1459\n",
      "2025-08-18 19:22:02,582 - INFO - Val   Rmse: 0.3819\n",
      "2025-08-18 19:22:02,582 - INFO - \n",
      "2025-08-18 19:22:02,583 - INFO - Epoch 11/20\n",
      "2025-08-18 19:22:05,675 - INFO - Train Loss: 0.1249      \n",
      "2025-08-18 19:22:05,676 - INFO - Train Rmse: 0.3533\n",
      "2025-08-18 19:22:05,677 - INFO - Val   Loss: 0.1407\n",
      "2025-08-18 19:22:05,678 - INFO - Val   Rmse: 0.3751\n",
      "2025-08-18 19:22:05,679 - INFO - \n",
      "2025-08-18 19:22:05,683 - INFO - Epoch 12/20\n",
      "2025-08-18 19:22:08,755 - INFO - Train Loss: 0.1247      \n",
      "2025-08-18 19:22:08,756 - INFO - Train Rmse: 0.3531\n",
      "2025-08-18 19:22:08,757 - INFO - Val   Loss: 0.1506\n",
      "2025-08-18 19:22:08,758 - INFO - Val   Rmse: 0.3880\n",
      "2025-08-18 19:22:08,759 - INFO - \n",
      "2025-08-18 19:22:08,760 - INFO - Epoch 13/20\n",
      "2025-08-18 19:22:11,860 - INFO - Train Loss: 0.1283      \n",
      "2025-08-18 19:22:11,861 - INFO - Train Rmse: 0.3581\n",
      "2025-08-18 19:22:11,862 - INFO - Val   Loss: 0.1461\n",
      "2025-08-18 19:22:11,863 - INFO - Val   Rmse: 0.3822\n",
      "2025-08-18 19:22:11,863 - INFO - \n",
      "2025-08-18 19:22:11,865 - INFO - Epoch 14/20\n",
      "2025-08-18 19:22:15,033 - INFO - Train Loss: 0.1240      \n",
      "2025-08-18 19:22:15,034 - INFO - Train Rmse: 0.3520\n",
      "2025-08-18 19:22:15,035 - INFO - Val   Loss: 0.1443\n",
      "2025-08-18 19:22:15,036 - INFO - Val   Rmse: 0.3799\n",
      "2025-08-18 19:22:15,036 - INFO - \n",
      "2025-08-18 19:22:15,037 - INFO - Epoch 15/20\n",
      "2025-08-18 19:22:18,299 - INFO - Train Loss: 0.1237      \n",
      "2025-08-18 19:22:18,301 - INFO - Train Rmse: 0.3516\n",
      "2025-08-18 19:22:18,301 - INFO - Val   Loss: 0.1506\n",
      "2025-08-18 19:22:18,301 - INFO - Val   Rmse: 0.3880\n",
      "2025-08-18 19:22:18,302 - INFO - \n",
      "2025-08-18 19:22:18,303 - INFO - Epoch 16/20\n",
      "2025-08-18 19:22:21,705 - INFO - Train Loss: 0.1229      \n",
      "2025-08-18 19:22:21,707 - INFO - Train Rmse: 0.3506\n",
      "2025-08-18 19:22:21,707 - INFO - Val   Loss: 0.1453\n",
      "2025-08-18 19:22:21,707 - INFO - Val   Rmse: 0.3811\n",
      "2025-08-18 19:22:21,708 - INFO - \n",
      "2025-08-18 19:22:21,708 - INFO - Epoch 17/20\n",
      "2025-08-18 19:22:25,073 - INFO - Train Loss: 0.1227      \n",
      "2025-08-18 19:22:25,073 - INFO - Train Rmse: 0.3502\n",
      "2025-08-18 19:22:25,073 - INFO - Val   Loss: 0.1449\n",
      "2025-08-18 19:22:25,075 - INFO - Val   Rmse: 0.3807\n",
      "2025-08-18 19:22:25,076 - INFO - \n",
      "2025-08-18 19:22:25,077 - INFO - Epoch 18/20\n",
      "2025-08-18 19:22:28,488 - INFO - Train Loss: 0.1222      \n",
      "2025-08-18 19:22:28,489 - INFO - Train Rmse: 0.3495\n",
      "2025-08-18 19:22:28,489 - INFO - Val   Loss: 0.1442\n",
      "2025-08-18 19:22:28,490 - INFO - Val   Rmse: 0.3798\n",
      "2025-08-18 19:22:28,490 - INFO - \n",
      "2025-08-18 19:22:28,492 - INFO - Epoch 19/20\n",
      "2025-08-18 19:22:32,043 - INFO - Train Loss: 0.1222      \n",
      "2025-08-18 19:22:32,044 - INFO - Train Rmse: 0.3495\n",
      "2025-08-18 19:22:32,044 - INFO - Val   Loss: 0.1482\n",
      "2025-08-18 19:22:32,045 - INFO - Val   Rmse: 0.3849\n",
      "2025-08-18 19:22:32,045 - INFO - \n",
      "2025-08-18 19:22:32,047 - INFO - Epoch 20/20\n",
      "2025-08-18 19:22:35,587 - INFO - Train Loss: 0.1222      \n",
      "2025-08-18 19:22:35,588 - INFO - Train Rmse: 0.3494\n",
      "2025-08-18 19:22:35,589 - INFO - Val   Loss: 0.1483\n",
      "2025-08-18 19:22:35,590 - INFO - Val   Rmse: 0.3851\n",
      "2025-08-18 19:22:35,590 - INFO - \n"
     ]
    }
   ],
   "source": [
    "model, history = trainer.train()"
   ]
  },
  {
   "cell_type": "code",
   "execution_count": null,
   "id": "3ee085a5-1251-4816-84f2-f591c882b992",
   "metadata": {},
   "outputs": [],
   "source": [
    "train_trajectory_loader = TrajectoryDataset(X_train, next_return_train, spread_train, volatility_train, trajectory_length=20).as_dataloader(\n",
    "    batch_size=8, \n",
    "    shuffle=True,\n",
    "    num_workers=8,\n",
    "    prefetch_factor=4,\n",
    "    pin_memory=True,\n",
    "    persistent_workers=True,\n",
    "    drop_last=True,\n",
    ")\n",
    "val_trajectory_loader = TrajectoryDataset(X_test, next_return_test, spread_test, volatility_test, trajectory_length=20).as_dataloader(\n",
    "    batch_size=8, \n",
    "    shuffle=False,\n",
    "    num_workers=8,\n",
    "    prefetch_factor=4,\n",
    "    pin_memory=True,\n",
    "    persistent_workers=True,\n",
    "    drop_last=True,\n",
    ")"
   ]
  },
  {
   "cell_type": "code",
   "execution_count": 23,
   "id": "e041b148-50dc-4ca0-88cb-43761885bf81",
   "metadata": {},
   "outputs": [],
   "source": [
    "env = PortfolioEnvironment(\n",
    "    reward_function=EstimatedReturnReward(fee=0.001, spread_multiplier=0.0),\n",
    ")\n",
    "\n",
    "backend = FullyConnectedBackend(\n",
    "    n_assets=len(config.data_config.symbol_or_symbols),\n",
    "    hidden_dim=128,\n",
    "    num_layers=2, \n",
    "    dropout=0.1,\n",
    "    use_layer_norm=False,\n",
    ")\n",
    "\n",
    "actor = RlActor(\n",
    "    model, \n",
    "    backend,\n",
    "    n_assets=len(config.data_config.symbol_or_symbols),\n",
    "    train_signal_predictor=False, \n",
    "    exploration_eps=0.0\n",
    ").to(device)\n",
    "\n",
    "signal_predictor_actor = SignalPredictorActor(\n",
    "    model, \n",
    "    trade_asset_count=1,\n",
    "    train_signal_predictor=False\n",
    ").to(device)\n",
    "\n",
    "rl_agent = RlAgent(\n",
    "    actor, \n",
    "    env,\n",
    "    single_action_per_trajectory=True\n",
    ")\n",
    "\n",
    "metrics_calculator = MetricsCalculator(\n",
    "    metrics=DEFAULT_METRICS\n",
    ")\n",
    "\n",
    "policy_gradient = PolicyGradient(\n",
    "    rl_agent, \n",
    "    train_trajectory_loader, \n",
    "    val_trajectory_loader, \n",
    "    metrics_calculator=metrics_calculator,\n",
    "    optimizer=torch.optim.AdamW(\n",
    "        [p for p in actor.parameters() if p.requires_grad], \n",
    "        lr=1e-3,\n",
    "        weight_decay=1e-5,\n",
    "        amsgrad=True),\n",
    "    scheduler=None,\n",
    "    loss_fn=SumLogReturnLoss(use_baseline=False),\n",
    "    num_epochs=10,\n",
    "    device=device\n",
    ")"
   ]
  },
  {
   "cell_type": "code",
   "execution_count": 24,
   "id": "0fa8dec5-eaf9-4f91-af35-30ea24c0e174",
   "metadata": {},
   "outputs": [
    {
     "name": "stderr",
     "output_type": "stream",
     "text": [
      "Val Epoch 0/10:   0%|          | 0/2 [00:00<?, ?it/s]"
     ]
    },
    {
     "name": "stderr",
     "output_type": "stream",
     "text": [
      "2025-08-18 19:23:26,364 - INFO - [PolicyGradient] [VAL] Epoch 0/10 — CumulativeReturn: 0.2954, MeanReturnPercentage: 0.1947, ARR: 52395011269497507060282352897801635624327242826878396613749496700400427859968.0000, AVOL: 5.4086, MDD: -0.1438, ASR: 9687364225378609275946845908100203351307257879971971273486125032667380449280.0000, CR: 364262411006904434044361676297358874671692916646914007195951503703093102510080.0000, DDR: 14919701415770100294539904669697921458543157081109575823675904261810116624384.0000\n"
     ]
    },
    {
     "name": "stdout",
     "output_type": "stream",
     "text": [
      "[PolicyGradient] [VAL] Epoch 0/10 — Loss: -0.0324\n"
     ]
    }
   ],
   "source": [
    "epoch_loss, realized_returns_signal_predictor, actions_signal_predictor = policy_gradient.evaluate(signal_predictor_actor)"
   ]
  },
  {
   "cell_type": "code",
   "execution_count": null,
   "id": "d90bae79",
   "metadata": {},
   "outputs": [],
   "source": []
  },
  {
   "cell_type": "code",
   "execution_count": 25,
   "id": "1c7dcead-f58a-4306-84ab-9ca83cfb332c",
   "metadata": {},
   "outputs": [
    {
     "data": {
      "image/png": "[encoded data removed]",
      "text/plain": [
       "<Figure size 1200x600 with 1 Axes>"
      ]
     },
     "metadata": {},
     "output_type": "display_data"
    }
   ],
   "source": [
    "plot_cumulative_wealth(\n",
    "    returns_dict={\n",
    "        'Signal Predictor': realized_returns_signal_predictor,\n",
    "    }, \n",
    "    start_time=config.data_config.train_set_last_date, \n",
    "    end_time=config.data_config.end\n",
    ")"
   ]
  },
  {
   "cell_type": "code",
   "execution_count": 24,
   "id": "9955c8f6",
   "metadata": {},
   "outputs": [],
   "source": [
    "import copy  # Local import to avoid polluting global namespace unnecessarily\n",
    "state_dict = (\n",
    "    model.module.state_dict()\n",
    "        if isinstance(model, torch.nn.DataParallel)\n",
    "    else model.state_dict()\n",
    ")\n",
    "\n",
    "# Keep a local copy of the best weights so we can return the best model\n",
    "# after training finishes, without needing to reload from disk.\n",
    "best_model_state = copy.deepcopy(state_dict)\n",
    "\n",
    "# Persist to disk if a save_path was provided\n",
    "torch.save(state_dict, \"best_model.pth\")"
   ]
  },
  {
   "cell_type": "code",
   "execution_count": 20,
   "id": "ed829636",
   "metadata": {},
   "outputs": [
    {
     "name": "stderr",
     "output_type": "stream",
     "text": [
      "2025/06/26 15:35:13 WARNING mlflow.models.model: Model logged without a signature and input example. Please set `input_example` parameter when logging the model to auto infer the model signature.\n",
      "Registered model 'LSTM Default' already exists. Creating a new version of this model...\n",
      "2025/06/26 15:35:14 INFO mlflow.store.model_registry.abstract_store: Waiting up to 300 seconds for model version to finish creation. Model name: LSTM Default, version 10\n"
     ]
    },
    {
     "name": "stdout",
     "output_type": "stream",
     "text": [
      "🏃 View run gentle-loon-699 at: http://127.0.0.1:8080/#/experiments/439216085822475480/runs/54deb1104660468d9ffb4e7e278e9cfb\n",
      "🧪 View experiment at: http://127.0.0.1:8080/#/experiments/439216085822475480\n"
     ]
    },
    {
     "name": "stderr",
     "output_type": "stream",
     "text": [
      "Created version '10' of model 'LSTM Default'.\n"
     ]
    }
   ],
   "source": [
    "log_experiment(\n",
    "    config=config, \n",
    "    model=model, \n",
    "    history=history,\n",
    "    input_data_sample=next(iter(train_loader))[0].to(trainer.device))"
   ]
  },
  {
   "cell_type": "code",
   "execution_count": 10,
   "id": "6c286205",
   "metadata": {},
   "outputs": [
    {
     "name": "stderr",
     "output_type": "stream",
     "text": [
      "c:\\Users\\ikurnosau\\anaconda3\\envs\\mldl\\Lib\\site-packages\\sklearn\\utils\\deprecation.py:151: FutureWarning: 'force_all_finite' was renamed to 'ensure_all_finite' in 1.6 and will be removed in 1.8.\n",
      "  warnings.warn(\n"
     ]
    },
    {
     "name": "stdout",
     "output_type": "stream",
     "text": [
      "[LightGBM] [Info] Auto-choosing col-wise multi-threading, the overhead of testing was 0.000873 seconds.\n",
      "You can set `force_col_wise=true` to remove the overhead.\n",
      "[LightGBM] [Info] Total Bins 9435\n",
      "[LightGBM] [Info] Number of data points in the train set: 7371, number of used features: 37\n",
      "[LightGBM] [Info] Start training from score 0.497863\n",
      "[LightGBM] [Warning] No further splits with positive gain, best gain: -inf\n",
      "[LightGBM] [Warning] No further splits with positive gain, best gain: -inf\n",
      "[LightGBM] [Warning] No further splits with positive gain, best gain: -inf\n",
      "[LightGBM] [Warning] No further splits with positive gain, best gain: -inf\n",
      "[LightGBM] [Warning] No further splits with positive gain, best gain: -inf\n",
      "[LightGBM] [Warning] No further splits with positive gain, best gain: -inf\n",
      "[LightGBM] [Warning] No further splits with positive gain, best gain: -inf\n",
      "[LightGBM] [Warning] No further splits with positive gain, best gain: -inf\n",
      "[LightGBM] [Warning] No further splits with positive gain, best gain: -inf\n",
      "[LightGBM] [Warning] No further splits with positive gain, best gain: -inf\n",
      "[LightGBM] [Warning] No further splits with positive gain, best gain: -inf\n",
      "[LightGBM] [Warning] No further splits with positive gain, best gain: -inf\n",
      "[LightGBM] [Warning] No further splits with positive gain, best gain: -inf\n",
      "[LightGBM] [Warning] No further splits with positive gain, best gain: -inf\n",
      "[LightGBM] [Warning] No further splits with positive gain, best gain: -inf\n",
      "[LightGBM] [Warning] No further splits with positive gain, best gain: -inf\n",
      "[LightGBM] [Warning] No further splits with positive gain, best gain: -inf\n",
      "[LightGBM] [Warning] No further splits with positive gain, best gain: -inf\n",
      "[LightGBM] [Warning] No further splits with positive gain, best gain: -inf\n",
      "[LightGBM] [Warning] No further splits with positive gain, best gain: -inf\n",
      "[LightGBM] [Warning] No further splits with positive gain, best gain: -inf\n",
      "Train rmse: 0.26411260601695974, Test rmse: 0.2684210886033184, Baseline rmse: 0.2599985897541046\n",
      "Expected return: 0.00010183148393891163, Baseline return: 2.569958041931386e-06, Max possible return 0.00048079571570269763\n"
     ]
    },
    {
     "name": "stderr",
     "output_type": "stream",
     "text": [
      "c:\\Users\\ikurnosau\\anaconda3\\envs\\mldl\\Lib\\site-packages\\sklearn\\utils\\deprecation.py:151: FutureWarning: 'force_all_finite' was renamed to 'ensure_all_finite' in 1.6 and will be removed in 1.8.\n",
      "  warnings.warn(\n",
      "c:\\Users\\ikurnosau\\anaconda3\\envs\\mldl\\Lib\\site-packages\\sklearn\\utils\\deprecation.py:151: FutureWarning: 'force_all_finite' was renamed to 'ensure_all_finite' in 1.6 and will be removed in 1.8.\n",
      "  warnings.warn(\n"
     ]
    }
   ],
   "source": [
    "evaluate_lgb_regressor(X_train, y_train, X_test, y_test, next_return_test)"
   ]
  }
 ],
 "metadata": {
  "kernelspec": {
   "display_name": "mldl",
   "language": "python",
   "name": "python3"
  },
  "language_info": {
   "codemirror_mode": {
    "name": "ipython",
    "version": 3
   },
   "file_extension": ".py",
   "mimetype": "text/x-python",
   "name": "python",
   "nbconvert_exporter": "python",
   "pygments_lexer": "ipython3",
   "version": "3.12.7"
  }
 },
 "nbformat": 4,
 "nbformat_minor": 5
}

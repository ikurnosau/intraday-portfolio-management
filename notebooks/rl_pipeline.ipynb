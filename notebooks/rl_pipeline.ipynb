{
 "cells": [
  {
   "cell_type": "code",
   "execution_count": 15,
   "id": "69413cc2",
   "metadata": {},
   "outputs": [],
   "source": [
    "import sys\n",
    "import os\n",
    "sys.path.append(os.path.abspath(os.path.join(os.getcwd(), '..')))\n",
    "\n",
    "import pandas as pd\n",
    "import torch\n",
    "from datetime import datetime, timezone\n",
    "import logging\n",
    "\n",
    "logging.basicConfig(\n",
    "    level=logging.INFO,  # Set the logging level\n",
    "    format='%(asctime)s - %(levelname)s - %(message)s',  # Format for the log messages\n",
    "    handlers=[\n",
    "        logging.StreamHandler()  # Log to the console\n",
    "    ]\n",
    ")\n",
    "\n",
    "%reload_ext autoreload\n",
    "%autoreload 2\n",
    "from data.raw.retrievers.alpaca_markets_retriever import AlpacaMarketsRetriever\n",
    "from config.constants import *\n",
    "from data.processed.dataset_creation import DatasetCreator\n",
    "from data.processed.indicators import *\n",
    "from data.processed.targets import Balanced3ClassClassification\n",
    "from data.processed.normalization import ZScoreOverWindowNormalizer, ZScoreNormalizer, MinMaxNormalizer\n",
    "from data.processed.dataset_pytorch import DatasetPytorch\n",
    "from modeling.trainer import Trainer\n",
    "from modeling.evaluate import evaluate_lgb_regressor, evaluate_torch_regressor, evaluate_torch_regressor_multiasset\n",
    "from observability.mlflow_integration import log_experiment\n",
    "\n",
    "from modeling.rl.environment import PortfolioEnvironment\n",
    "from modeling.rl.state import State\n",
    "from modeling.rl.agent import RlAgent\n",
    "from modeling.rl.algorithms.policy_gradient import PolicyGradient\n",
    "from modeling.rl.actors.actor import RlActor\n",
    "from modeling.rl.trajectory_dataset import TrajectoryDataset\n",
    "\n",
    "from config.experiments.cur_experiment import config\n",
    "\n",
    "torch.backends.cudnn.benchmark = config.train_config.cudnn_benchmark\n"
   ]
  },
  {
   "cell_type": "code",
   "execution_count": 3,
   "id": "2a2c2dca",
   "metadata": {},
   "outputs": [],
   "source": [
    "retriever = AlpacaMarketsRetriever(download_from_gdrive=False)\n",
    "\n",
    "retrieval_result = retriever.bars_with_quotes(\n",
    "    symbol_or_symbols=config.data_config.symbol_or_symbols, \n",
    "    start=config.data_config.start, \n",
    "    end=config.data_config.end)"
   ]
  },
  {
   "cell_type": "code",
   "execution_count": 4,
   "id": "81de79a2",
   "metadata": {},
   "outputs": [
    {
     "name": "stderr",
     "output_type": "stream",
     "text": [
      "2025-07-20 18:21:24,113 - INFO - Processing AAPL …\n",
      "2025-07-20 18:21:24,452 - INFO - Imputing 496 NaN rows out of 97359 with forward fill..\n",
      "2025-07-20 18:21:24,785 - INFO - Imputing 39 NaN rows with 0.5 sentinel value\n",
      "2025-07-20 18:21:24,803 - INFO - Processing AMD …\n",
      "2025-07-20 18:21:25,131 - INFO - Imputing 214 NaN rows out of 97359 with forward fill..\n",
      "2025-07-20 18:21:25,445 - INFO - Imputing 39 NaN rows with 0.5 sentinel value\n",
      "2025-07-20 18:21:25,461 - INFO - Processing BABA …\n",
      "2025-07-20 18:21:25,774 - INFO - Imputing 874 NaN rows out of 97359 with forward fill..\n",
      "2025-07-20 18:21:26,088 - INFO - Imputing 39 NaN rows with 0.5 sentinel value\n",
      "2025-07-20 18:21:26,108 - INFO - Processing BITU …\n",
      "2025-07-20 18:21:26,628 - INFO - Imputing 6493 NaN rows out of 97359 with forward fill..\n",
      "2025-07-20 18:21:26,946 - INFO - Imputing 39 NaN rows with 0.5 sentinel value\n",
      "2025-07-20 18:21:26,963 - INFO - Processing CSCO …\n",
      "2025-07-20 18:21:27,241 - INFO - Imputing 3929 NaN rows out of 97359 with forward fill..\n",
      "2025-07-20 18:21:27,541 - INFO - Imputing 39 NaN rows with 0.5 sentinel value\n",
      "2025-07-20 18:21:27,563 - INFO - Processing C …\n",
      "2025-07-20 18:21:27,838 - INFO - Imputing 3733 NaN rows out of 97359 with forward fill..\n",
      "2025-07-20 18:21:28,145 - INFO - Imputing 39 NaN rows with 0.5 sentinel value\n",
      "2025-07-20 18:21:28,162 - INFO - Processing DAL …\n",
      "2025-07-20 18:21:28,426 - INFO - Imputing 4112 NaN rows out of 97359 with forward fill..\n",
      "2025-07-20 18:21:28,754 - INFO - Imputing 39 NaN rows with 0.5 sentinel value\n",
      "2025-07-20 18:21:28,774 - INFO - Processing DIA …\n",
      "2025-07-20 18:21:29,080 - INFO - Imputing 3842 NaN rows out of 97359 with forward fill..\n",
      "2025-07-20 18:21:29,402 - INFO - Imputing 39 NaN rows with 0.5 sentinel value\n",
      "2025-07-20 18:21:29,420 - INFO - Processing GLD …\n",
      "2025-07-20 18:21:29,741 - INFO - Imputing 1989 NaN rows out of 97359 with forward fill..\n",
      "2025-07-20 18:21:30,050 - INFO - Imputing 39 NaN rows with 0.5 sentinel value\n",
      "2025-07-20 18:21:30,074 - INFO - Processing GOOG …\n",
      "2025-07-20 18:21:30,371 - INFO - Imputing 1161 NaN rows out of 97359 with forward fill..\n",
      "2025-07-20 18:21:30,695 - INFO - Imputing 39 NaN rows with 0.5 sentinel value\n",
      "2025-07-20 18:21:30,717 - INFO - Processing IJR …\n",
      "2025-07-20 18:21:30,991 - INFO - Imputing 5204 NaN rows out of 97359 with forward fill..\n",
      "2025-07-20 18:21:31,314 - INFO - Imputing 39 NaN rows with 0.5 sentinel value\n",
      "2025-07-20 18:21:31,330 - INFO - Processing MARA …\n",
      "2025-07-20 18:21:31,686 - INFO - Imputing 108 NaN rows out of 97359 with forward fill..\n",
      "2025-07-20 18:21:32,000 - INFO - Imputing 39 NaN rows with 0.5 sentinel value\n",
      "2025-07-20 18:21:32,020 - INFO - Processing MRVL …\n",
      "2025-07-20 18:21:32,520 - INFO - Imputing 2386 NaN rows out of 97359 with forward fill..\n",
      "2025-07-20 18:21:32,852 - INFO - Imputing 39 NaN rows with 0.5 sentinel value\n",
      "2025-07-20 18:21:32,872 - INFO - Processing MU …\n",
      "2025-07-20 18:21:33,187 - INFO - Imputing 838 NaN rows out of 97359 with forward fill..\n",
      "2025-07-20 18:21:33,500 - INFO - Imputing 39 NaN rows with 0.5 sentinel value\n",
      "2025-07-20 18:21:33,521 - INFO - Processing NEE …\n",
      "2025-07-20 18:21:33,833 - INFO - Imputing 4731 NaN rows out of 97359 with forward fill..\n",
      "2025-07-20 18:21:34,151 - INFO - Imputing 39 NaN rows with 0.5 sentinel value\n",
      "2025-07-20 18:21:34,171 - INFO - Processing NKE …\n",
      "2025-07-20 18:21:34,471 - INFO - Imputing 2509 NaN rows out of 97359 with forward fill..\n",
      "2025-07-20 18:21:34,800 - INFO - Imputing 39 NaN rows with 0.5 sentinel value\n",
      "2025-07-20 18:21:34,817 - INFO - Processing NVDA …\n",
      "2025-07-20 18:21:35,171 - INFO - Imputing 1 NaN rows out of 97359 with forward fill..\n",
      "2025-07-20 18:21:35,487 - INFO - Imputing 39 NaN rows with 0.5 sentinel value\n",
      "2025-07-20 18:21:35,507 - INFO - Processing ON …\n",
      "2025-07-20 18:21:35,781 - INFO - Imputing 4325 NaN rows out of 97359 with forward fill..\n",
      "2025-07-20 18:21:36,092 - INFO - Imputing 39 NaN rows with 0.5 sentinel value\n",
      "2025-07-20 18:21:36,113 - INFO - Processing PLTR …\n",
      "2025-07-20 18:21:36,441 - INFO - Imputing 58 NaN rows out of 97359 with forward fill..\n",
      "2025-07-20 18:21:36,760 - INFO - Imputing 39 NaN rows with 0.5 sentinel value\n",
      "2025-07-20 18:21:36,779 - INFO - Processing PYPL …\n",
      "2025-07-20 18:21:37,095 - INFO - Imputing 3097 NaN rows out of 97359 with forward fill..\n",
      "2025-07-20 18:21:37,421 - INFO - Imputing 39 NaN rows with 0.5 sentinel value\n",
      "2025-07-20 18:21:37,440 - INFO - Processing QLD …\n",
      "2025-07-20 18:21:37,765 - INFO - Imputing 4196 NaN rows out of 97359 with forward fill..\n",
      "2025-07-20 18:21:38,089 - INFO - Imputing 39 NaN rows with 0.5 sentinel value\n",
      "2025-07-20 18:21:38,102 - INFO - Processing QQQM …\n",
      "2025-07-20 18:21:38,384 - INFO - Imputing 5090 NaN rows out of 97359 with forward fill..\n",
      "2025-07-20 18:21:38,700 - INFO - Imputing 39 NaN rows with 0.5 sentinel value\n",
      "2025-07-20 18:21:38,723 - INFO - Processing QQQ …\n",
      "2025-07-20 18:21:39,050 - INFO - Imputing 152 NaN rows out of 97359 with forward fill..\n",
      "2025-07-20 18:21:39,375 - INFO - Imputing 39 NaN rows with 0.5 sentinel value\n",
      "2025-07-20 18:21:39,394 - INFO - Processing RKLB …\n",
      "2025-07-20 18:21:39,937 - INFO - Imputing 659 NaN rows out of 97359 with forward fill..\n",
      "2025-07-20 18:21:40,252 - INFO - Imputing 39 NaN rows with 0.5 sentinel value\n",
      "2025-07-20 18:21:40,273 - INFO - Processing RSP …\n",
      "2025-07-20 18:21:40,544 - INFO - Imputing 4643 NaN rows out of 97359 with forward fill..\n",
      "2025-07-20 18:21:40,871 - INFO - Imputing 39 NaN rows with 0.5 sentinel value\n",
      "2025-07-20 18:21:40,899 - INFO - Processing SMCI …\n",
      "2025-07-20 18:21:41,220 - INFO - Imputing 242 NaN rows out of 97359 with forward fill..\n",
      "2025-07-20 18:21:41,537 - INFO - Imputing 39 NaN rows with 0.5 sentinel value\n",
      "2025-07-20 18:21:41,562 - INFO - Processing SMH …\n",
      "2025-07-20 18:21:41,826 - INFO - Imputing 3394 NaN rows out of 97359 with forward fill..\n",
      "2025-07-20 18:21:42,118 - INFO - Imputing 39 NaN rows with 0.5 sentinel value\n",
      "2025-07-20 18:21:42,136 - INFO - Processing SOXL …\n",
      "2025-07-20 18:21:42,458 - INFO - Imputing 17 NaN rows out of 97359 with forward fill..\n",
      "2025-07-20 18:21:42,761 - INFO - Imputing 39 NaN rows with 0.5 sentinel value\n",
      "2025-07-20 18:21:42,777 - INFO - Processing SOXX …\n",
      "2025-07-20 18:21:43,043 - INFO - Imputing 4248 NaN rows out of 97359 with forward fill..\n",
      "2025-07-20 18:21:43,359 - INFO - Imputing 39 NaN rows with 0.5 sentinel value\n",
      "2025-07-20 18:21:43,377 - INFO - Processing SPXL …\n",
      "2025-07-20 18:21:43,658 - INFO - Imputing 2257 NaN rows out of 97359 with forward fill..\n",
      "2025-07-20 18:21:43,955 - INFO - Imputing 39 NaN rows with 0.5 sentinel value\n",
      "2025-07-20 18:21:43,980 - INFO - Processing SPY …\n",
      "2025-07-20 18:21:44,277 - INFO - Imputing 219 NaN rows out of 97359 with forward fill..\n",
      "2025-07-20 18:21:44,555 - INFO - Imputing 39 NaN rows with 0.5 sentinel value\n",
      "2025-07-20 18:21:44,578 - INFO - Processing TMF …\n",
      "2025-07-20 18:21:44,893 - INFO - Imputing 539 NaN rows out of 97359 with forward fill..\n",
      "2025-07-20 18:21:45,193 - INFO - Imputing 39 NaN rows with 0.5 sentinel value\n",
      "2025-07-20 18:21:45,209 - INFO - Processing TNA …\n",
      "2025-07-20 18:21:45,539 - INFO - Imputing 440 NaN rows out of 97359 with forward fill..\n",
      "2025-07-20 18:21:45,862 - INFO - Imputing 39 NaN rows with 0.5 sentinel value\n",
      "2025-07-20 18:21:45,882 - INFO - Processing TQQQ …\n",
      "2025-07-20 18:21:46,405 - INFO - Imputing 37 NaN rows out of 97359 with forward fill..\n",
      "2025-07-20 18:21:46,706 - INFO - Imputing 39 NaN rows with 0.5 sentinel value\n",
      "2025-07-20 18:21:46,722 - INFO - Processing TSLA …\n",
      "2025-07-20 18:21:47,045 - INFO - Imputing 2 NaN rows out of 97359 with forward fill..\n",
      "2025-07-20 18:21:47,355 - INFO - Imputing 39 NaN rows with 0.5 sentinel value\n",
      "2025-07-20 18:21:47,370 - INFO - Processing UBER …\n",
      "2025-07-20 18:21:47,638 - INFO - Imputing 1667 NaN rows out of 97359 with forward fill..\n",
      "2025-07-20 18:21:47,945 - INFO - Imputing 39 NaN rows with 0.5 sentinel value\n",
      "2025-07-20 18:21:47,963 - INFO - Processing UDOW …\n",
      "2025-07-20 18:21:48,233 - INFO - Imputing 5493 NaN rows out of 97359 with forward fill..\n",
      "2025-07-20 18:21:48,540 - INFO - Imputing 39 NaN rows with 0.5 sentinel value\n",
      "2025-07-20 18:21:48,564 - INFO - Processing UPRO …\n",
      "2025-07-20 18:21:48,860 - INFO - Imputing 1797 NaN rows out of 97359 with forward fill..\n",
      "2025-07-20 18:21:49,174 - INFO - Imputing 39 NaN rows with 0.5 sentinel value\n",
      "2025-07-20 18:21:49,190 - INFO - Processing VOO …\n",
      "2025-07-20 18:21:49,485 - INFO - Imputing 2312 NaN rows out of 97359 with forward fill..\n",
      "2025-07-20 18:21:49,800 - INFO - Imputing 39 NaN rows with 0.5 sentinel value\n",
      "2025-07-20 18:21:49,821 - INFO - Processing WFC …\n",
      "2025-07-20 18:21:50,094 - INFO - Imputing 4302 NaN rows out of 97359 with forward fill..\n",
      "2025-07-20 18:21:50,400 - INFO - Imputing 39 NaN rows with 0.5 sentinel value\n",
      "2025-07-20 18:21:50,417 - INFO - Processing XBI …\n",
      "2025-07-20 18:21:50,680 - INFO - Imputing 4076 NaN rows out of 97359 with forward fill..\n",
      "2025-07-20 18:21:50,998 - INFO - Imputing 39 NaN rows with 0.5 sentinel value\n",
      "2025-07-20 18:21:51,026 - INFO - Processing XLC …\n",
      "2025-07-20 18:21:51,276 - INFO - Imputing 5351 NaN rows out of 97359 with forward fill..\n",
      "2025-07-20 18:21:51,615 - INFO - Imputing 39 NaN rows with 0.5 sentinel value\n",
      "2025-07-20 18:21:51,625 - INFO - Processing XLE …\n",
      "2025-07-20 18:21:51,902 - INFO - Imputing 3826 NaN rows out of 97359 with forward fill..\n",
      "2025-07-20 18:21:52,196 - INFO - Imputing 39 NaN rows with 0.5 sentinel value\n",
      "2025-07-20 18:21:52,213 - INFO - Processing XLI …\n",
      "2025-07-20 18:21:52,468 - INFO - Imputing 5077 NaN rows out of 97359 with forward fill..\n",
      "2025-07-20 18:21:52,764 - INFO - Imputing 39 NaN rows with 0.5 sentinel value\n",
      "2025-07-20 18:21:52,771 - INFO - Processing XLK …\n",
      "2025-07-20 18:21:53,244 - INFO - Imputing 4014 NaN rows out of 97359 with forward fill..\n",
      "2025-07-20 18:21:53,610 - INFO - Imputing 39 NaN rows with 0.5 sentinel value\n",
      "2025-07-20 18:21:53,631 - INFO - Processing XLU …\n",
      "2025-07-20 18:21:53,904 - INFO - Imputing 4835 NaN rows out of 97359 with forward fill..\n",
      "2025-07-20 18:21:54,227 - INFO - Imputing 39 NaN rows with 0.5 sentinel value\n",
      "2025-07-20 18:21:54,243 - INFO - Processing XLV …\n",
      "2025-07-20 18:21:54,498 - INFO - Imputing 4922 NaN rows out of 97359 with forward fill..\n",
      "2025-07-20 18:21:54,795 - INFO - Imputing 39 NaN rows with 0.5 sentinel value\n",
      "2025-07-20 18:21:54,816 - INFO - Processing XLY …\n",
      "2025-07-20 18:21:55,066 - INFO - Imputing 5146 NaN rows out of 97359 with forward fill..\n",
      "2025-07-20 18:21:55,378 - INFO - Imputing 39 NaN rows with 0.5 sentinel value\n",
      "2025-07-20 18:21:55,393 - INFO - Processing XOM …\n",
      "2025-07-20 18:21:55,658 - INFO - Imputing 3570 NaN rows out of 97359 with forward fill..\n",
      "2025-07-20 18:21:55,964 - INFO - Imputing 39 NaN rows with 0.5 sentinel value\n",
      "2025-07-20 18:21:55,981 - INFO - Processing XRT …\n",
      "2025-07-20 18:21:56,238 - INFO - Imputing 5599 NaN rows out of 97359 with forward fill..\n",
      "2025-07-20 18:21:56,547 - INFO - Imputing 39 NaN rows with 0.5 sentinel value\n",
      "2025-07-20 18:21:56,564 - INFO - Finished feature generation. 0 assets skipped due to insufficient rows.\n"
     ]
    },
    {
     "data": {
      "text/plain": [
       "((79909, 50, 120, 15),\n",
       " (79909, 50),\n",
       " (79909, 50),\n",
       " (79909, 50),\n",
       " (7251, 50, 120, 15),\n",
       " (7251, 50),\n",
       " (7251, 50),\n",
       " (7251, 50))"
      ]
     },
     "execution_count": 4,
     "metadata": {},
     "output_type": "execute_result"
    }
   ],
   "source": [
    "dataset_creator = DatasetCreator(\n",
    "    features=config.data_config.features,\n",
    "    target=config.data_config.target,\n",
    "    normalizer=config.data_config.normalizer,\n",
    "    missing_values_handler=config.data_config.missing_values_handler,\n",
    "    train_set_last_date=config.data_config.train_set_last_date, \n",
    "    in_seq_len=config.data_config.in_seq_len,\n",
    "    multi_asset_prediction=config.data_config.multi_asset_prediction,\n",
    ")\n",
    "\n",
    "X_train, y_train, next_return_train, spread_train, X_test, y_test, next_return_test, spread_test = dataset_creator.create_dataset_numpy(retrieval_result)\n",
    "X_train.shape, y_train.shape, next_return_train.shape, spread_train.shape, X_test.shape, y_test.shape, next_return_test.shape, spread_test.shape"
   ]
  },
  {
   "cell_type": "code",
   "execution_count": 21,
   "id": "c28a1e39",
   "metadata": {},
   "outputs": [],
   "source": [
    "train_trajectory_loader = TrajectoryDataset(X_train, next_return_train, spread_train, trajectory_length=16).as_dataloader(\n",
    "    batch_size=8, \n",
    "    shuffle=True,\n",
    "    num_workers=0,\n",
    "    prefetch_factor=None,\n",
    "    pin_memory=False,\n",
    "    persistent_workers=False,\n",
    ")\n",
    "val_trajectory_loader = None"
   ]
  },
  {
   "cell_type": "code",
   "execution_count": 22,
   "id": "2bf1089e",
   "metadata": {},
   "outputs": [],
   "source": [
    "env = PortfolioEnvironment(transaction_fee=0)"
   ]
  },
  {
   "cell_type": "code",
   "execution_count": 23,
   "id": "989abaa4",
   "metadata": {},
   "outputs": [
    {
     "name": "stderr",
     "output_type": "stream",
     "text": [
      "C:\\Users\\ikurnosau\\AppData\\Local\\Temp\\ipykernel_24036\\1896325696.py:2: FutureWarning: You are using `torch.load` with `weights_only=False` (the current default value), which uses the default pickle module implicitly. It is possible to construct malicious pickle data which will execute arbitrary code during unpickling (See https://github.com/pytorch/pytorch/blob/main/SECURITY.md#untrusted-models for more details). In a future release, the default value for `weights_only` will be flipped to `True`. This limits the functions that could be executed during unpickling. Arbitrary objects will no longer be allowed to be loaded via this mode unless they are explicitly allowlisted by the user via `torch.serialization.add_safe_globals`. We recommend you start setting `weights_only=True` for any use case where you don't have full control of the loaded file. Please open an issue on GitHub for any issues related to this experimental feature.\n",
      "  signal_predictor.load_state_dict(torch.load('best_model.pth'))\n"
     ]
    },
    {
     "data": {
      "text/plain": [
       "TemporalSpatial(\n",
       "  (asset_embed): Embedding(50, 32)\n",
       "  (asset_proj): Linear(in_features=32, out_features=512, bias=False)\n",
       "  (lstm): LSTM(15, 256, num_layers=4, batch_first=True, dropout=0.2, bidirectional=True)\n",
       "  (spatial_attn): MultiheadAttention(\n",
       "    (out_proj): NonDynamicallyQuantizableLinear(in_features=512, out_features=512, bias=True)\n",
       "  )\n",
       "  (fc): Linear(in_features=512, out_features=1, bias=True)\n",
       "  (norm): LayerNorm((512,), eps=1e-05, elementwise_affine=True)\n",
       "  (dropout): Dropout(p=0.2, inplace=False)\n",
       ")"
      ]
     },
     "execution_count": 23,
     "metadata": {},
     "output_type": "execute_result"
    }
   ],
   "source": [
    "signal_predictor = config.model_config.model.to(torch.device('cuda'))\n",
    "signal_predictor.load_state_dict(torch.load('best_model.pth'))\n",
    "signal_predictor"
   ]
  },
  {
   "cell_type": "code",
   "execution_count": 24,
   "id": "eff94dc0",
   "metadata": {},
   "outputs": [],
   "source": [
    "actor = RlActor(signal_predictor, n_assets=len(config.data_config.symbol_or_symbols))"
   ]
  },
  {
   "cell_type": "code",
   "execution_count": 27,
   "id": "f6462062",
   "metadata": {},
   "outputs": [],
   "source": [
    "rl_agent = RlAgent(actor, env)\n",
    "policy_gradient = PolicyGradient(rl_agent, train_trajectory_loader, val_trajectory_loader)"
   ]
  },
  {
   "cell_type": "code",
   "execution_count": 29,
   "id": "65ba47e0",
   "metadata": {},
   "outputs": [
    {
     "name": "stderr",
     "output_type": "stream",
     "text": [
      "                                                             \r"
     ]
    },
    {
     "name": "stdout",
     "output_type": "stream",
     "text": [
      "[PolicyGradient] Epoch 1/10 — Loss: 0.0034\n"
     ]
    },
    {
     "name": "stderr",
     "output_type": "stream",
     "text": [
      "                                                             \r"
     ]
    },
    {
     "name": "stdout",
     "output_type": "stream",
     "text": [
      "[PolicyGradient] Epoch 2/10 — Loss: 0.0026\n"
     ]
    },
    {
     "name": "stderr",
     "output_type": "stream",
     "text": [
      "                                                             \r"
     ]
    },
    {
     "name": "stdout",
     "output_type": "stream",
     "text": [
      "[PolicyGradient] Epoch 3/10 — Loss: 0.0021\n"
     ]
    },
    {
     "name": "stderr",
     "output_type": "stream",
     "text": [
      "                                                             \r"
     ]
    },
    {
     "name": "stdout",
     "output_type": "stream",
     "text": [
      "[PolicyGradient] Epoch 4/10 — Loss: 0.0018\n"
     ]
    },
    {
     "name": "stderr",
     "output_type": "stream",
     "text": [
      "                                                             \r"
     ]
    },
    {
     "name": "stdout",
     "output_type": "stream",
     "text": [
      "[PolicyGradient] Epoch 5/10 — Loss: 0.0016\n"
     ]
    },
    {
     "name": "stderr",
     "output_type": "stream",
     "text": [
      "                                                             \r"
     ]
    },
    {
     "name": "stdout",
     "output_type": "stream",
     "text": [
      "[PolicyGradient] Epoch 6/10 — Loss: 0.0013\n"
     ]
    },
    {
     "name": "stderr",
     "output_type": "stream",
     "text": [
      "                                                             \r"
     ]
    },
    {
     "name": "stdout",
     "output_type": "stream",
     "text": [
      "[PolicyGradient] Epoch 7/10 — Loss: 0.0011\n"
     ]
    },
    {
     "name": "stderr",
     "output_type": "stream",
     "text": [
      "                                                             \r"
     ]
    },
    {
     "name": "stdout",
     "output_type": "stream",
     "text": [
      "[PolicyGradient] Epoch 8/10 — Loss: 0.0011\n"
     ]
    },
    {
     "name": "stderr",
     "output_type": "stream",
     "text": [
      "                                                             \r"
     ]
    },
    {
     "name": "stdout",
     "output_type": "stream",
     "text": [
      "[PolicyGradient] Epoch 9/10 — Loss: 0.0009\n"
     ]
    },
    {
     "name": "stderr",
     "output_type": "stream",
     "text": [
      "                                                              \r"
     ]
    },
    {
     "name": "stdout",
     "output_type": "stream",
     "text": [
      "[PolicyGradient] Epoch 10/10 — Loss: 0.0006\n"
     ]
    }
   ],
   "source": [
    "policy_gradient.train(epochs=10)"
   ]
  },
  {
   "cell_type": "code",
   "execution_count": null,
   "id": "f967ed1a",
   "metadata": {},
   "outputs": [],
   "source": []
  }
 ],
 "metadata": {
  "kernelspec": {
   "display_name": "mldl",
   "language": "python",
   "name": "python3"
  },
  "language_info": {
   "codemirror_mode": {
    "name": "ipython",
    "version": 3
   },
   "file_extension": ".py",
   "mimetype": "text/x-python",
   "name": "python",
   "nbconvert_exporter": "python",
   "pygments_lexer": "ipython3",
   "version": "3.12.7"
  }
 },
 "nbformat": 4,
 "nbformat_minor": 5
}

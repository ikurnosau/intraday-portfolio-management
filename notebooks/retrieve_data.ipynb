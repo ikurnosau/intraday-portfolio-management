{
 "cells": [
  {
   "cell_type": "code",
   "execution_count": 211,
   "id": "7f6cf3a4",
   "metadata": {},
   "outputs": [],
   "source": [
    "import sys\n",
    "import os\n",
    "sys.path.append(os.path.abspath(os.path.join(os.getcwd(), '..')))\n",
    "\n",
    "import pandas as pd\n",
    "from datetime import datetime, timezone, timedelta\n",
    "import logging\n",
    "import pickle\n",
    "\n",
    "logging.basicConfig(\n",
    "    level=logging.INFO,  # Set the logging level\n",
    "    format='%(asctime)s - %(levelname)s - %(message)s',  # Format for the log messages\n",
    "    handlers=[\n",
    "        logging.StreamHandler()  # Log to the console\n",
    "    ]\n",
    ")\n",
    "\n",
    "%reload_ext autoreload\n",
    "%autoreload 2\n",
    "from data.raw.retrievers.alpaca_markets_retriever import AlpacaMarketsRetriever\n",
    "from config.constants import *\n",
    "from data.processed.dataset_creation import DatasetCreator\n",
    "from data.processed.indicators import *\n",
    "from data.processed.targets import Balanced3ClassClassification\n",
    "from data.processed.normalization import ZScoreOverWindowNormalizer, ZScoreNormalizer, MinMaxNormalizer\n",
    "from data.processed.missing_values_handling import DummyMissingValuesHandler\n",
    "from data.processed.dataset_pytorch import DatasetPytorch\n",
    "from data.raw.retrievers.alpaca_markets_utils import get_stock_stats\n",
    "from modeling.trainer import Trainer\n",
    "from observability.mlflow_integration import log_experiment\n",
    "\n",
    "from config.experiments.cur_experiment import config"
   ]
  },
  {
   "cell_type": "code",
   "execution_count": 141,
   "id": "f5e1327a",
   "metadata": {},
   "outputs": [
    {
     "data": {
      "text/plain": [
       "3991"
      ]
     },
     "execution_count": 141,
     "metadata": {},
     "output_type": "execute_result"
    }
   ],
   "source": [
    "retriever = AlpacaMarketsRetriever()\n",
    "all_symbols = retriever.get_all_symbols()\n",
    "len(all_symbols)"
   ]
  },
  {
   "cell_type": "code",
   "execution_count": 142,
   "id": "467c7743",
   "metadata": {},
   "outputs": [
    {
     "name": "stdout",
     "output_type": "stream",
     "text": [
      "Processing (0/3991)\n",
      "Processing (10/3991)\n"
     ]
    },
    {
     "name": "stderr",
     "output_type": "stream",
     "text": [
      "c:\\Users\\ikurnosau\\anaconda3\\envs\\mldl\\Lib\\site-packages\\numpy\\core\\fromnumeric.py:3504: RuntimeWarning: Mean of empty slice.\n",
      "  return _methods._mean(a, axis=axis, dtype=dtype,\n",
      "c:\\Users\\ikurnosau\\anaconda3\\envs\\mldl\\Lib\\site-packages\\numpy\\core\\_methods.py:129: RuntimeWarning: invalid value encountered in scalar divide\n",
      "  ret = ret.dtype.type(ret / rcount)\n"
     ]
    },
    {
     "name": "stdout",
     "output_type": "stream",
     "text": [
      "Processing (20/3991)\n"
     ]
    },
    {
     "name": "stderr",
     "output_type": "stream",
     "text": [
      "c:\\Users\\ikurnosau\\Projects\\QuantitativeTrading\\intraday-portfolio-management\\data\\raw\\retrievers\\alpaca_markets_utils.py:72: RuntimeWarning: Mean of empty slice\n",
      "  volatility_1h = np.nanmean(vol_1h_list)\n"
     ]
    },
    {
     "name": "stdout",
     "output_type": "stream",
     "text": [
      "Processing (30/3991)\n",
      "Processing (40/3991)\n",
      "Processing (50/3991)\n",
      "Processing (60/3991)\n"
     ]
    },
    {
     "name": "stderr",
     "output_type": "stream",
     "text": [
      "c:\\Users\\ikurnosau\\Projects\\QuantitativeTrading\\intraday-portfolio-management\\data\\raw\\retrievers\\alpaca_markets_utils.py:72: RuntimeWarning: Mean of empty slice\n",
      "  volatility_1h = np.nanmean(vol_1h_list)\n",
      "c:\\Users\\ikurnosau\\Projects\\QuantitativeTrading\\intraday-portfolio-management\\data\\raw\\retrievers\\alpaca_markets_utils.py:70: RuntimeWarning: Mean of empty slice\n",
      "  volatility_5m = np.nanmean(vol_5m_list)\n",
      "c:\\Users\\ikurnosau\\Projects\\QuantitativeTrading\\intraday-portfolio-management\\data\\raw\\retrievers\\alpaca_markets_utils.py:71: RuntimeWarning: Mean of empty slice\n",
      "  volatility_15m = np.nanmean(vol_15m_list)\n",
      "c:\\Users\\ikurnosau\\Projects\\QuantitativeTrading\\intraday-portfolio-management\\data\\raw\\retrievers\\alpaca_markets_utils.py:72: RuntimeWarning: Mean of empty slice\n",
      "  volatility_1h = np.nanmean(vol_1h_list)\n"
     ]
    },
    {
     "name": "stdout",
     "output_type": "stream",
     "text": [
      "Processing (70/3991)\n"
     ]
    },
    {
     "name": "stderr",
     "output_type": "stream",
     "text": [
      "c:\\Users\\ikurnosau\\Projects\\QuantitativeTrading\\intraday-portfolio-management\\data\\raw\\retrievers\\alpaca_markets_utils.py:72: RuntimeWarning: Mean of empty slice\n",
      "  volatility_1h = np.nanmean(vol_1h_list)\n",
      "c:\\Users\\ikurnosau\\Projects\\QuantitativeTrading\\intraday-portfolio-management\\data\\raw\\retrievers\\alpaca_markets_utils.py:72: RuntimeWarning: Mean of empty slice\n",
      "  volatility_1h = np.nanmean(vol_1h_list)\n",
      "c:\\Users\\ikurnosau\\Projects\\QuantitativeTrading\\intraday-portfolio-management\\data\\raw\\retrievers\\alpaca_markets_utils.py:70: RuntimeWarning: Mean of empty slice\n",
      "  volatility_5m = np.nanmean(vol_5m_list)\n",
      "c:\\Users\\ikurnosau\\Projects\\QuantitativeTrading\\intraday-portfolio-management\\data\\raw\\retrievers\\alpaca_markets_utils.py:71: RuntimeWarning: Mean of empty slice\n",
      "  volatility_15m = np.nanmean(vol_15m_list)\n",
      "c:\\Users\\ikurnosau\\Projects\\QuantitativeTrading\\intraday-portfolio-management\\data\\raw\\retrievers\\alpaca_markets_utils.py:72: RuntimeWarning: Mean of empty slice\n",
      "  volatility_1h = np.nanmean(vol_1h_list)\n",
      "c:\\Users\\ikurnosau\\Projects\\QuantitativeTrading\\intraday-portfolio-management\\data\\raw\\retrievers\\alpaca_markets_utils.py:72: RuntimeWarning: Mean of empty slice\n",
      "  volatility_1h = np.nanmean(vol_1h_list)\n",
      "c:\\Users\\ikurnosau\\Projects\\QuantitativeTrading\\intraday-portfolio-management\\data\\raw\\retrievers\\alpaca_markets_utils.py:69: RuntimeWarning: Mean of empty slice\n",
      "  volatility_1m = np.nanmean(vol_1m_list)\n",
      "c:\\Users\\ikurnosau\\Projects\\QuantitativeTrading\\intraday-portfolio-management\\data\\raw\\retrievers\\alpaca_markets_utils.py:70: RuntimeWarning: Mean of empty slice\n",
      "  volatility_5m = np.nanmean(vol_5m_list)\n",
      "c:\\Users\\ikurnosau\\Projects\\QuantitativeTrading\\intraday-portfolio-management\\data\\raw\\retrievers\\alpaca_markets_utils.py:71: RuntimeWarning: Mean of empty slice\n",
      "  volatility_15m = np.nanmean(vol_15m_list)\n",
      "c:\\Users\\ikurnosau\\Projects\\QuantitativeTrading\\intraday-portfolio-management\\data\\raw\\retrievers\\alpaca_markets_utils.py:72: RuntimeWarning: Mean of empty slice\n",
      "  volatility_1h = np.nanmean(vol_1h_list)\n"
     ]
    },
    {
     "name": "stdout",
     "output_type": "stream",
     "text": [
      "Processing (80/3991)\n"
     ]
    },
    {
     "name": "stderr",
     "output_type": "stream",
     "text": [
      "c:\\Users\\ikurnosau\\Projects\\QuantitativeTrading\\intraday-portfolio-management\\data\\raw\\retrievers\\alpaca_markets_utils.py:72: RuntimeWarning: Mean of empty slice\n",
      "  volatility_1h = np.nanmean(vol_1h_list)\n",
      "c:\\Users\\ikurnosau\\Projects\\QuantitativeTrading\\intraday-portfolio-management\\data\\raw\\retrievers\\alpaca_markets_utils.py:72: RuntimeWarning: Mean of empty slice\n",
      "  volatility_1h = np.nanmean(vol_1h_list)\n",
      "c:\\Users\\ikurnosau\\Projects\\QuantitativeTrading\\intraday-portfolio-management\\data\\raw\\retrievers\\alpaca_markets_utils.py:72: RuntimeWarning: Mean of empty slice\n",
      "  volatility_1h = np.nanmean(vol_1h_list)\n",
      "c:\\Users\\ikurnosau\\Projects\\QuantitativeTrading\\intraday-portfolio-management\\data\\raw\\retrievers\\alpaca_markets_utils.py:72: RuntimeWarning: Mean of empty slice\n",
      "  volatility_1h = np.nanmean(vol_1h_list)\n",
      "c:\\Users\\ikurnosau\\Projects\\QuantitativeTrading\\intraday-portfolio-management\\data\\raw\\retrievers\\alpaca_markets_utils.py:70: RuntimeWarning: Mean of empty slice\n",
      "  volatility_5m = np.nanmean(vol_5m_list)\n",
      "c:\\Users\\ikurnosau\\Projects\\QuantitativeTrading\\intraday-portfolio-management\\data\\raw\\retrievers\\alpaca_markets_utils.py:71: RuntimeWarning: Mean of empty slice\n",
      "  volatility_15m = np.nanmean(vol_15m_list)\n",
      "c:\\Users\\ikurnosau\\Projects\\QuantitativeTrading\\intraday-portfolio-management\\data\\raw\\retrievers\\alpaca_markets_utils.py:72: RuntimeWarning: Mean of empty slice\n",
      "  volatility_1h = np.nanmean(vol_1h_list)\n"
     ]
    },
    {
     "name": "stdout",
     "output_type": "stream",
     "text": [
      "Processing (90/3991)\n",
      "Processing (100/3991)\n",
      "Processing (110/3991)\n",
      "Processing (120/3991)\n",
      "Processing (130/3991)\n",
      "Processing (140/3991)\n"
     ]
    },
    {
     "name": "stderr",
     "output_type": "stream",
     "text": [
      "c:\\Users\\ikurnosau\\Projects\\QuantitativeTrading\\intraday-portfolio-management\\data\\raw\\retrievers\\alpaca_markets_utils.py:72: RuntimeWarning: Mean of empty slice\n",
      "  volatility_1h = np.nanmean(vol_1h_list)\n"
     ]
    },
    {
     "name": "stdout",
     "output_type": "stream",
     "text": [
      "Processing (150/3991)\n",
      "Processing (160/3991)\n",
      "Processing (170/3991)\n",
      "Processing (180/3991)\n",
      "Processing (190/3991)\n"
     ]
    },
    {
     "name": "stderr",
     "output_type": "stream",
     "text": [
      "c:\\Users\\ikurnosau\\Projects\\QuantitativeTrading\\intraday-portfolio-management\\data\\raw\\retrievers\\alpaca_markets_utils.py:72: RuntimeWarning: Mean of empty slice\n",
      "  volatility_1h = np.nanmean(vol_1h_list)\n"
     ]
    },
    {
     "name": "stdout",
     "output_type": "stream",
     "text": [
      "Processing (200/3991)\n",
      "Processing (210/3991)\n",
      "Processing (220/3991)\n",
      "Processing (230/3991)\n",
      "Processing (240/3991)\n"
     ]
    },
    {
     "name": "stderr",
     "output_type": "stream",
     "text": [
      "c:\\Users\\ikurnosau\\Projects\\QuantitativeTrading\\intraday-portfolio-management\\data\\raw\\retrievers\\alpaca_markets_utils.py:72: RuntimeWarning: Mean of empty slice\n",
      "  volatility_1h = np.nanmean(vol_1h_list)\n",
      "c:\\Users\\ikurnosau\\Projects\\QuantitativeTrading\\intraday-portfolio-management\\data\\raw\\retrievers\\alpaca_markets_utils.py:72: RuntimeWarning: Mean of empty slice\n",
      "  volatility_1h = np.nanmean(vol_1h_list)\n"
     ]
    },
    {
     "name": "stdout",
     "output_type": "stream",
     "text": [
      "Processing (250/3991)\n",
      "Processing (260/3991)\n",
      "Processing (270/3991)\n",
      "Processing (280/3991)\n",
      "Processing (290/3991)\n",
      "Processing (300/3991)\n",
      "Processing (310/3991)\n",
      "Processing (320/3991)\n",
      "Processing (330/3991)\n",
      "Processing (340/3991)\n",
      "Processing (350/3991)\n",
      "Processing (360/3991)\n",
      "Processing (370/3991)\n",
      "Processing (380/3991)\n"
     ]
    },
    {
     "name": "stderr",
     "output_type": "stream",
     "text": [
      "c:\\Users\\ikurnosau\\Projects\\QuantitativeTrading\\intraday-portfolio-management\\data\\raw\\retrievers\\alpaca_markets_utils.py:72: RuntimeWarning: Mean of empty slice\n",
      "  volatility_1h = np.nanmean(vol_1h_list)\n"
     ]
    },
    {
     "name": "stdout",
     "output_type": "stream",
     "text": [
      "Processing (390/3991)\n",
      "Processing (400/3991)\n",
      "Processing (410/3991)\n",
      "Processing (420/3991)\n"
     ]
    },
    {
     "name": "stderr",
     "output_type": "stream",
     "text": [
      "c:\\Users\\ikurnosau\\Projects\\QuantitativeTrading\\intraday-portfolio-management\\data\\raw\\retrievers\\alpaca_markets_utils.py:72: RuntimeWarning: Mean of empty slice\n",
      "  volatility_1h = np.nanmean(vol_1h_list)\n"
     ]
    },
    {
     "name": "stdout",
     "output_type": "stream",
     "text": [
      "Processing (430/3991)\n",
      "Processing (440/3991)\n",
      "Processing (450/3991)\n",
      "Processing (460/3991)\n"
     ]
    },
    {
     "name": "stderr",
     "output_type": "stream",
     "text": [
      "c:\\Users\\ikurnosau\\Projects\\QuantitativeTrading\\intraday-portfolio-management\\data\\raw\\retrievers\\alpaca_markets_utils.py:71: RuntimeWarning: Mean of empty slice\n",
      "  volatility_15m = np.nanmean(vol_15m_list)\n",
      "c:\\Users\\ikurnosau\\Projects\\QuantitativeTrading\\intraday-portfolio-management\\data\\raw\\retrievers\\alpaca_markets_utils.py:72: RuntimeWarning: Mean of empty slice\n",
      "  volatility_1h = np.nanmean(vol_1h_list)\n"
     ]
    },
    {
     "name": "stdout",
     "output_type": "stream",
     "text": [
      "Processing (470/3991)\n"
     ]
    },
    {
     "name": "stderr",
     "output_type": "stream",
     "text": [
      "c:\\Users\\ikurnosau\\Projects\\QuantitativeTrading\\intraday-portfolio-management\\data\\raw\\retrievers\\alpaca_markets_utils.py:72: RuntimeWarning: Mean of empty slice\n",
      "  volatility_1h = np.nanmean(vol_1h_list)\n"
     ]
    },
    {
     "name": "stdout",
     "output_type": "stream",
     "text": [
      "Processing (480/3991)\n",
      "Processing (490/3991)\n",
      "Processing (500/3991)\n",
      "Processing (510/3991)\n"
     ]
    },
    {
     "name": "stderr",
     "output_type": "stream",
     "text": [
      "c:\\Users\\ikurnosau\\Projects\\QuantitativeTrading\\intraday-portfolio-management\\data\\raw\\retrievers\\alpaca_markets_utils.py:72: RuntimeWarning: Mean of empty slice\n",
      "  volatility_1h = np.nanmean(vol_1h_list)\n"
     ]
    },
    {
     "name": "stdout",
     "output_type": "stream",
     "text": [
      "Processing (520/3991)\n",
      "Processing (530/3991)\n",
      "Processing (540/3991)\n",
      "Processing (550/3991)\n",
      "Processing (560/3991)\n"
     ]
    },
    {
     "name": "stderr",
     "output_type": "stream",
     "text": [
      "c:\\Users\\ikurnosau\\Projects\\QuantitativeTrading\\intraday-portfolio-management\\data\\raw\\retrievers\\alpaca_markets_utils.py:72: RuntimeWarning: Mean of empty slice\n",
      "  volatility_1h = np.nanmean(vol_1h_list)\n"
     ]
    },
    {
     "name": "stdout",
     "output_type": "stream",
     "text": [
      "Processing (570/3991)\n"
     ]
    },
    {
     "name": "stderr",
     "output_type": "stream",
     "text": [
      "c:\\Users\\ikurnosau\\Projects\\QuantitativeTrading\\intraday-portfolio-management\\data\\raw\\retrievers\\alpaca_markets_utils.py:72: RuntimeWarning: Mean of empty slice\n",
      "  volatility_1h = np.nanmean(vol_1h_list)\n"
     ]
    },
    {
     "name": "stdout",
     "output_type": "stream",
     "text": [
      "Processing (580/3991)\n",
      "Processing (590/3991)\n",
      "Processing (600/3991)\n"
     ]
    },
    {
     "name": "stderr",
     "output_type": "stream",
     "text": [
      "c:\\Users\\ikurnosau\\Projects\\QuantitativeTrading\\intraday-portfolio-management\\data\\raw\\retrievers\\alpaca_markets_utils.py:72: RuntimeWarning: Mean of empty slice\n",
      "  volatility_1h = np.nanmean(vol_1h_list)\n",
      "c:\\Users\\ikurnosau\\Projects\\QuantitativeTrading\\intraday-portfolio-management\\data\\raw\\retrievers\\alpaca_markets_utils.py:72: RuntimeWarning: Mean of empty slice\n",
      "  volatility_1h = np.nanmean(vol_1h_list)\n"
     ]
    },
    {
     "name": "stdout",
     "output_type": "stream",
     "text": [
      "Processing (610/3991)\n",
      "Processing (620/3991)\n",
      "Processing (630/3991)\n"
     ]
    },
    {
     "name": "stderr",
     "output_type": "stream",
     "text": [
      "c:\\Users\\ikurnosau\\Projects\\QuantitativeTrading\\intraday-portfolio-management\\data\\raw\\retrievers\\alpaca_markets_utils.py:72: RuntimeWarning: Mean of empty slice\n",
      "  volatility_1h = np.nanmean(vol_1h_list)\n"
     ]
    },
    {
     "name": "stdout",
     "output_type": "stream",
     "text": [
      "Processing (640/3991)\n"
     ]
    },
    {
     "name": "stderr",
     "output_type": "stream",
     "text": [
      "c:\\Users\\ikurnosau\\Projects\\QuantitativeTrading\\intraday-portfolio-management\\data\\raw\\retrievers\\alpaca_markets_utils.py:72: RuntimeWarning: Mean of empty slice\n",
      "  volatility_1h = np.nanmean(vol_1h_list)\n",
      "c:\\Users\\ikurnosau\\Projects\\QuantitativeTrading\\intraday-portfolio-management\\data\\raw\\retrievers\\alpaca_markets_utils.py:72: RuntimeWarning: Mean of empty slice\n",
      "  volatility_1h = np.nanmean(vol_1h_list)\n"
     ]
    },
    {
     "name": "stdout",
     "output_type": "stream",
     "text": [
      "Processing (650/3991)\n",
      "Processing (660/3991)\n"
     ]
    },
    {
     "name": "stderr",
     "output_type": "stream",
     "text": [
      "c:\\Users\\ikurnosau\\Projects\\QuantitativeTrading\\intraday-portfolio-management\\data\\raw\\retrievers\\alpaca_markets_utils.py:72: RuntimeWarning: Mean of empty slice\n",
      "  volatility_1h = np.nanmean(vol_1h_list)\n"
     ]
    },
    {
     "name": "stdout",
     "output_type": "stream",
     "text": [
      "Processing (670/3991)\n",
      "Processing (680/3991)\n",
      "Processing (690/3991)\n",
      "Processing (700/3991)\n",
      "Processing (710/3991)\n",
      "Processing (720/3991)\n"
     ]
    },
    {
     "name": "stderr",
     "output_type": "stream",
     "text": [
      "c:\\Users\\ikurnosau\\Projects\\QuantitativeTrading\\intraday-portfolio-management\\data\\raw\\retrievers\\alpaca_markets_utils.py:72: RuntimeWarning: Mean of empty slice\n",
      "  volatility_1h = np.nanmean(vol_1h_list)\n"
     ]
    },
    {
     "name": "stdout",
     "output_type": "stream",
     "text": [
      "Processing (730/3991)\n",
      "Processing (740/3991)\n",
      "Processing (750/3991)\n",
      "Processing (760/3991)\n",
      "Processing (770/3991)\n",
      "Processing (780/3991)\n",
      "Processing (790/3991)\n",
      "Processing (800/3991)\n",
      "Processing (810/3991)\n",
      "Processing (820/3991)\n"
     ]
    },
    {
     "name": "stderr",
     "output_type": "stream",
     "text": [
      "c:\\Users\\ikurnosau\\Projects\\QuantitativeTrading\\intraday-portfolio-management\\data\\raw\\retrievers\\alpaca_markets_utils.py:72: RuntimeWarning: Mean of empty slice\n",
      "  volatility_1h = np.nanmean(vol_1h_list)\n"
     ]
    },
    {
     "name": "stdout",
     "output_type": "stream",
     "text": [
      "Processing (830/3991)\n",
      "Processing (840/3991)\n",
      "Processing (850/3991)\n",
      "Processing (860/3991)\n",
      "Processing (870/3991)\n"
     ]
    },
    {
     "name": "stderr",
     "output_type": "stream",
     "text": [
      "c:\\Users\\ikurnosau\\Projects\\QuantitativeTrading\\intraday-portfolio-management\\data\\raw\\retrievers\\alpaca_markets_utils.py:71: RuntimeWarning: Mean of empty slice\n",
      "  volatility_15m = np.nanmean(vol_15m_list)\n",
      "c:\\Users\\ikurnosau\\Projects\\QuantitativeTrading\\intraday-portfolio-management\\data\\raw\\retrievers\\alpaca_markets_utils.py:72: RuntimeWarning: Mean of empty slice\n",
      "  volatility_1h = np.nanmean(vol_1h_list)\n",
      "c:\\Users\\ikurnosau\\Projects\\QuantitativeTrading\\intraday-portfolio-management\\data\\raw\\retrievers\\alpaca_markets_utils.py:72: RuntimeWarning: Mean of empty slice\n",
      "  volatility_1h = np.nanmean(vol_1h_list)\n",
      "c:\\Users\\ikurnosau\\Projects\\QuantitativeTrading\\intraday-portfolio-management\\data\\raw\\retrievers\\alpaca_markets_utils.py:72: RuntimeWarning: Mean of empty slice\n",
      "  volatility_1h = np.nanmean(vol_1h_list)\n"
     ]
    },
    {
     "name": "stdout",
     "output_type": "stream",
     "text": [
      "Processing (880/3991)\n",
      "Processing (890/3991)\n",
      "Processing (900/3991)\n",
      "Processing (910/3991)\n",
      "Processing (920/3991)\n",
      "Processing (930/3991)\n",
      "Processing (940/3991)\n"
     ]
    },
    {
     "name": "stderr",
     "output_type": "stream",
     "text": [
      "c:\\Users\\ikurnosau\\Projects\\QuantitativeTrading\\intraday-portfolio-management\\data\\raw\\retrievers\\alpaca_markets_utils.py:72: RuntimeWarning: Mean of empty slice\n",
      "  volatility_1h = np.nanmean(vol_1h_list)\n",
      "c:\\Users\\ikurnosau\\Projects\\QuantitativeTrading\\intraday-portfolio-management\\data\\raw\\retrievers\\alpaca_markets_utils.py:72: RuntimeWarning: Mean of empty slice\n",
      "  volatility_1h = np.nanmean(vol_1h_list)\n"
     ]
    },
    {
     "name": "stdout",
     "output_type": "stream",
     "text": [
      "Processing (950/3991)\n"
     ]
    },
    {
     "name": "stderr",
     "output_type": "stream",
     "text": [
      "c:\\Users\\ikurnosau\\Projects\\QuantitativeTrading\\intraday-portfolio-management\\data\\raw\\retrievers\\alpaca_markets_utils.py:72: RuntimeWarning: Mean of empty slice\n",
      "  volatility_1h = np.nanmean(vol_1h_list)\n"
     ]
    },
    {
     "name": "stdout",
     "output_type": "stream",
     "text": [
      "Processing (960/3991)\n",
      "Processing (970/3991)\n",
      "Processing (980/3991)\n",
      "Processing (990/3991)\n",
      "Processing (1000/3991)\n"
     ]
    },
    {
     "name": "stderr",
     "output_type": "stream",
     "text": [
      "c:\\Users\\ikurnosau\\Projects\\QuantitativeTrading\\intraday-portfolio-management\\data\\raw\\retrievers\\alpaca_markets_utils.py:72: RuntimeWarning: Mean of empty slice\n",
      "  volatility_1h = np.nanmean(vol_1h_list)\n"
     ]
    },
    {
     "name": "stdout",
     "output_type": "stream",
     "text": [
      "Processing (1010/3991)\n",
      "Processing (1020/3991)\n"
     ]
    },
    {
     "name": "stderr",
     "output_type": "stream",
     "text": [
      "c:\\Users\\ikurnosau\\Projects\\QuantitativeTrading\\intraday-portfolio-management\\data\\raw\\retrievers\\alpaca_markets_utils.py:70: RuntimeWarning: Mean of empty slice\n",
      "  volatility_5m = np.nanmean(vol_5m_list)\n",
      "c:\\Users\\ikurnosau\\Projects\\QuantitativeTrading\\intraday-portfolio-management\\data\\raw\\retrievers\\alpaca_markets_utils.py:71: RuntimeWarning: Mean of empty slice\n",
      "  volatility_15m = np.nanmean(vol_15m_list)\n",
      "c:\\Users\\ikurnosau\\Projects\\QuantitativeTrading\\intraday-portfolio-management\\data\\raw\\retrievers\\alpaca_markets_utils.py:72: RuntimeWarning: Mean of empty slice\n",
      "  volatility_1h = np.nanmean(vol_1h_list)\n"
     ]
    },
    {
     "name": "stdout",
     "output_type": "stream",
     "text": [
      "Processing (1030/3991)\n"
     ]
    },
    {
     "name": "stderr",
     "output_type": "stream",
     "text": [
      "c:\\Users\\ikurnosau\\Projects\\QuantitativeTrading\\intraday-portfolio-management\\data\\raw\\retrievers\\alpaca_markets_utils.py:71: RuntimeWarning: Mean of empty slice\n",
      "  volatility_15m = np.nanmean(vol_15m_list)\n",
      "c:\\Users\\ikurnosau\\Projects\\QuantitativeTrading\\intraday-portfolio-management\\data\\raw\\retrievers\\alpaca_markets_utils.py:72: RuntimeWarning: Mean of empty slice\n",
      "  volatility_1h = np.nanmean(vol_1h_list)\n",
      "c:\\Users\\ikurnosau\\Projects\\QuantitativeTrading\\intraday-portfolio-management\\data\\raw\\retrievers\\alpaca_markets_utils.py:72: RuntimeWarning: Mean of empty slice\n",
      "  volatility_1h = np.nanmean(vol_1h_list)\n"
     ]
    },
    {
     "name": "stdout",
     "output_type": "stream",
     "text": [
      "Processing (1040/3991)\n",
      "Processing (1050/3991)\n",
      "Processing (1060/3991)\n",
      "Processing (1070/3991)\n",
      "Processing (1080/3991)\n"
     ]
    },
    {
     "name": "stderr",
     "output_type": "stream",
     "text": [
      "c:\\Users\\ikurnosau\\Projects\\QuantitativeTrading\\intraday-portfolio-management\\data\\raw\\retrievers\\alpaca_markets_utils.py:71: RuntimeWarning: Mean of empty slice\n",
      "  volatility_15m = np.nanmean(vol_15m_list)\n",
      "c:\\Users\\ikurnosau\\Projects\\QuantitativeTrading\\intraday-portfolio-management\\data\\raw\\retrievers\\alpaca_markets_utils.py:72: RuntimeWarning: Mean of empty slice\n",
      "  volatility_1h = np.nanmean(vol_1h_list)\n"
     ]
    },
    {
     "name": "stdout",
     "output_type": "stream",
     "text": [
      "Processing (1090/3991)\n"
     ]
    },
    {
     "name": "stderr",
     "output_type": "stream",
     "text": [
      "c:\\Users\\ikurnosau\\Projects\\QuantitativeTrading\\intraday-portfolio-management\\data\\raw\\retrievers\\alpaca_markets_utils.py:72: RuntimeWarning: Mean of empty slice\n",
      "  volatility_1h = np.nanmean(vol_1h_list)\n"
     ]
    },
    {
     "name": "stdout",
     "output_type": "stream",
     "text": [
      "Processing (1100/3991)\n",
      "Processing (1110/3991)\n"
     ]
    },
    {
     "name": "stderr",
     "output_type": "stream",
     "text": [
      "c:\\Users\\ikurnosau\\Projects\\QuantitativeTrading\\intraday-portfolio-management\\data\\raw\\retrievers\\alpaca_markets_utils.py:72: RuntimeWarning: Mean of empty slice\n",
      "  volatility_1h = np.nanmean(vol_1h_list)\n"
     ]
    },
    {
     "name": "stdout",
     "output_type": "stream",
     "text": [
      "Processing (1120/3991)\n",
      "Processing (1130/3991)\n"
     ]
    },
    {
     "name": "stderr",
     "output_type": "stream",
     "text": [
      "c:\\Users\\ikurnosau\\Projects\\QuantitativeTrading\\intraday-portfolio-management\\data\\raw\\retrievers\\alpaca_markets_utils.py:71: RuntimeWarning: Mean of empty slice\n",
      "  volatility_15m = np.nanmean(vol_15m_list)\n",
      "c:\\Users\\ikurnosau\\Projects\\QuantitativeTrading\\intraday-portfolio-management\\data\\raw\\retrievers\\alpaca_markets_utils.py:72: RuntimeWarning: Mean of empty slice\n",
      "  volatility_1h = np.nanmean(vol_1h_list)\n"
     ]
    },
    {
     "name": "stdout",
     "output_type": "stream",
     "text": [
      "Processing (1140/3991)\n",
      "Processing (1150/3991)\n",
      "Processing (1160/3991)\n",
      "Processing (1170/3991)\n"
     ]
    },
    {
     "name": "stderr",
     "output_type": "stream",
     "text": [
      "c:\\Users\\ikurnosau\\Projects\\QuantitativeTrading\\intraday-portfolio-management\\data\\raw\\retrievers\\alpaca_markets_utils.py:72: RuntimeWarning: Mean of empty slice\n",
      "  volatility_1h = np.nanmean(vol_1h_list)\n"
     ]
    },
    {
     "name": "stdout",
     "output_type": "stream",
     "text": [
      "Processing (1180/3991)\n",
      "Processing (1190/3991)\n"
     ]
    },
    {
     "name": "stderr",
     "output_type": "stream",
     "text": [
      "c:\\Users\\ikurnosau\\Projects\\QuantitativeTrading\\intraday-portfolio-management\\data\\raw\\retrievers\\alpaca_markets_utils.py:72: RuntimeWarning: Mean of empty slice\n",
      "  volatility_1h = np.nanmean(vol_1h_list)\n",
      "c:\\Users\\ikurnosau\\Projects\\QuantitativeTrading\\intraday-portfolio-management\\data\\raw\\retrievers\\alpaca_markets_utils.py:72: RuntimeWarning: Mean of empty slice\n",
      "  volatility_1h = np.nanmean(vol_1h_list)\n"
     ]
    },
    {
     "name": "stdout",
     "output_type": "stream",
     "text": [
      "Processing (1200/3991)\n",
      "Processing (1210/3991)\n",
      "Processing (1220/3991)\n"
     ]
    },
    {
     "name": "stderr",
     "output_type": "stream",
     "text": [
      "c:\\Users\\ikurnosau\\Projects\\QuantitativeTrading\\intraday-portfolio-management\\data\\raw\\retrievers\\alpaca_markets_utils.py:72: RuntimeWarning: Mean of empty slice\n",
      "  volatility_1h = np.nanmean(vol_1h_list)\n"
     ]
    },
    {
     "name": "stdout",
     "output_type": "stream",
     "text": [
      "Processing (1230/3991)\n",
      "Processing (1240/3991)\n",
      "Processing (1250/3991)\n"
     ]
    },
    {
     "name": "stderr",
     "output_type": "stream",
     "text": [
      "c:\\Users\\ikurnosau\\Projects\\QuantitativeTrading\\intraday-portfolio-management\\data\\raw\\retrievers\\alpaca_markets_utils.py:72: RuntimeWarning: Mean of empty slice\n",
      "  volatility_1h = np.nanmean(vol_1h_list)\n"
     ]
    },
    {
     "name": "stdout",
     "output_type": "stream",
     "text": [
      "Processing (1260/3991)\n",
      "Processing (1270/3991)\n",
      "Processing (1280/3991)\n"
     ]
    },
    {
     "name": "stderr",
     "output_type": "stream",
     "text": [
      "c:\\Users\\ikurnosau\\Projects\\QuantitativeTrading\\intraday-portfolio-management\\data\\raw\\retrievers\\alpaca_markets_utils.py:72: RuntimeWarning: Mean of empty slice\n",
      "  volatility_1h = np.nanmean(vol_1h_list)\n"
     ]
    },
    {
     "name": "stdout",
     "output_type": "stream",
     "text": [
      "Processing (1290/3991)\n",
      "Processing (1300/3991)\n"
     ]
    },
    {
     "name": "stderr",
     "output_type": "stream",
     "text": [
      "c:\\Users\\ikurnosau\\Projects\\QuantitativeTrading\\intraday-portfolio-management\\data\\raw\\retrievers\\alpaca_markets_utils.py:72: RuntimeWarning: Mean of empty slice\n",
      "  volatility_1h = np.nanmean(vol_1h_list)\n"
     ]
    },
    {
     "name": "stdout",
     "output_type": "stream",
     "text": [
      "Processing (1310/3991)\n",
      "Processing (1320/3991)\n",
      "Processing (1330/3991)\n",
      "Processing (1340/3991)\n"
     ]
    },
    {
     "name": "stderr",
     "output_type": "stream",
     "text": [
      "c:\\Users\\ikurnosau\\Projects\\QuantitativeTrading\\intraday-portfolio-management\\data\\raw\\retrievers\\alpaca_markets_utils.py:72: RuntimeWarning: Mean of empty slice\n",
      "  volatility_1h = np.nanmean(vol_1h_list)\n"
     ]
    },
    {
     "name": "stdout",
     "output_type": "stream",
     "text": [
      "Processing (1350/3991)\n"
     ]
    },
    {
     "name": "stderr",
     "output_type": "stream",
     "text": [
      "c:\\Users\\ikurnosau\\Projects\\QuantitativeTrading\\intraday-portfolio-management\\data\\raw\\retrievers\\alpaca_markets_utils.py:72: RuntimeWarning: Mean of empty slice\n",
      "  volatility_1h = np.nanmean(vol_1h_list)\n",
      "c:\\Users\\ikurnosau\\Projects\\QuantitativeTrading\\intraday-portfolio-management\\data\\raw\\retrievers\\alpaca_markets_utils.py:72: RuntimeWarning: Mean of empty slice\n",
      "  volatility_1h = np.nanmean(vol_1h_list)\n"
     ]
    },
    {
     "name": "stdout",
     "output_type": "stream",
     "text": [
      "Processing (1360/3991)\n"
     ]
    },
    {
     "name": "stderr",
     "output_type": "stream",
     "text": [
      "c:\\Users\\ikurnosau\\Projects\\QuantitativeTrading\\intraday-portfolio-management\\data\\raw\\retrievers\\alpaca_markets_utils.py:72: RuntimeWarning: Mean of empty slice\n",
      "  volatility_1h = np.nanmean(vol_1h_list)\n"
     ]
    },
    {
     "name": "stdout",
     "output_type": "stream",
     "text": [
      "Processing (1370/3991)\n",
      "Processing (1380/3991)\n",
      "Processing (1390/3991)\n",
      "Processing (1400/3991)\n"
     ]
    },
    {
     "name": "stderr",
     "output_type": "stream",
     "text": [
      "c:\\Users\\ikurnosau\\Projects\\QuantitativeTrading\\intraday-portfolio-management\\data\\raw\\retrievers\\alpaca_markets_utils.py:71: RuntimeWarning: Mean of empty slice\n",
      "  volatility_15m = np.nanmean(vol_15m_list)\n",
      "c:\\Users\\ikurnosau\\Projects\\QuantitativeTrading\\intraday-portfolio-management\\data\\raw\\retrievers\\alpaca_markets_utils.py:72: RuntimeWarning: Mean of empty slice\n",
      "  volatility_1h = np.nanmean(vol_1h_list)\n"
     ]
    },
    {
     "name": "stdout",
     "output_type": "stream",
     "text": [
      "Processing (1410/3991)\n"
     ]
    },
    {
     "name": "stderr",
     "output_type": "stream",
     "text": [
      "c:\\Users\\ikurnosau\\Projects\\QuantitativeTrading\\intraday-portfolio-management\\data\\raw\\retrievers\\alpaca_markets_utils.py:72: RuntimeWarning: Mean of empty slice\n",
      "  volatility_1h = np.nanmean(vol_1h_list)\n"
     ]
    },
    {
     "name": "stdout",
     "output_type": "stream",
     "text": [
      "Processing (1420/3991)\n",
      "Processing (1430/3991)\n",
      "Processing (1440/3991)\n",
      "Processing (1450/3991)\n"
     ]
    },
    {
     "name": "stderr",
     "output_type": "stream",
     "text": [
      "c:\\Users\\ikurnosau\\Projects\\QuantitativeTrading\\intraday-portfolio-management\\data\\raw\\retrievers\\alpaca_markets_utils.py:72: RuntimeWarning: Mean of empty slice\n",
      "  volatility_1h = np.nanmean(vol_1h_list)\n"
     ]
    },
    {
     "name": "stdout",
     "output_type": "stream",
     "text": [
      "Processing (1460/3991)\n",
      "Processing (1470/3991)\n",
      "Processing (1480/3991)\n"
     ]
    },
    {
     "name": "stderr",
     "output_type": "stream",
     "text": [
      "c:\\Users\\ikurnosau\\Projects\\QuantitativeTrading\\intraday-portfolio-management\\data\\raw\\retrievers\\alpaca_markets_utils.py:72: RuntimeWarning: Mean of empty slice\n",
      "  volatility_1h = np.nanmean(vol_1h_list)\n"
     ]
    },
    {
     "name": "stdout",
     "output_type": "stream",
     "text": [
      "Processing (1490/3991)\n",
      "Processing (1500/3991)\n",
      "Processing (1510/3991)\n",
      "Processing (1520/3991)\n",
      "Processing (1530/3991)\n",
      "Processing (1540/3991)\n",
      "Processing (1550/3991)\n"
     ]
    },
    {
     "name": "stderr",
     "output_type": "stream",
     "text": [
      "c:\\Users\\ikurnosau\\Projects\\QuantitativeTrading\\intraday-portfolio-management\\data\\raw\\retrievers\\alpaca_markets_utils.py:72: RuntimeWarning: Mean of empty slice\n",
      "  volatility_1h = np.nanmean(vol_1h_list)\n"
     ]
    },
    {
     "name": "stdout",
     "output_type": "stream",
     "text": [
      "Processing (1560/3991)\n",
      "Processing (1570/3991)\n",
      "Processing (1580/3991)\n",
      "Processing (1590/3991)\n",
      "Processing (1600/3991)\n"
     ]
    },
    {
     "name": "stderr",
     "output_type": "stream",
     "text": [
      "c:\\Users\\ikurnosau\\Projects\\QuantitativeTrading\\intraday-portfolio-management\\data\\raw\\retrievers\\alpaca_markets_utils.py:72: RuntimeWarning: Mean of empty slice\n",
      "  volatility_1h = np.nanmean(vol_1h_list)\n"
     ]
    },
    {
     "name": "stdout",
     "output_type": "stream",
     "text": [
      "Processing (1610/3991)\n",
      "Processing (1620/3991)\n",
      "Processing (1630/3991)\n"
     ]
    },
    {
     "name": "stderr",
     "output_type": "stream",
     "text": [
      "c:\\Users\\ikurnosau\\Projects\\QuantitativeTrading\\intraday-portfolio-management\\data\\raw\\retrievers\\alpaca_markets_utils.py:72: RuntimeWarning: Mean of empty slice\n",
      "  volatility_1h = np.nanmean(vol_1h_list)\n"
     ]
    },
    {
     "name": "stdout",
     "output_type": "stream",
     "text": [
      "Processing (1640/3991)\n",
      "Processing (1650/3991)\n",
      "Processing (1660/3991)\n",
      "Processing (1670/3991)\n"
     ]
    },
    {
     "name": "stderr",
     "output_type": "stream",
     "text": [
      "c:\\Users\\ikurnosau\\Projects\\QuantitativeTrading\\intraday-portfolio-management\\data\\raw\\retrievers\\alpaca_markets_utils.py:72: RuntimeWarning: Mean of empty slice\n",
      "  volatility_1h = np.nanmean(vol_1h_list)\n",
      "c:\\Users\\ikurnosau\\Projects\\QuantitativeTrading\\intraday-portfolio-management\\data\\raw\\retrievers\\alpaca_markets_utils.py:72: RuntimeWarning: Mean of empty slice\n",
      "  volatility_1h = np.nanmean(vol_1h_list)\n"
     ]
    },
    {
     "name": "stdout",
     "output_type": "stream",
     "text": [
      "Processing (1680/3991)\n",
      "Processing (1690/3991)\n",
      "Processing (1700/3991)\n"
     ]
    },
    {
     "name": "stderr",
     "output_type": "stream",
     "text": [
      "c:\\Users\\ikurnosau\\Projects\\QuantitativeTrading\\intraday-portfolio-management\\data\\raw\\retrievers\\alpaca_markets_utils.py:72: RuntimeWarning: Mean of empty slice\n",
      "  volatility_1h = np.nanmean(vol_1h_list)\n"
     ]
    },
    {
     "name": "stdout",
     "output_type": "stream",
     "text": [
      "Processing (1710/3991)\n",
      "Processing (1720/3991)\n",
      "Processing (1730/3991)\n"
     ]
    },
    {
     "name": "stderr",
     "output_type": "stream",
     "text": [
      "c:\\Users\\ikurnosau\\Projects\\QuantitativeTrading\\intraday-portfolio-management\\data\\raw\\retrievers\\alpaca_markets_utils.py:72: RuntimeWarning: Mean of empty slice\n",
      "  volatility_1h = np.nanmean(vol_1h_list)\n"
     ]
    },
    {
     "name": "stdout",
     "output_type": "stream",
     "text": [
      "Processing (1740/3991)\n",
      "Processing (1750/3991)\n"
     ]
    },
    {
     "name": "stderr",
     "output_type": "stream",
     "text": [
      "c:\\Users\\ikurnosau\\Projects\\QuantitativeTrading\\intraday-portfolio-management\\data\\raw\\retrievers\\alpaca_markets_utils.py:72: RuntimeWarning: Mean of empty slice\n",
      "  volatility_1h = np.nanmean(vol_1h_list)\n",
      "c:\\Users\\ikurnosau\\Projects\\QuantitativeTrading\\intraday-portfolio-management\\data\\raw\\retrievers\\alpaca_markets_utils.py:72: RuntimeWarning: Mean of empty slice\n",
      "  volatility_1h = np.nanmean(vol_1h_list)\n",
      "c:\\Users\\ikurnosau\\Projects\\QuantitativeTrading\\intraday-portfolio-management\\data\\raw\\retrievers\\alpaca_markets_utils.py:72: RuntimeWarning: Mean of empty slice\n",
      "  volatility_1h = np.nanmean(vol_1h_list)\n"
     ]
    },
    {
     "name": "stdout",
     "output_type": "stream",
     "text": [
      "Processing (1760/3991)\n",
      "Processing (1770/3991)\n",
      "Processing (1780/3991)\n",
      "Processing (1790/3991)\n"
     ]
    },
    {
     "name": "stderr",
     "output_type": "stream",
     "text": [
      "c:\\Users\\ikurnosau\\Projects\\QuantitativeTrading\\intraday-portfolio-management\\data\\raw\\retrievers\\alpaca_markets_utils.py:72: RuntimeWarning: Mean of empty slice\n",
      "  volatility_1h = np.nanmean(vol_1h_list)\n",
      "c:\\Users\\ikurnosau\\Projects\\QuantitativeTrading\\intraday-portfolio-management\\data\\raw\\retrievers\\alpaca_markets_utils.py:72: RuntimeWarning: Mean of empty slice\n",
      "  volatility_1h = np.nanmean(vol_1h_list)\n"
     ]
    },
    {
     "name": "stdout",
     "output_type": "stream",
     "text": [
      "Processing (1800/3991)\n",
      "Processing (1810/3991)\n",
      "Processing (1820/3991)\n",
      "Processing (1830/3991)\n"
     ]
    },
    {
     "name": "stderr",
     "output_type": "stream",
     "text": [
      "c:\\Users\\ikurnosau\\Projects\\QuantitativeTrading\\intraday-portfolio-management\\data\\raw\\retrievers\\alpaca_markets_utils.py:72: RuntimeWarning: Mean of empty slice\n",
      "  volatility_1h = np.nanmean(vol_1h_list)\n"
     ]
    },
    {
     "name": "stdout",
     "output_type": "stream",
     "text": [
      "Processing (1840/3991)\n",
      "Processing (1850/3991)\n",
      "Processing (1860/3991)\n",
      "Processing (1870/3991)\n",
      "Processing (1880/3991)\n",
      "Processing (1890/3991)\n",
      "Processing (1900/3991)\n",
      "Processing (1910/3991)\n"
     ]
    },
    {
     "name": "stderr",
     "output_type": "stream",
     "text": [
      "c:\\Users\\ikurnosau\\Projects\\QuantitativeTrading\\intraday-portfolio-management\\data\\raw\\retrievers\\alpaca_markets_utils.py:72: RuntimeWarning: Mean of empty slice\n",
      "  volatility_1h = np.nanmean(vol_1h_list)\n",
      "c:\\Users\\ikurnosau\\Projects\\QuantitativeTrading\\intraday-portfolio-management\\data\\raw\\retrievers\\alpaca_markets_utils.py:72: RuntimeWarning: Mean of empty slice\n",
      "  volatility_1h = np.nanmean(vol_1h_list)\n"
     ]
    },
    {
     "name": "stdout",
     "output_type": "stream",
     "text": [
      "Processing (1920/3991)\n",
      "Processing (1930/3991)\n"
     ]
    },
    {
     "name": "stderr",
     "output_type": "stream",
     "text": [
      "c:\\Users\\ikurnosau\\Projects\\QuantitativeTrading\\intraday-portfolio-management\\data\\raw\\retrievers\\alpaca_markets_utils.py:72: RuntimeWarning: Mean of empty slice\n",
      "  volatility_1h = np.nanmean(vol_1h_list)\n"
     ]
    },
    {
     "name": "stdout",
     "output_type": "stream",
     "text": [
      "Processing (1940/3991)\n",
      "Processing (1950/3991)\n",
      "Processing (1960/3991)\n"
     ]
    },
    {
     "name": "stderr",
     "output_type": "stream",
     "text": [
      "c:\\Users\\ikurnosau\\Projects\\QuantitativeTrading\\intraday-portfolio-management\\data\\raw\\retrievers\\alpaca_markets_utils.py:72: RuntimeWarning: Mean of empty slice\n",
      "  volatility_1h = np.nanmean(vol_1h_list)\n",
      "c:\\Users\\ikurnosau\\Projects\\QuantitativeTrading\\intraday-portfolio-management\\data\\raw\\retrievers\\alpaca_markets_utils.py:72: RuntimeWarning: Mean of empty slice\n",
      "  volatility_1h = np.nanmean(vol_1h_list)\n"
     ]
    },
    {
     "name": "stdout",
     "output_type": "stream",
     "text": [
      "Processing (1970/3991)\n",
      "Processing (1980/3991)\n"
     ]
    },
    {
     "name": "stderr",
     "output_type": "stream",
     "text": [
      "c:\\Users\\ikurnosau\\Projects\\QuantitativeTrading\\intraday-portfolio-management\\data\\raw\\retrievers\\alpaca_markets_utils.py:71: RuntimeWarning: Mean of empty slice\n",
      "  volatility_15m = np.nanmean(vol_15m_list)\n",
      "c:\\Users\\ikurnosau\\Projects\\QuantitativeTrading\\intraday-portfolio-management\\data\\raw\\retrievers\\alpaca_markets_utils.py:72: RuntimeWarning: Mean of empty slice\n",
      "  volatility_1h = np.nanmean(vol_1h_list)\n",
      "c:\\Users\\ikurnosau\\Projects\\QuantitativeTrading\\intraday-portfolio-management\\data\\raw\\retrievers\\alpaca_markets_utils.py:72: RuntimeWarning: Mean of empty slice\n",
      "  volatility_1h = np.nanmean(vol_1h_list)\n"
     ]
    },
    {
     "name": "stdout",
     "output_type": "stream",
     "text": [
      "Processing (1990/3991)\n"
     ]
    },
    {
     "name": "stderr",
     "output_type": "stream",
     "text": [
      "c:\\Users\\ikurnosau\\Projects\\QuantitativeTrading\\intraday-portfolio-management\\data\\raw\\retrievers\\alpaca_markets_utils.py:72: RuntimeWarning: Mean of empty slice\n",
      "  volatility_1h = np.nanmean(vol_1h_list)\n"
     ]
    },
    {
     "name": "stdout",
     "output_type": "stream",
     "text": [
      "Processing (2000/3991)\n",
      "Processing (2010/3991)\n",
      "Processing (2020/3991)\n"
     ]
    },
    {
     "name": "stderr",
     "output_type": "stream",
     "text": [
      "c:\\Users\\ikurnosau\\Projects\\QuantitativeTrading\\intraday-portfolio-management\\data\\raw\\retrievers\\alpaca_markets_utils.py:72: RuntimeWarning: Mean of empty slice\n",
      "  volatility_1h = np.nanmean(vol_1h_list)\n"
     ]
    },
    {
     "name": "stdout",
     "output_type": "stream",
     "text": [
      "Processing (2030/3991)\n"
     ]
    },
    {
     "name": "stderr",
     "output_type": "stream",
     "text": [
      "c:\\Users\\ikurnosau\\Projects\\QuantitativeTrading\\intraday-portfolio-management\\data\\raw\\retrievers\\alpaca_markets_utils.py:72: RuntimeWarning: Mean of empty slice\n",
      "  volatility_1h = np.nanmean(vol_1h_list)\n"
     ]
    },
    {
     "name": "stdout",
     "output_type": "stream",
     "text": [
      "Processing (2040/3991)\n",
      "Processing (2050/3991)\n",
      "Processing (2060/3991)\n"
     ]
    },
    {
     "name": "stderr",
     "output_type": "stream",
     "text": [
      "c:\\Users\\ikurnosau\\Projects\\QuantitativeTrading\\intraday-portfolio-management\\data\\raw\\retrievers\\alpaca_markets_utils.py:70: RuntimeWarning: Mean of empty slice\n",
      "  volatility_5m = np.nanmean(vol_5m_list)\n",
      "c:\\Users\\ikurnosau\\Projects\\QuantitativeTrading\\intraday-portfolio-management\\data\\raw\\retrievers\\alpaca_markets_utils.py:71: RuntimeWarning: Mean of empty slice\n",
      "  volatility_15m = np.nanmean(vol_15m_list)\n",
      "c:\\Users\\ikurnosau\\Projects\\QuantitativeTrading\\intraday-portfolio-management\\data\\raw\\retrievers\\alpaca_markets_utils.py:72: RuntimeWarning: Mean of empty slice\n",
      "  volatility_1h = np.nanmean(vol_1h_list)\n"
     ]
    },
    {
     "name": "stdout",
     "output_type": "stream",
     "text": [
      "Processing (2070/3991)\n",
      "Processing (2080/3991)\n",
      "Processing (2090/3991)\n",
      "Processing (2100/3991)\n",
      "Processing (2110/3991)\n"
     ]
    },
    {
     "name": "stderr",
     "output_type": "stream",
     "text": [
      "c:\\Users\\ikurnosau\\Projects\\QuantitativeTrading\\intraday-portfolio-management\\data\\raw\\retrievers\\alpaca_markets_utils.py:72: RuntimeWarning: Mean of empty slice\n",
      "  volatility_1h = np.nanmean(vol_1h_list)\n"
     ]
    },
    {
     "name": "stdout",
     "output_type": "stream",
     "text": [
      "Processing (2120/3991)\n"
     ]
    },
    {
     "name": "stderr",
     "output_type": "stream",
     "text": [
      "c:\\Users\\ikurnosau\\Projects\\QuantitativeTrading\\intraday-portfolio-management\\data\\raw\\retrievers\\alpaca_markets_utils.py:72: RuntimeWarning: Mean of empty slice\n",
      "  volatility_1h = np.nanmean(vol_1h_list)\n"
     ]
    },
    {
     "name": "stdout",
     "output_type": "stream",
     "text": [
      "Processing (2130/3991)\n"
     ]
    },
    {
     "name": "stderr",
     "output_type": "stream",
     "text": [
      "c:\\Users\\ikurnosau\\Projects\\QuantitativeTrading\\intraday-portfolio-management\\data\\raw\\retrievers\\alpaca_markets_utils.py:72: RuntimeWarning: Mean of empty slice\n",
      "  volatility_1h = np.nanmean(vol_1h_list)\n"
     ]
    },
    {
     "name": "stdout",
     "output_type": "stream",
     "text": [
      "Processing (2140/3991)\n",
      "Processing (2150/3991)\n",
      "Processing (2160/3991)\n",
      "Processing (2170/3991)\n",
      "Processing (2180/3991)\n",
      "Processing (2190/3991)\n",
      "Processing (2200/3991)\n"
     ]
    },
    {
     "name": "stderr",
     "output_type": "stream",
     "text": [
      "c:\\Users\\ikurnosau\\Projects\\QuantitativeTrading\\intraday-portfolio-management\\data\\raw\\retrievers\\alpaca_markets_utils.py:70: RuntimeWarning: Mean of empty slice\n",
      "  volatility_5m = np.nanmean(vol_5m_list)\n",
      "c:\\Users\\ikurnosau\\Projects\\QuantitativeTrading\\intraday-portfolio-management\\data\\raw\\retrievers\\alpaca_markets_utils.py:71: RuntimeWarning: Mean of empty slice\n",
      "  volatility_15m = np.nanmean(vol_15m_list)\n",
      "c:\\Users\\ikurnosau\\Projects\\QuantitativeTrading\\intraday-portfolio-management\\data\\raw\\retrievers\\alpaca_markets_utils.py:72: RuntimeWarning: Mean of empty slice\n",
      "  volatility_1h = np.nanmean(vol_1h_list)\n"
     ]
    },
    {
     "name": "stdout",
     "output_type": "stream",
     "text": [
      "Processing (2210/3991)\n",
      "Processing (2220/3991)\n"
     ]
    },
    {
     "name": "stderr",
     "output_type": "stream",
     "text": [
      "c:\\Users\\ikurnosau\\Projects\\QuantitativeTrading\\intraday-portfolio-management\\data\\raw\\retrievers\\alpaca_markets_utils.py:72: RuntimeWarning: Mean of empty slice\n",
      "  volatility_1h = np.nanmean(vol_1h_list)\n",
      "c:\\Users\\ikurnosau\\Projects\\QuantitativeTrading\\intraday-portfolio-management\\data\\raw\\retrievers\\alpaca_markets_utils.py:70: RuntimeWarning: Mean of empty slice\n",
      "  volatility_5m = np.nanmean(vol_5m_list)\n",
      "c:\\Users\\ikurnosau\\Projects\\QuantitativeTrading\\intraday-portfolio-management\\data\\raw\\retrievers\\alpaca_markets_utils.py:71: RuntimeWarning: Mean of empty slice\n",
      "  volatility_15m = np.nanmean(vol_15m_list)\n",
      "c:\\Users\\ikurnosau\\Projects\\QuantitativeTrading\\intraday-portfolio-management\\data\\raw\\retrievers\\alpaca_markets_utils.py:72: RuntimeWarning: Mean of empty slice\n",
      "  volatility_1h = np.nanmean(vol_1h_list)\n",
      "c:\\Users\\ikurnosau\\Projects\\QuantitativeTrading\\intraday-portfolio-management\\data\\raw\\retrievers\\alpaca_markets_utils.py:72: RuntimeWarning: Mean of empty slice\n",
      "  volatility_1h = np.nanmean(vol_1h_list)\n"
     ]
    },
    {
     "name": "stdout",
     "output_type": "stream",
     "text": [
      "Processing (2230/3991)\n",
      "Processing (2240/3991)\n"
     ]
    },
    {
     "name": "stderr",
     "output_type": "stream",
     "text": [
      "c:\\Users\\ikurnosau\\Projects\\QuantitativeTrading\\intraday-portfolio-management\\data\\raw\\retrievers\\alpaca_markets_utils.py:72: RuntimeWarning: Mean of empty slice\n",
      "  volatility_1h = np.nanmean(vol_1h_list)\n",
      "c:\\Users\\ikurnosau\\Projects\\QuantitativeTrading\\intraday-portfolio-management\\data\\raw\\retrievers\\alpaca_markets_utils.py:72: RuntimeWarning: Mean of empty slice\n",
      "  volatility_1h = np.nanmean(vol_1h_list)\n"
     ]
    },
    {
     "name": "stdout",
     "output_type": "stream",
     "text": [
      "Processing (2250/3991)\n",
      "Processing (2260/3991)\n",
      "Processing (2270/3991)\n",
      "Processing (2280/3991)\n"
     ]
    },
    {
     "name": "stderr",
     "output_type": "stream",
     "text": [
      "c:\\Users\\ikurnosau\\Projects\\QuantitativeTrading\\intraday-portfolio-management\\data\\raw\\retrievers\\alpaca_markets_utils.py:72: RuntimeWarning: Mean of empty slice\n",
      "  volatility_1h = np.nanmean(vol_1h_list)\n",
      "c:\\Users\\ikurnosau\\Projects\\QuantitativeTrading\\intraday-portfolio-management\\data\\raw\\retrievers\\alpaca_markets_utils.py:72: RuntimeWarning: Mean of empty slice\n",
      "  volatility_1h = np.nanmean(vol_1h_list)\n",
      "c:\\Users\\ikurnosau\\Projects\\QuantitativeTrading\\intraday-portfolio-management\\data\\raw\\retrievers\\alpaca_markets_utils.py:72: RuntimeWarning: Mean of empty slice\n",
      "  volatility_1h = np.nanmean(vol_1h_list)\n",
      "c:\\Users\\ikurnosau\\Projects\\QuantitativeTrading\\intraday-portfolio-management\\data\\raw\\retrievers\\alpaca_markets_utils.py:72: RuntimeWarning: Mean of empty slice\n",
      "  volatility_1h = np.nanmean(vol_1h_list)\n",
      "c:\\Users\\ikurnosau\\Projects\\QuantitativeTrading\\intraday-portfolio-management\\data\\raw\\retrievers\\alpaca_markets_utils.py:72: RuntimeWarning: Mean of empty slice\n",
      "  volatility_1h = np.nanmean(vol_1h_list)\n",
      "c:\\Users\\ikurnosau\\Projects\\QuantitativeTrading\\intraday-portfolio-management\\data\\raw\\retrievers\\alpaca_markets_utils.py:72: RuntimeWarning: Mean of empty slice\n",
      "  volatility_1h = np.nanmean(vol_1h_list)\n"
     ]
    },
    {
     "name": "stdout",
     "output_type": "stream",
     "text": [
      "Processing (2290/3991)\n",
      "Processing (2300/3991)\n"
     ]
    },
    {
     "name": "stderr",
     "output_type": "stream",
     "text": [
      "c:\\Users\\ikurnosau\\Projects\\QuantitativeTrading\\intraday-portfolio-management\\data\\raw\\retrievers\\alpaca_markets_utils.py:72: RuntimeWarning: Mean of empty slice\n",
      "  volatility_1h = np.nanmean(vol_1h_list)\n"
     ]
    },
    {
     "name": "stdout",
     "output_type": "stream",
     "text": [
      "Processing (2310/3991)\n",
      "Processing (2320/3991)\n",
      "Processing (2330/3991)\n",
      "Processing (2340/3991)\n",
      "Processing (2350/3991)\n"
     ]
    },
    {
     "name": "stderr",
     "output_type": "stream",
     "text": [
      "c:\\Users\\ikurnosau\\Projects\\QuantitativeTrading\\intraday-portfolio-management\\data\\raw\\retrievers\\alpaca_markets_utils.py:72: RuntimeWarning: Mean of empty slice\n",
      "  volatility_1h = np.nanmean(vol_1h_list)\n",
      "c:\\Users\\ikurnosau\\Projects\\QuantitativeTrading\\intraday-portfolio-management\\data\\raw\\retrievers\\alpaca_markets_utils.py:72: RuntimeWarning: Mean of empty slice\n",
      "  volatility_1h = np.nanmean(vol_1h_list)\n"
     ]
    },
    {
     "name": "stdout",
     "output_type": "stream",
     "text": [
      "Processing (2360/3991)\n",
      "Processing (2370/3991)\n",
      "Processing (2380/3991)\n",
      "Processing (2390/3991)\n",
      "Processing (2400/3991)\n",
      "Processing (2410/3991)\n"
     ]
    },
    {
     "name": "stderr",
     "output_type": "stream",
     "text": [
      "c:\\Users\\ikurnosau\\Projects\\QuantitativeTrading\\intraday-portfolio-management\\data\\raw\\retrievers\\alpaca_markets_utils.py:72: RuntimeWarning: Mean of empty slice\n",
      "  volatility_1h = np.nanmean(vol_1h_list)\n"
     ]
    },
    {
     "name": "stdout",
     "output_type": "stream",
     "text": [
      "Processing (2420/3991)\n"
     ]
    },
    {
     "name": "stderr",
     "output_type": "stream",
     "text": [
      "c:\\Users\\ikurnosau\\Projects\\QuantitativeTrading\\intraday-portfolio-management\\data\\raw\\retrievers\\alpaca_markets_utils.py:72: RuntimeWarning: Mean of empty slice\n",
      "  volatility_1h = np.nanmean(vol_1h_list)\n"
     ]
    },
    {
     "name": "stdout",
     "output_type": "stream",
     "text": [
      "Processing (2430/3991)\n"
     ]
    },
    {
     "name": "stderr",
     "output_type": "stream",
     "text": [
      "c:\\Users\\ikurnosau\\Projects\\QuantitativeTrading\\intraday-portfolio-management\\data\\raw\\retrievers\\alpaca_markets_utils.py:72: RuntimeWarning: Mean of empty slice\n",
      "  volatility_1h = np.nanmean(vol_1h_list)\n",
      "c:\\Users\\ikurnosau\\Projects\\QuantitativeTrading\\intraday-portfolio-management\\data\\raw\\retrievers\\alpaca_markets_utils.py:72: RuntimeWarning: Mean of empty slice\n",
      "  volatility_1h = np.nanmean(vol_1h_list)\n",
      "c:\\Users\\ikurnosau\\Projects\\QuantitativeTrading\\intraday-portfolio-management\\data\\raw\\retrievers\\alpaca_markets_utils.py:72: RuntimeWarning: Mean of empty slice\n",
      "  volatility_1h = np.nanmean(vol_1h_list)\n"
     ]
    },
    {
     "name": "stdout",
     "output_type": "stream",
     "text": [
      "Processing (2440/3991)\n"
     ]
    },
    {
     "name": "stderr",
     "output_type": "stream",
     "text": [
      "c:\\Users\\ikurnosau\\Projects\\QuantitativeTrading\\intraday-portfolio-management\\data\\raw\\retrievers\\alpaca_markets_utils.py:72: RuntimeWarning: Mean of empty slice\n",
      "  volatility_1h = np.nanmean(vol_1h_list)\n"
     ]
    },
    {
     "name": "stdout",
     "output_type": "stream",
     "text": [
      "Processing (2450/3991)\n",
      "Processing (2460/3991)\n",
      "Processing (2470/3991)\n"
     ]
    },
    {
     "name": "stderr",
     "output_type": "stream",
     "text": [
      "c:\\Users\\ikurnosau\\Projects\\QuantitativeTrading\\intraday-portfolio-management\\data\\raw\\retrievers\\alpaca_markets_utils.py:72: RuntimeWarning: Mean of empty slice\n",
      "  volatility_1h = np.nanmean(vol_1h_list)\n"
     ]
    },
    {
     "name": "stdout",
     "output_type": "stream",
     "text": [
      "Processing (2480/3991)\n",
      "Processing (2490/3991)\n",
      "Processing (2500/3991)\n",
      "Processing (2510/3991)\n",
      "Processing (2520/3991)\n"
     ]
    },
    {
     "name": "stderr",
     "output_type": "stream",
     "text": [
      "c:\\Users\\ikurnosau\\Projects\\QuantitativeTrading\\intraday-portfolio-management\\data\\raw\\retrievers\\alpaca_markets_utils.py:72: RuntimeWarning: Mean of empty slice\n",
      "  volatility_1h = np.nanmean(vol_1h_list)\n"
     ]
    },
    {
     "name": "stdout",
     "output_type": "stream",
     "text": [
      "Processing (2530/3991)\n"
     ]
    },
    {
     "name": "stderr",
     "output_type": "stream",
     "text": [
      "c:\\Users\\ikurnosau\\Projects\\QuantitativeTrading\\intraday-portfolio-management\\data\\raw\\retrievers\\alpaca_markets_utils.py:72: RuntimeWarning: Mean of empty slice\n",
      "  volatility_1h = np.nanmean(vol_1h_list)\n",
      "c:\\Users\\ikurnosau\\Projects\\QuantitativeTrading\\intraday-portfolio-management\\data\\raw\\retrievers\\alpaca_markets_utils.py:72: RuntimeWarning: Mean of empty slice\n",
      "  volatility_1h = np.nanmean(vol_1h_list)\n"
     ]
    },
    {
     "name": "stdout",
     "output_type": "stream",
     "text": [
      "Processing (2540/3991)\n"
     ]
    },
    {
     "name": "stderr",
     "output_type": "stream",
     "text": [
      "c:\\Users\\ikurnosau\\Projects\\QuantitativeTrading\\intraday-portfolio-management\\data\\raw\\retrievers\\alpaca_markets_utils.py:72: RuntimeWarning: Mean of empty slice\n",
      "  volatility_1h = np.nanmean(vol_1h_list)\n",
      "c:\\Users\\ikurnosau\\Projects\\QuantitativeTrading\\intraday-portfolio-management\\data\\raw\\retrievers\\alpaca_markets_utils.py:72: RuntimeWarning: Mean of empty slice\n",
      "  volatility_1h = np.nanmean(vol_1h_list)\n"
     ]
    },
    {
     "name": "stdout",
     "output_type": "stream",
     "text": [
      "Processing (2550/3991)\n",
      "Processing (2560/3991)\n"
     ]
    },
    {
     "name": "stderr",
     "output_type": "stream",
     "text": [
      "c:\\Users\\ikurnosau\\Projects\\QuantitativeTrading\\intraday-portfolio-management\\data\\raw\\retrievers\\alpaca_markets_utils.py:72: RuntimeWarning: Mean of empty slice\n",
      "  volatility_1h = np.nanmean(vol_1h_list)\n"
     ]
    },
    {
     "name": "stdout",
     "output_type": "stream",
     "text": [
      "Processing (2570/3991)\n"
     ]
    },
    {
     "name": "stderr",
     "output_type": "stream",
     "text": [
      "c:\\Users\\ikurnosau\\Projects\\QuantitativeTrading\\intraday-portfolio-management\\data\\raw\\retrievers\\alpaca_markets_utils.py:72: RuntimeWarning: Mean of empty slice\n",
      "  volatility_1h = np.nanmean(vol_1h_list)\n",
      "c:\\Users\\ikurnosau\\Projects\\QuantitativeTrading\\intraday-portfolio-management\\data\\raw\\retrievers\\alpaca_markets_utils.py:72: RuntimeWarning: Mean of empty slice\n",
      "  volatility_1h = np.nanmean(vol_1h_list)\n"
     ]
    },
    {
     "name": "stdout",
     "output_type": "stream",
     "text": [
      "Processing (2580/3991)\n"
     ]
    },
    {
     "name": "stderr",
     "output_type": "stream",
     "text": [
      "c:\\Users\\ikurnosau\\Projects\\QuantitativeTrading\\intraday-portfolio-management\\data\\raw\\retrievers\\alpaca_markets_utils.py:72: RuntimeWarning: Mean of empty slice\n",
      "  volatility_1h = np.nanmean(vol_1h_list)\n",
      "c:\\Users\\ikurnosau\\anaconda3\\envs\\mldl\\Lib\\site-packages\\numpy\\core\\fromnumeric.py:3504: RuntimeWarning: Mean of empty slice.\n",
      "  return _methods._mean(a, axis=axis, dtype=dtype,\n",
      "c:\\Users\\ikurnosau\\anaconda3\\envs\\mldl\\Lib\\site-packages\\numpy\\core\\_methods.py:129: RuntimeWarning: invalid value encountered in scalar divide\n",
      "  ret = ret.dtype.type(ret / rcount)\n"
     ]
    },
    {
     "name": "stdout",
     "output_type": "stream",
     "text": [
      "Processing (2590/3991)\n"
     ]
    },
    {
     "name": "stderr",
     "output_type": "stream",
     "text": [
      "c:\\Users\\ikurnosau\\Projects\\QuantitativeTrading\\intraday-portfolio-management\\data\\raw\\retrievers\\alpaca_markets_utils.py:72: RuntimeWarning: Mean of empty slice\n",
      "  volatility_1h = np.nanmean(vol_1h_list)\n",
      "c:\\Users\\ikurnosau\\Projects\\QuantitativeTrading\\intraday-portfolio-management\\data\\raw\\retrievers\\alpaca_markets_utils.py:72: RuntimeWarning: Mean of empty slice\n",
      "  volatility_1h = np.nanmean(vol_1h_list)\n"
     ]
    },
    {
     "name": "stdout",
     "output_type": "stream",
     "text": [
      "Processing (2600/3991)\n"
     ]
    },
    {
     "name": "stderr",
     "output_type": "stream",
     "text": [
      "c:\\Users\\ikurnosau\\Projects\\QuantitativeTrading\\intraday-portfolio-management\\data\\raw\\retrievers\\alpaca_markets_utils.py:72: RuntimeWarning: Mean of empty slice\n",
      "  volatility_1h = np.nanmean(vol_1h_list)\n"
     ]
    },
    {
     "name": "stdout",
     "output_type": "stream",
     "text": [
      "Processing (2610/3991)\n"
     ]
    },
    {
     "name": "stderr",
     "output_type": "stream",
     "text": [
      "c:\\Users\\ikurnosau\\Projects\\QuantitativeTrading\\intraday-portfolio-management\\data\\raw\\retrievers\\alpaca_markets_utils.py:72: RuntimeWarning: Mean of empty slice\n",
      "  volatility_1h = np.nanmean(vol_1h_list)\n"
     ]
    },
    {
     "name": "stdout",
     "output_type": "stream",
     "text": [
      "Processing (2620/3991)\n",
      "Processing (2630/3991)\n",
      "Processing (2640/3991)\n"
     ]
    },
    {
     "name": "stderr",
     "output_type": "stream",
     "text": [
      "c:\\Users\\ikurnosau\\Projects\\QuantitativeTrading\\intraday-portfolio-management\\data\\raw\\retrievers\\alpaca_markets_utils.py:72: RuntimeWarning: Mean of empty slice\n",
      "  volatility_1h = np.nanmean(vol_1h_list)\n"
     ]
    },
    {
     "name": "stdout",
     "output_type": "stream",
     "text": [
      "Processing (2650/3991)\n"
     ]
    },
    {
     "name": "stderr",
     "output_type": "stream",
     "text": [
      "c:\\Users\\ikurnosau\\Projects\\QuantitativeTrading\\intraday-portfolio-management\\data\\raw\\retrievers\\alpaca_markets_utils.py:72: RuntimeWarning: Mean of empty slice\n",
      "  volatility_1h = np.nanmean(vol_1h_list)\n"
     ]
    },
    {
     "name": "stdout",
     "output_type": "stream",
     "text": [
      "Processing (2660/3991)\n",
      "Processing (2670/3991)\n",
      "Processing (2680/3991)\n",
      "Processing (2690/3991)\n"
     ]
    },
    {
     "name": "stderr",
     "output_type": "stream",
     "text": [
      "c:\\Users\\ikurnosau\\Projects\\QuantitativeTrading\\intraday-portfolio-management\\data\\raw\\retrievers\\alpaca_markets_utils.py:71: RuntimeWarning: Mean of empty slice\n",
      "  volatility_15m = np.nanmean(vol_15m_list)\n",
      "c:\\Users\\ikurnosau\\Projects\\QuantitativeTrading\\intraday-portfolio-management\\data\\raw\\retrievers\\alpaca_markets_utils.py:72: RuntimeWarning: Mean of empty slice\n",
      "  volatility_1h = np.nanmean(vol_1h_list)\n"
     ]
    },
    {
     "name": "stdout",
     "output_type": "stream",
     "text": [
      "Processing (2700/3991)\n"
     ]
    },
    {
     "name": "stderr",
     "output_type": "stream",
     "text": [
      "c:\\Users\\ikurnosau\\Projects\\QuantitativeTrading\\intraday-portfolio-management\\data\\raw\\retrievers\\alpaca_markets_utils.py:72: RuntimeWarning: Mean of empty slice\n",
      "  volatility_1h = np.nanmean(vol_1h_list)\n"
     ]
    },
    {
     "name": "stdout",
     "output_type": "stream",
     "text": [
      "Processing (2710/3991)\n",
      "Processing (2720/3991)\n",
      "Processing (2730/3991)\n",
      "Processing (2740/3991)\n",
      "Processing (2750/3991)\n",
      "Processing (2760/3991)\n",
      "Processing (2770/3991)\n"
     ]
    },
    {
     "name": "stderr",
     "output_type": "stream",
     "text": [
      "c:\\Users\\ikurnosau\\Projects\\QuantitativeTrading\\intraday-portfolio-management\\data\\raw\\retrievers\\alpaca_markets_utils.py:71: RuntimeWarning: Mean of empty slice\n",
      "  volatility_15m = np.nanmean(vol_15m_list)\n",
      "c:\\Users\\ikurnosau\\Projects\\QuantitativeTrading\\intraday-portfolio-management\\data\\raw\\retrievers\\alpaca_markets_utils.py:72: RuntimeWarning: Mean of empty slice\n",
      "  volatility_1h = np.nanmean(vol_1h_list)\n"
     ]
    },
    {
     "name": "stdout",
     "output_type": "stream",
     "text": [
      "Processing (2780/3991)\n",
      "Processing (2790/3991)\n",
      "Processing (2800/3991)\n",
      "Processing (2810/3991)\n",
      "Processing (2820/3991)\n",
      "Processing (2830/3991)\n"
     ]
    },
    {
     "name": "stderr",
     "output_type": "stream",
     "text": [
      "c:\\Users\\ikurnosau\\Projects\\QuantitativeTrading\\intraday-portfolio-management\\data\\raw\\retrievers\\alpaca_markets_utils.py:72: RuntimeWarning: Mean of empty slice\n",
      "  volatility_1h = np.nanmean(vol_1h_list)\n",
      "c:\\Users\\ikurnosau\\Projects\\QuantitativeTrading\\intraday-portfolio-management\\data\\raw\\retrievers\\alpaca_markets_utils.py:72: RuntimeWarning: Mean of empty slice\n",
      "  volatility_1h = np.nanmean(vol_1h_list)\n"
     ]
    },
    {
     "name": "stdout",
     "output_type": "stream",
     "text": [
      "Processing (2840/3991)\n"
     ]
    },
    {
     "name": "stderr",
     "output_type": "stream",
     "text": [
      "c:\\Users\\ikurnosau\\Projects\\QuantitativeTrading\\intraday-portfolio-management\\data\\raw\\retrievers\\alpaca_markets_utils.py:71: RuntimeWarning: Mean of empty slice\n",
      "  volatility_15m = np.nanmean(vol_15m_list)\n",
      "c:\\Users\\ikurnosau\\Projects\\QuantitativeTrading\\intraday-portfolio-management\\data\\raw\\retrievers\\alpaca_markets_utils.py:72: RuntimeWarning: Mean of empty slice\n",
      "  volatility_1h = np.nanmean(vol_1h_list)\n"
     ]
    },
    {
     "name": "stdout",
     "output_type": "stream",
     "text": [
      "Processing (2850/3991)\n",
      "Processing (2860/3991)\n",
      "Processing (2870/3991)\n"
     ]
    },
    {
     "name": "stderr",
     "output_type": "stream",
     "text": [
      "c:\\Users\\ikurnosau\\Projects\\QuantitativeTrading\\intraday-portfolio-management\\data\\raw\\retrievers\\alpaca_markets_utils.py:72: RuntimeWarning: Mean of empty slice\n",
      "  volatility_1h = np.nanmean(vol_1h_list)\n",
      "c:\\Users\\ikurnosau\\Projects\\QuantitativeTrading\\intraday-portfolio-management\\data\\raw\\retrievers\\alpaca_markets_utils.py:72: RuntimeWarning: Mean of empty slice\n",
      "  volatility_1h = np.nanmean(vol_1h_list)\n"
     ]
    },
    {
     "name": "stdout",
     "output_type": "stream",
     "text": [
      "Processing (2880/3991)\n"
     ]
    },
    {
     "name": "stderr",
     "output_type": "stream",
     "text": [
      "c:\\Users\\ikurnosau\\Projects\\QuantitativeTrading\\intraday-portfolio-management\\data\\raw\\retrievers\\alpaca_markets_utils.py:71: RuntimeWarning: Mean of empty slice\n",
      "  volatility_15m = np.nanmean(vol_15m_list)\n",
      "c:\\Users\\ikurnosau\\Projects\\QuantitativeTrading\\intraday-portfolio-management\\data\\raw\\retrievers\\alpaca_markets_utils.py:72: RuntimeWarning: Mean of empty slice\n",
      "  volatility_1h = np.nanmean(vol_1h_list)\n",
      "c:\\Users\\ikurnosau\\Projects\\QuantitativeTrading\\intraday-portfolio-management\\data\\raw\\retrievers\\alpaca_markets_utils.py:72: RuntimeWarning: Mean of empty slice\n",
      "  volatility_1h = np.nanmean(vol_1h_list)\n",
      "c:\\Users\\ikurnosau\\Projects\\QuantitativeTrading\\intraday-portfolio-management\\data\\raw\\retrievers\\alpaca_markets_utils.py:72: RuntimeWarning: Mean of empty slice\n",
      "  volatility_1h = np.nanmean(vol_1h_list)\n"
     ]
    },
    {
     "name": "stdout",
     "output_type": "stream",
     "text": [
      "Processing (2890/3991)\n",
      "Processing (2900/3991)\n"
     ]
    },
    {
     "name": "stderr",
     "output_type": "stream",
     "text": [
      "c:\\Users\\ikurnosau\\Projects\\QuantitativeTrading\\intraday-portfolio-management\\data\\raw\\retrievers\\alpaca_markets_utils.py:72: RuntimeWarning: Mean of empty slice\n",
      "  volatility_1h = np.nanmean(vol_1h_list)\n"
     ]
    },
    {
     "name": "stdout",
     "output_type": "stream",
     "text": [
      "Processing (2910/3991)\n"
     ]
    },
    {
     "name": "stderr",
     "output_type": "stream",
     "text": [
      "c:\\Users\\ikurnosau\\Projects\\QuantitativeTrading\\intraday-portfolio-management\\data\\raw\\retrievers\\alpaca_markets_utils.py:70: RuntimeWarning: Mean of empty slice\n",
      "  volatility_5m = np.nanmean(vol_5m_list)\n",
      "c:\\Users\\ikurnosau\\Projects\\QuantitativeTrading\\intraday-portfolio-management\\data\\raw\\retrievers\\alpaca_markets_utils.py:71: RuntimeWarning: Mean of empty slice\n",
      "  volatility_15m = np.nanmean(vol_15m_list)\n",
      "c:\\Users\\ikurnosau\\Projects\\QuantitativeTrading\\intraday-portfolio-management\\data\\raw\\retrievers\\alpaca_markets_utils.py:72: RuntimeWarning: Mean of empty slice\n",
      "  volatility_1h = np.nanmean(vol_1h_list)\n",
      "c:\\Users\\ikurnosau\\Projects\\QuantitativeTrading\\intraday-portfolio-management\\data\\raw\\retrievers\\alpaca_markets_utils.py:72: RuntimeWarning: Mean of empty slice\n",
      "  volatility_1h = np.nanmean(vol_1h_list)\n"
     ]
    },
    {
     "name": "stdout",
     "output_type": "stream",
     "text": [
      "Processing (2920/3991)\n",
      "Processing (2930/3991)\n"
     ]
    },
    {
     "name": "stderr",
     "output_type": "stream",
     "text": [
      "c:\\Users\\ikurnosau\\anaconda3\\envs\\mldl\\Lib\\site-packages\\numpy\\core\\fromnumeric.py:3504: RuntimeWarning: Mean of empty slice.\n",
      "  return _methods._mean(a, axis=axis, dtype=dtype,\n",
      "c:\\Users\\ikurnosau\\anaconda3\\envs\\mldl\\Lib\\site-packages\\numpy\\core\\_methods.py:129: RuntimeWarning: invalid value encountered in scalar divide\n",
      "  ret = ret.dtype.type(ret / rcount)\n"
     ]
    },
    {
     "name": "stdout",
     "output_type": "stream",
     "text": [
      "Processing (2940/3991)\n",
      "Processing (2950/3991)\n"
     ]
    },
    {
     "name": "stderr",
     "output_type": "stream",
     "text": [
      "c:\\Users\\ikurnosau\\Projects\\QuantitativeTrading\\intraday-portfolio-management\\data\\raw\\retrievers\\alpaca_markets_utils.py:72: RuntimeWarning: Mean of empty slice\n",
      "  volatility_1h = np.nanmean(vol_1h_list)\n"
     ]
    },
    {
     "name": "stdout",
     "output_type": "stream",
     "text": [
      "Processing (2960/3991)\n",
      "Processing (2970/3991)\n"
     ]
    },
    {
     "name": "stderr",
     "output_type": "stream",
     "text": [
      "c:\\Users\\ikurnosau\\Projects\\QuantitativeTrading\\intraday-portfolio-management\\data\\raw\\retrievers\\alpaca_markets_utils.py:72: RuntimeWarning: Mean of empty slice\n",
      "  volatility_1h = np.nanmean(vol_1h_list)\n",
      "c:\\Users\\ikurnosau\\Projects\\QuantitativeTrading\\intraday-portfolio-management\\data\\raw\\retrievers\\alpaca_markets_utils.py:71: RuntimeWarning: Mean of empty slice\n",
      "  volatility_15m = np.nanmean(vol_15m_list)\n",
      "c:\\Users\\ikurnosau\\Projects\\QuantitativeTrading\\intraday-portfolio-management\\data\\raw\\retrievers\\alpaca_markets_utils.py:72: RuntimeWarning: Mean of empty slice\n",
      "  volatility_1h = np.nanmean(vol_1h_list)\n"
     ]
    },
    {
     "name": "stdout",
     "output_type": "stream",
     "text": [
      "Processing (2980/3991)\n",
      "Processing (2990/3991)\n",
      "Processing (3000/3991)\n"
     ]
    },
    {
     "name": "stderr",
     "output_type": "stream",
     "text": [
      "c:\\Users\\ikurnosau\\Projects\\QuantitativeTrading\\intraday-portfolio-management\\data\\raw\\retrievers\\alpaca_markets_utils.py:72: RuntimeWarning: Mean of empty slice\n",
      "  volatility_1h = np.nanmean(vol_1h_list)\n"
     ]
    },
    {
     "name": "stdout",
     "output_type": "stream",
     "text": [
      "Processing (3010/3991)\n",
      "Processing (3020/3991)\n",
      "Processing (3030/3991)\n",
      "Processing (3040/3991)\n",
      "Processing (3050/3991)\n",
      "Processing (3060/3991)\n",
      "Processing (3070/3991)\n",
      "Processing (3080/3991)\n",
      "Processing (3090/3991)\n",
      "Processing (3100/3991)\n",
      "Processing (3110/3991)\n",
      "Processing (3120/3991)\n",
      "Processing (3130/3991)\n",
      "Processing (3140/3991)\n",
      "Processing (3150/3991)\n"
     ]
    },
    {
     "name": "stderr",
     "output_type": "stream",
     "text": [
      "c:\\Users\\ikurnosau\\Projects\\QuantitativeTrading\\intraday-portfolio-management\\data\\raw\\retrievers\\alpaca_markets_utils.py:71: RuntimeWarning: Mean of empty slice\n",
      "  volatility_15m = np.nanmean(vol_15m_list)\n",
      "c:\\Users\\ikurnosau\\Projects\\QuantitativeTrading\\intraday-portfolio-management\\data\\raw\\retrievers\\alpaca_markets_utils.py:72: RuntimeWarning: Mean of empty slice\n",
      "  volatility_1h = np.nanmean(vol_1h_list)\n"
     ]
    },
    {
     "name": "stdout",
     "output_type": "stream",
     "text": [
      "Processing (3160/3991)\n",
      "Processing (3170/3991)\n",
      "Processing (3180/3991)\n",
      "Processing (3190/3991)\n",
      "Processing (3200/3991)\n",
      "Processing (3210/3991)\n"
     ]
    },
    {
     "name": "stderr",
     "output_type": "stream",
     "text": [
      "c:\\Users\\ikurnosau\\Projects\\QuantitativeTrading\\intraday-portfolio-management\\data\\raw\\retrievers\\alpaca_markets_utils.py:72: RuntimeWarning: Mean of empty slice\n",
      "  volatility_1h = np.nanmean(vol_1h_list)\n"
     ]
    },
    {
     "name": "stdout",
     "output_type": "stream",
     "text": [
      "Processing (3220/3991)\n",
      "Processing (3230/3991)\n",
      "Processing (3240/3991)\n"
     ]
    },
    {
     "name": "stderr",
     "output_type": "stream",
     "text": [
      "c:\\Users\\ikurnosau\\Projects\\QuantitativeTrading\\intraday-portfolio-management\\data\\raw\\retrievers\\alpaca_markets_utils.py:71: RuntimeWarning: Mean of empty slice\n",
      "  volatility_15m = np.nanmean(vol_15m_list)\n",
      "c:\\Users\\ikurnosau\\Projects\\QuantitativeTrading\\intraday-portfolio-management\\data\\raw\\retrievers\\alpaca_markets_utils.py:72: RuntimeWarning: Mean of empty slice\n",
      "  volatility_1h = np.nanmean(vol_1h_list)\n"
     ]
    },
    {
     "name": "stdout",
     "output_type": "stream",
     "text": [
      "Processing (3250/3991)\n"
     ]
    },
    {
     "name": "stderr",
     "output_type": "stream",
     "text": [
      "c:\\Users\\ikurnosau\\Projects\\QuantitativeTrading\\intraday-portfolio-management\\data\\raw\\retrievers\\alpaca_markets_utils.py:72: RuntimeWarning: Mean of empty slice\n",
      "  volatility_1h = np.nanmean(vol_1h_list)\n"
     ]
    },
    {
     "name": "stdout",
     "output_type": "stream",
     "text": [
      "Processing (3260/3991)\n",
      "Processing (3270/3991)\n",
      "Processing (3280/3991)\n"
     ]
    },
    {
     "name": "stderr",
     "output_type": "stream",
     "text": [
      "c:\\Users\\ikurnosau\\Projects\\QuantitativeTrading\\intraday-portfolio-management\\data\\raw\\retrievers\\alpaca_markets_utils.py:72: RuntimeWarning: Mean of empty slice\n",
      "  volatility_1h = np.nanmean(vol_1h_list)\n"
     ]
    },
    {
     "name": "stdout",
     "output_type": "stream",
     "text": [
      "Processing (3290/3991)\n",
      "Processing (3300/3991)\n"
     ]
    },
    {
     "name": "stderr",
     "output_type": "stream",
     "text": [
      "c:\\Users\\ikurnosau\\Projects\\QuantitativeTrading\\intraday-portfolio-management\\data\\raw\\retrievers\\alpaca_markets_utils.py:72: RuntimeWarning: Mean of empty slice\n",
      "  volatility_1h = np.nanmean(vol_1h_list)\n"
     ]
    },
    {
     "name": "stdout",
     "output_type": "stream",
     "text": [
      "Processing (3310/3991)\n",
      "Processing (3320/3991)\n",
      "Processing (3330/3991)\n"
     ]
    },
    {
     "name": "stderr",
     "output_type": "stream",
     "text": [
      "c:\\Users\\ikurnosau\\Projects\\QuantitativeTrading\\intraday-portfolio-management\\data\\raw\\retrievers\\alpaca_markets_utils.py:72: RuntimeWarning: Mean of empty slice\n",
      "  volatility_1h = np.nanmean(vol_1h_list)\n"
     ]
    },
    {
     "name": "stdout",
     "output_type": "stream",
     "text": [
      "Processing (3340/3991)\n"
     ]
    },
    {
     "name": "stderr",
     "output_type": "stream",
     "text": [
      "c:\\Users\\ikurnosau\\Projects\\QuantitativeTrading\\intraday-portfolio-management\\data\\raw\\retrievers\\alpaca_markets_utils.py:72: RuntimeWarning: Mean of empty slice\n",
      "  volatility_1h = np.nanmean(vol_1h_list)\n"
     ]
    },
    {
     "name": "stdout",
     "output_type": "stream",
     "text": [
      "Processing (3350/3991)\n",
      "Processing (3360/3991)\n",
      "Processing (3370/3991)\n",
      "Processing (3380/3991)\n",
      "Processing (3390/3991)\n"
     ]
    },
    {
     "name": "stderr",
     "output_type": "stream",
     "text": [
      "c:\\Users\\ikurnosau\\Projects\\QuantitativeTrading\\intraday-portfolio-management\\data\\raw\\retrievers\\alpaca_markets_utils.py:72: RuntimeWarning: Mean of empty slice\n",
      "  volatility_1h = np.nanmean(vol_1h_list)\n"
     ]
    },
    {
     "name": "stdout",
     "output_type": "stream",
     "text": [
      "Processing (3400/3991)\n",
      "Processing (3410/3991)\n",
      "Processing (3420/3991)\n",
      "Processing (3430/3991)\n",
      "Processing (3440/3991)\n",
      "Processing (3450/3991)\n"
     ]
    },
    {
     "name": "stderr",
     "output_type": "stream",
     "text": [
      "c:\\Users\\ikurnosau\\Projects\\QuantitativeTrading\\intraday-portfolio-management\\data\\raw\\retrievers\\alpaca_markets_utils.py:71: RuntimeWarning: Mean of empty slice\n",
      "  volatility_15m = np.nanmean(vol_15m_list)\n",
      "c:\\Users\\ikurnosau\\Projects\\QuantitativeTrading\\intraday-portfolio-management\\data\\raw\\retrievers\\alpaca_markets_utils.py:72: RuntimeWarning: Mean of empty slice\n",
      "  volatility_1h = np.nanmean(vol_1h_list)\n"
     ]
    },
    {
     "name": "stdout",
     "output_type": "stream",
     "text": [
      "Processing (3460/3991)\n",
      "Processing (3470/3991)\n",
      "Processing (3480/3991)\n",
      "Processing (3490/3991)\n"
     ]
    },
    {
     "name": "stderr",
     "output_type": "stream",
     "text": [
      "c:\\Users\\ikurnosau\\Projects\\QuantitativeTrading\\intraday-portfolio-management\\data\\raw\\retrievers\\alpaca_markets_utils.py:72: RuntimeWarning: Mean of empty slice\n",
      "  volatility_1h = np.nanmean(vol_1h_list)\n"
     ]
    },
    {
     "name": "stdout",
     "output_type": "stream",
     "text": [
      "Processing (3500/3991)\n"
     ]
    },
    {
     "name": "stderr",
     "output_type": "stream",
     "text": [
      "c:\\Users\\ikurnosau\\Projects\\QuantitativeTrading\\intraday-portfolio-management\\data\\raw\\retrievers\\alpaca_markets_utils.py:71: RuntimeWarning: Mean of empty slice\n",
      "  volatility_15m = np.nanmean(vol_15m_list)\n",
      "c:\\Users\\ikurnosau\\Projects\\QuantitativeTrading\\intraday-portfolio-management\\data\\raw\\retrievers\\alpaca_markets_utils.py:72: RuntimeWarning: Mean of empty slice\n",
      "  volatility_1h = np.nanmean(vol_1h_list)\n",
      "c:\\Users\\ikurnosau\\Projects\\QuantitativeTrading\\intraday-portfolio-management\\data\\raw\\retrievers\\alpaca_markets_utils.py:72: RuntimeWarning: Mean of empty slice\n",
      "  volatility_1h = np.nanmean(vol_1h_list)\n",
      "c:\\Users\\ikurnosau\\Projects\\QuantitativeTrading\\intraday-portfolio-management\\data\\raw\\retrievers\\alpaca_markets_utils.py:72: RuntimeWarning: Mean of empty slice\n",
      "  volatility_1h = np.nanmean(vol_1h_list)\n"
     ]
    },
    {
     "name": "stdout",
     "output_type": "stream",
     "text": [
      "Processing (3510/3991)\n",
      "Processing (3520/3991)\n",
      "Processing (3530/3991)\n",
      "Processing (3540/3991)\n",
      "Processing (3550/3991)\n",
      "Processing (3560/3991)\n",
      "Processing (3570/3991)\n",
      "Processing (3580/3991)\n"
     ]
    },
    {
     "name": "stderr",
     "output_type": "stream",
     "text": [
      "c:\\Users\\ikurnosau\\Projects\\QuantitativeTrading\\intraday-portfolio-management\\data\\raw\\retrievers\\alpaca_markets_utils.py:72: RuntimeWarning: Mean of empty slice\n",
      "  volatility_1h = np.nanmean(vol_1h_list)\n"
     ]
    },
    {
     "name": "stdout",
     "output_type": "stream",
     "text": [
      "Processing (3590/3991)\n",
      "Processing (3600/3991)\n"
     ]
    },
    {
     "name": "stderr",
     "output_type": "stream",
     "text": [
      "c:\\Users\\ikurnosau\\Projects\\QuantitativeTrading\\intraday-portfolio-management\\data\\raw\\retrievers\\alpaca_markets_utils.py:72: RuntimeWarning: Mean of empty slice\n",
      "  volatility_1h = np.nanmean(vol_1h_list)\n"
     ]
    },
    {
     "name": "stdout",
     "output_type": "stream",
     "text": [
      "Processing (3610/3991)\n",
      "Processing (3620/3991)\n"
     ]
    },
    {
     "name": "stderr",
     "output_type": "stream",
     "text": [
      "c:\\Users\\ikurnosau\\Projects\\QuantitativeTrading\\intraday-portfolio-management\\data\\raw\\retrievers\\alpaca_markets_utils.py:72: RuntimeWarning: Mean of empty slice\n",
      "  volatility_1h = np.nanmean(vol_1h_list)\n",
      "c:\\Users\\ikurnosau\\Projects\\QuantitativeTrading\\intraday-portfolio-management\\data\\raw\\retrievers\\alpaca_markets_utils.py:72: RuntimeWarning: Mean of empty slice\n",
      "  volatility_1h = np.nanmean(vol_1h_list)\n"
     ]
    },
    {
     "name": "stdout",
     "output_type": "stream",
     "text": [
      "Processing (3630/3991)\n",
      "Processing (3640/3991)\n",
      "Processing (3650/3991)\n",
      "Processing (3660/3991)\n",
      "Processing (3670/3991)\n",
      "Processing (3680/3991)\n",
      "Processing (3690/3991)\n",
      "Processing (3700/3991)\n",
      "Processing (3710/3991)\n"
     ]
    },
    {
     "name": "stderr",
     "output_type": "stream",
     "text": [
      "c:\\Users\\ikurnosau\\Projects\\QuantitativeTrading\\intraday-portfolio-management\\data\\raw\\retrievers\\alpaca_markets_utils.py:72: RuntimeWarning: Mean of empty slice\n",
      "  volatility_1h = np.nanmean(vol_1h_list)\n"
     ]
    },
    {
     "name": "stdout",
     "output_type": "stream",
     "text": [
      "Processing (3720/3991)\n",
      "Processing (3730/3991)\n"
     ]
    },
    {
     "name": "stderr",
     "output_type": "stream",
     "text": [
      "c:\\Users\\ikurnosau\\Projects\\QuantitativeTrading\\intraday-portfolio-management\\data\\raw\\retrievers\\alpaca_markets_utils.py:72: RuntimeWarning: Mean of empty slice\n",
      "  volatility_1h = np.nanmean(vol_1h_list)\n"
     ]
    },
    {
     "name": "stdout",
     "output_type": "stream",
     "text": [
      "Processing (3740/3991)\n",
      "Processing (3750/3991)\n",
      "Processing (3760/3991)\n",
      "Processing (3770/3991)\n",
      "Processing (3780/3991)\n",
      "Processing (3790/3991)\n",
      "Processing (3800/3991)\n",
      "Processing (3810/3991)\n",
      "Processing (3820/3991)\n",
      "Processing (3830/3991)\n",
      "Processing (3840/3991)\n",
      "Processing (3850/3991)\n"
     ]
    },
    {
     "name": "stderr",
     "output_type": "stream",
     "text": [
      "c:\\Users\\ikurnosau\\Projects\\QuantitativeTrading\\intraday-portfolio-management\\data\\raw\\retrievers\\alpaca_markets_utils.py:72: RuntimeWarning: Mean of empty slice\n",
      "  volatility_1h = np.nanmean(vol_1h_list)\n"
     ]
    },
    {
     "name": "stdout",
     "output_type": "stream",
     "text": [
      "Processing (3860/3991)\n"
     ]
    },
    {
     "name": "stderr",
     "output_type": "stream",
     "text": [
      "c:\\Users\\ikurnosau\\Projects\\QuantitativeTrading\\intraday-portfolio-management\\data\\raw\\retrievers\\alpaca_markets_utils.py:72: RuntimeWarning: Mean of empty slice\n",
      "  volatility_1h = np.nanmean(vol_1h_list)\n",
      "c:\\Users\\ikurnosau\\Projects\\QuantitativeTrading\\intraday-portfolio-management\\data\\raw\\retrievers\\alpaca_markets_utils.py:72: RuntimeWarning: Mean of empty slice\n",
      "  volatility_1h = np.nanmean(vol_1h_list)\n",
      "c:\\Users\\ikurnosau\\Projects\\QuantitativeTrading\\intraday-portfolio-management\\data\\raw\\retrievers\\alpaca_markets_utils.py:72: RuntimeWarning: Mean of empty slice\n",
      "  volatility_1h = np.nanmean(vol_1h_list)\n"
     ]
    },
    {
     "name": "stdout",
     "output_type": "stream",
     "text": [
      "Processing (3870/3991)\n"
     ]
    },
    {
     "name": "stderr",
     "output_type": "stream",
     "text": [
      "c:\\Users\\ikurnosau\\anaconda3\\envs\\mldl\\Lib\\site-packages\\numpy\\core\\fromnumeric.py:3504: RuntimeWarning: Mean of empty slice.\n",
      "  return _methods._mean(a, axis=axis, dtype=dtype,\n",
      "c:\\Users\\ikurnosau\\anaconda3\\envs\\mldl\\Lib\\site-packages\\numpy\\core\\_methods.py:129: RuntimeWarning: invalid value encountered in scalar divide\n",
      "  ret = ret.dtype.type(ret / rcount)\n",
      "c:\\Users\\ikurnosau\\anaconda3\\envs\\mldl\\Lib\\site-packages\\numpy\\core\\fromnumeric.py:3504: RuntimeWarning: Mean of empty slice.\n",
      "  return _methods._mean(a, axis=axis, dtype=dtype,\n",
      "c:\\Users\\ikurnosau\\anaconda3\\envs\\mldl\\Lib\\site-packages\\numpy\\core\\_methods.py:129: RuntimeWarning: invalid value encountered in scalar divide\n",
      "  ret = ret.dtype.type(ret / rcount)\n",
      "c:\\Users\\ikurnosau\\anaconda3\\envs\\mldl\\Lib\\site-packages\\numpy\\core\\fromnumeric.py:3504: RuntimeWarning: Mean of empty slice.\n",
      "  return _methods._mean(a, axis=axis, dtype=dtype,\n",
      "c:\\Users\\ikurnosau\\anaconda3\\envs\\mldl\\Lib\\site-packages\\numpy\\core\\_methods.py:129: RuntimeWarning: invalid value encountered in scalar divide\n",
      "  ret = ret.dtype.type(ret / rcount)\n"
     ]
    },
    {
     "name": "stdout",
     "output_type": "stream",
     "text": [
      "Processing (3880/3991)\n",
      "Processing (3890/3991)\n"
     ]
    },
    {
     "name": "stderr",
     "output_type": "stream",
     "text": [
      "c:\\Users\\ikurnosau\\Projects\\QuantitativeTrading\\intraday-portfolio-management\\data\\raw\\retrievers\\alpaca_markets_utils.py:72: RuntimeWarning: Mean of empty slice\n",
      "  volatility_1h = np.nanmean(vol_1h_list)\n",
      "c:\\Users\\ikurnosau\\Projects\\QuantitativeTrading\\intraday-portfolio-management\\data\\raw\\retrievers\\alpaca_markets_utils.py:72: RuntimeWarning: Mean of empty slice\n",
      "  volatility_1h = np.nanmean(vol_1h_list)\n"
     ]
    },
    {
     "name": "stdout",
     "output_type": "stream",
     "text": [
      "Processing (3900/3991)\n",
      "Processing (3910/3991)\n",
      "Processing (3920/3991)\n"
     ]
    },
    {
     "name": "stderr",
     "output_type": "stream",
     "text": [
      "c:\\Users\\ikurnosau\\Projects\\QuantitativeTrading\\intraday-portfolio-management\\data\\raw\\retrievers\\alpaca_markets_utils.py:72: RuntimeWarning: Mean of empty slice\n",
      "  volatility_1h = np.nanmean(vol_1h_list)\n"
     ]
    },
    {
     "name": "stdout",
     "output_type": "stream",
     "text": [
      "Processing (3930/3991)\n"
     ]
    },
    {
     "name": "stderr",
     "output_type": "stream",
     "text": [
      "c:\\Users\\ikurnosau\\Projects\\QuantitativeTrading\\intraday-portfolio-management\\data\\raw\\retrievers\\alpaca_markets_utils.py:72: RuntimeWarning: Mean of empty slice\n",
      "  volatility_1h = np.nanmean(vol_1h_list)\n",
      "c:\\Users\\ikurnosau\\anaconda3\\envs\\mldl\\Lib\\site-packages\\numpy\\core\\fromnumeric.py:3504: RuntimeWarning: Mean of empty slice.\n",
      "  return _methods._mean(a, axis=axis, dtype=dtype,\n",
      "c:\\Users\\ikurnosau\\anaconda3\\envs\\mldl\\Lib\\site-packages\\numpy\\core\\_methods.py:129: RuntimeWarning: invalid value encountered in scalar divide\n",
      "  ret = ret.dtype.type(ret / rcount)\n"
     ]
    },
    {
     "name": "stdout",
     "output_type": "stream",
     "text": [
      "Processing (3940/3991)\n",
      "Processing (3950/3991)\n"
     ]
    },
    {
     "name": "stderr",
     "output_type": "stream",
     "text": [
      "c:\\Users\\ikurnosau\\Projects\\QuantitativeTrading\\intraday-portfolio-management\\data\\raw\\retrievers\\alpaca_markets_utils.py:72: RuntimeWarning: Mean of empty slice\n",
      "  volatility_1h = np.nanmean(vol_1h_list)\n"
     ]
    },
    {
     "name": "stdout",
     "output_type": "stream",
     "text": [
      "Processing (3960/3991)\n",
      "Processing (3970/3991)\n"
     ]
    },
    {
     "name": "stderr",
     "output_type": "stream",
     "text": [
      "c:\\Users\\ikurnosau\\anaconda3\\envs\\mldl\\Lib\\site-packages\\numpy\\core\\fromnumeric.py:3504: RuntimeWarning: Mean of empty slice.\n",
      "  return _methods._mean(a, axis=axis, dtype=dtype,\n",
      "c:\\Users\\ikurnosau\\anaconda3\\envs\\mldl\\Lib\\site-packages\\numpy\\core\\_methods.py:129: RuntimeWarning: invalid value encountered in scalar divide\n",
      "  ret = ret.dtype.type(ret / rcount)\n"
     ]
    },
    {
     "name": "stdout",
     "output_type": "stream",
     "text": [
      "Processing (3980/3991)\n"
     ]
    },
    {
     "name": "stderr",
     "output_type": "stream",
     "text": [
      "c:\\Users\\ikurnosau\\anaconda3\\envs\\mldl\\Lib\\site-packages\\numpy\\core\\fromnumeric.py:3504: RuntimeWarning: Mean of empty slice.\n",
      "  return _methods._mean(a, axis=axis, dtype=dtype,\n",
      "c:\\Users\\ikurnosau\\anaconda3\\envs\\mldl\\Lib\\site-packages\\numpy\\core\\_methods.py:129: RuntimeWarning: invalid value encountered in scalar divide\n",
      "  ret = ret.dtype.type(ret / rcount)\n"
     ]
    },
    {
     "name": "stdout",
     "output_type": "stream",
     "text": [
      "Processing (3990/3991)\n"
     ]
    }
   ],
   "source": [
    "START_DATE = \"2025-06-15 16:00:00+00:00\"\n",
    "END_DATE = \"2025-07-01 16:00:00+00:00\"\n",
    "stock_stats = get_stock_stats(retriever, all_symbols, START_DATE, END_DATE)\n",
    "\n",
    "with open(f'stock_stats_06.pkl', 'wb') as f:\n",
    "    pickle.dump(stock_stats, f)"
   ]
  },
  {
   "cell_type": "code",
   "execution_count": 10,
   "id": "f88feb4a",
   "metadata": {},
   "outputs": [
    {
     "data": {
      "text/plain": [
       "[('QQQ', 40.83391846772082),\n",
       " ('RAPT', 37.81413590471789),\n",
       " ('SPY', 37.07878330689369),\n",
       " ('IBKR', 31.174461809791328),\n",
       " ('NKE', 28.564417408805188),\n",
       " ('APG', 28.34896193304662),\n",
       " ('VERV', 27.7428913840944),\n",
       " ('PLTR', 26.812425853496155),\n",
       " ('GOOG', 26.564549976815325),\n",
       " ('NVDA', 26.16204246932238),\n",
       " ('AMD', 24.50965934591024),\n",
       " ('AAPL', 24.22285779937311),\n",
       " ('GLD', 22.384304976575894),\n",
       " ('IWM', 22.06688854883784),\n",
       " ('GOOGL', 21.729012918724504),\n",
       " ('TQQQ', 20.783871852865126),\n",
       " ('FTV', 20.740948093783363),\n",
       " ('TSLA', 20.234120409614366),\n",
       " ('SPTN', 20.22819782689736),\n",
       " ('SMH', 20.116810402375805),\n",
       " ('XLY', 18.738691348601876),\n",
       " ('HIMS', 18.20337969339497),\n",
       " ('XLK', 18.03711955546672),\n",
       " ('MRVL', 17.97620495552505),\n",
       " ('UBER', 17.404823707043303),\n",
       " ('XOM', 16.513753946186903),\n",
       " ('HOOD', 16.383302735653157),\n",
       " ('AMZN', 16.343849814811318),\n",
       " ('RKLB', 16.239410440426862),\n",
       " ('PEGA', 16.020436971451122),\n",
       " ('ENPH', 15.708249673403035),\n",
       " ('GBTC', 15.547399408888525),\n",
       " ('GDXJ', 15.280855871969973),\n",
       " ('NEE', 14.738922360487258),\n",
       " ('IBIT', 14.24906979665115),\n",
       " ('EWY', 14.08619488320232),\n",
       " ('SOXX', 13.990641260243915),\n",
       " ('SMCI', 13.817259328603345),\n",
       " ('FBTC', 13.67892455257518),\n",
       " ('NEM', 13.673278859599915),\n",
       " ('UPRO', 13.534175087761943),\n",
       " ('CORZ', 13.517041961538169),\n",
       " ('RSP', 12.938287659133437),\n",
       " ('XLV', 12.795133352366891),\n",
       " ('BITU', 12.746616013192629),\n",
       " ('BITB', 12.672552706081705),\n",
       " ('XBI', 12.614514520913062),\n",
       " ('OSCR', 12.549189847026803),\n",
       " ('LRCX', 12.533644496264344),\n",
       " ('UCO', 12.237115538338415),\n",
       " ('RUN', 12.054667898280282),\n",
       " ('KEP', 11.796225694424672),\n",
       " ('NVO', 11.690626105988136),\n",
       " ('IVV', 11.616773223802664),\n",
       " ('IONQ', 11.49416684742621),\n",
       " ('GDX', 11.473180452256805),\n",
       " ('BP', 11.463918976368491),\n",
       " ('XLE', 11.40533167762274),\n",
       " ('XLI', 11.363107208152906),\n",
       " ('MRK', 11.187851967072389),\n",
       " ('SOXL', 11.157773770431028),\n",
       " ('YINN', 11.110582601292021),\n",
       " ('IGV', 11.105372992727933),\n",
       " ('IJR', 10.912705900532751),\n",
       " ('BABA', 10.893265222204816),\n",
       " ('VOO', 10.802581630056375),\n",
       " ('BASE', 10.760548780856826),\n",
       " ('YANG', 10.738178095383272),\n",
       " ('QLD', 10.723695123400745),\n",
       " ('WFC', 10.639263729710098),\n",
       " ('DDM', 10.609700884263058),\n",
       " ('IYR', 10.477787929898454),\n",
       " ('FCX', 10.237150720983573),\n",
       " ('OXY', 10.156081673454517),\n",
       " ('XLC', 10.133970969570628),\n",
       " ('MU', 10.124029169167068),\n",
       " ('DIA', 10.04447313998178),\n",
       " ('PYPL', 9.875368371636062),\n",
       " ('SHEL', 9.854840480597645),\n",
       " ('TTD', 9.844121222722539),\n",
       " ('VNQ', 9.817950133180842),\n",
       " ('KOLD', 9.793900544751537),\n",
       " ('TNA', 9.676135088347076),\n",
       " ('QQQM', 9.644160138808443),\n",
       " ('ZETA', 9.601028938380344),\n",
       " ('C', 9.505526527156597),\n",
       " ('CCL', 9.30732880766216),\n",
       " ('CMG', 8.994794042974766),\n",
       " ('LI', 8.936102079754011),\n",
       " ('BTCW', 8.911285769933022),\n",
       " ('TSM', 8.820468279141329),\n",
       " ('ANET', 8.747316091526836),\n",
       " ('TMF', 8.728299862899961),\n",
       " ('EETH', 8.725450651916306),\n",
       " ('CVX', 8.687979521851899),\n",
       " ('GLDM', 8.648591232614708),\n",
       " ('URTY', 8.633154425976306),\n",
       " ('EWJ', 8.629794746406164),\n",
       " ('HPE', 8.626692734731732),\n",
       " ('SEDG', 8.621948431179035)]"
      ]
     },
     "execution_count": 10,
     "metadata": {},
     "output_type": "execute_result"
    }
   ],
   "source": [
    "volatility_5m_to_spread = {symbol: stock_stats[symbol]['volatility_5m'] / stock_stats[symbol]['avg_spread'] for symbol in stock_stats}\n",
    "best_stocksed_5m = sorted(volatility_5m_to_spread.items(), key=lambda x: x[1], reverse=True)[:100]\n",
    "best_stocksed_5m"
   ]
  }
 ],
 "metadata": {
  "kernelspec": {
   "display_name": "mldl",
   "language": "python",
   "name": "python3"
  },
  "language_info": {
   "codemirror_mode": {
    "name": "ipython",
    "version": 3
   },
   "file_extension": ".py",
   "mimetype": "text/x-python",
   "name": "python",
   "nbconvert_exporter": "python",
   "pygments_lexer": "ipython3",
   "version": "3.12.7"
  }
 },
 "nbformat": 4,
 "nbformat_minor": 5
}

{
 "cells": [
  {
   "cell_type": "code",
   "execution_count": 23,
   "id": "b3a6dcaa",
   "metadata": {},
   "outputs": [],
   "source": [
    "import sys\n",
    "import os\n",
    "sys.path.append(os.path.abspath(os.path.join(os.getcwd(), '..')))\n",
    "\n",
    "import pandas as pd\n",
    "from datetime import datetime, timezone\n",
    "import logging\n",
    "\n",
    "logging.basicConfig(\n",
    "    level=logging.INFO,  # Set the logging level\n",
    "    format='%(asctime)s - %(levelname)s - %(message)s',  # Format for the log messages\n",
    "    handlers=[\n",
    "        logging.StreamHandler()  # Log to the console\n",
    "    ]\n",
    ")\n",
    "\n",
    "%reload_ext autoreload\n",
    "%autoreload 2\n",
    "from data.raw.retrievers.alpaca_markets_retriever import AlpacaMarketsRetriever\n",
    "from config.constants import *\n",
    "from data.processed.dataset_creation import DatasetCreator\n",
    "from data.processed.indicators import *\n",
    "from data.processed.targets import Balanced3ClassClassification\n",
    "from data.processed.normalization import ZScoreOverWindowNormalizer, ZScoreNormalizer, MinMaxNormalizer\n",
    "from data.processed.missing_values_handling import DummyMissingValuesHandler\n",
    "from data.processed.dataset_pytorch import DatasetPytorch\n",
    "from modeling.trainer import Trainer\n",
    "from observability.mlflow_integration import log_experiment\n",
    "\n",
    "from config.experiments.cur_experiment import config"
   ]
  },
  {
   "cell_type": "code",
   "execution_count": null,
   "id": "755a729c",
   "metadata": {},
   "outputs": [],
   "source": [
    "retriever = AlpacaMarketsRetriever()\n",
    "\n",
    "retrieval_result = retriever.bars(\n",
    "    symbol_or_symbols=config.data_config.symbol_or_symbols, \n",
    "    start=config.data_config.start, \n",
    "    end=config.data_config.end)"
   ]
  },
  {
   "cell_type": "code",
   "execution_count": null,
   "id": "18d48d18",
   "metadata": {},
   "outputs": [],
   "source": [
    "dataset_creator = DatasetCreator(\n",
    "    features=config.data_config.features,\n",
    "    target=config.data_config.target,\n",
    "    normalizer=config.data_config.normalizer,\n",
    "    missing_values_handler=config.data_config.missing_values_handler,\n",
    "    train_set_last_date=config.data_config.train_set_last_date, \n",
    "    in_seq_len=config.data_config.in_seq_len,\n",
    "    flatten_sequence=config.data_config.flatten_sequence\n",
    ")\n",
    "\n",
    "X_train, y_train, X_test, y_test = dataset_creator.create_dataset_numpy(retrieval_result)\n",
    "X_train.shape, y_train.shape, X_test.shape, y_test.shape"
   ]
  },
  {
   "cell_type": "code",
   "execution_count": null,
   "id": "b98a4882",
   "metadata": {},
   "outputs": [],
   "source": [
    "train_loader = DatasetPytorch(X_train, y_train).as_dataloader(\n",
    "    batch_size=config.data_config.batch_size,\n",
    "    shuffle=config.data_config.shuffle\n",
    ")\n",
    "test_loader = DatasetPytorch(X_test, y_test).as_dataloader(\n",
    "    batch_size=config.data_config.batch_size,\n",
    "    shuffle=config.data_config.shuffle\n",
    ")"
   ]
  },
  {
   "cell_type": "code",
   "execution_count": null,
   "id": "8c4b5aa6",
   "metadata": {},
   "outputs": [],
   "source": [
    "model = config.model_config.model\n",
    "model"
   ]
  },
  {
   "cell_type": "code",
   "execution_count": null,
   "id": "6a3858fd",
   "metadata": {},
   "outputs": [],
   "source": [
    "trainer = Trainer(\n",
    "    model=model,\n",
    "    train_loader=train_loader,\n",
    "    val_loader=test_loader,\n",
    "    loss_fn=config.train_config.loss_fn,\n",
    "    optimizer=config.train_config.optimizer,\n",
    "    scheduler=config.train_config.scheduler,\n",
    "    num_epochs=config.train_config.num_epochs,\n",
    "    device=config.train_config.device,\n",
    "    metrics=config.train_config.metrics,\n",
    "    save_path=config.train_config.save_path\n",
    ")"
   ]
  },
  {
   "cell_type": "code",
   "execution_count": null,
   "id": "f01c52e0",
   "metadata": {},
   "outputs": [],
   "source": [
    "model, history = trainer.train()"
   ]
  },
  {
   "cell_type": "code",
   "execution_count": 24,
   "id": "ed829636",
   "metadata": {},
   "outputs": [
    {
     "name": "stderr",
     "output_type": "stream",
     "text": [
      "2025/06/17 19:12:42 INFO mlflow.tracking.fluent: Experiment with name 'Cur Experiment_1750180362.4239957' does not exist. Creating a new experiment.\n",
      "2025/06/17 19:12:51 WARNING mlflow.models.model: Model logged without a signature and input example. Please set `input_example` parameter when logging the model to auto infer the model signature.\n",
      "Registered model 'Cur Model' already exists. Creating a new version of this model...\n",
      "2025/06/17 19:12:51 INFO mlflow.store.model_registry.abstract_store: Waiting up to 300 seconds for model version to finish creation. Model name: Cur Model, version 2\n",
      "Created version '2' of model 'Cur Model'.\n"
     ]
    },
    {
     "name": "stdout",
     "output_type": "stream",
     "text": [
      "🏃 View run righteous-wolf-266 at: http://127.0.0.1:8080/#/experiments/649602426792884185/runs/712940f7dce44b3a9b9a8daef219deb0\n",
      "🧪 View experiment at: http://127.0.0.1:8080/#/experiments/649602426792884185\n"
     ]
    }
   ],
   "source": [
    "log_experiment(\n",
    "    config=config, \n",
    "    model=model, \n",
    "    history=history,\n",
    "    input_data_sample=next(iter(train_loader))[0].to(trainer.device))"
   ]
  },
  {
   "cell_type": "code",
   "execution_count": null,
   "id": "6ca16d20",
   "metadata": {},
   "outputs": [],
   "source": [
    "import itertools \n",
    "from sklearn.base import clone\n",
    "from sklearn.metrics import accuracy_score, f1_score, precision_score, recall_score, confusion_matrix\n",
    "from sklearn.svm import SVC\n",
    "from sklearn.model_selection import GridSearchCV, cross_val_score\n",
    "from sklearn.datasets import make_classification\n",
    "import lightgbm as lgb\n",
    "\n",
    "\n",
    "def evaluate_model_accuracy(model, param_grid=None):\n",
    "    def evaluate_cur_model(cur_model, best_accuracy): \n",
    "        cur_model = cur_model.fit(X_train, y_train)\n",
    "        test_preds = cur_model.predict(X_test)\n",
    "        best_accuracy = accuracy_score(y_test, test_preds)\n",
    "\n",
    "        return best_accuracy\n",
    "\n",
    "\n",
    "    best_accuracy = 0\n",
    "    best_params = None \n",
    "    if param_grid:\n",
    "        keys, values = zip(*param_grid.items())\n",
    "        param_combinations = [dict(zip(keys, v)) for v in itertools.product(*values)]\n",
    "\n",
    "        for param_compbination in param_combinations: \n",
    "            cur_model = clone(model).set_params(**param_compbination)\n",
    "            cur_accuracy = evaluate_cur_model(cur_model, best_accuracy)\n",
    "            if cur_accuracy > best_accuracy: \n",
    "                best_accuracy = cur_accuracy\n",
    "                best_params = param_compbination\n",
    "    else: \n",
    "        cur_accuracy = evaluate_cur_model(model, best_accuracy)\n",
    "        if cur_accuracy > best_accuracy: \n",
    "            best_accuracy = cur_accuracy\n",
    "            best_params = None\n",
    "\n",
    "    print(f'Best accuracy: {best_accuracy}, bestparams: {best_params}')\n",
    "\n",
    "lgb_model = lgb.LGBMClassifier(\n",
    "    n_estimators=1000, \n",
    "    learning_rate=0.001,\n",
    "    max_depth=5,\n",
    "    num_leaves=31, \n",
    "    objective='multiclass', \n",
    "    num_class=3\n",
    "    )\n",
    "evaluate_model_accuracy(lgb_model)"
   ]
  },
  {
   "cell_type": "code",
   "execution_count": null,
   "id": "f4362df8",
   "metadata": {},
   "outputs": [],
   "source": []
  },
  {
   "cell_type": "code",
   "execution_count": null,
   "id": "03e6bf2a",
   "metadata": {},
   "outputs": [],
   "source": []
  }
 ],
 "metadata": {
  "kernelspec": {
   "display_name": "mldl",
   "language": "python",
   "name": "python3"
  },
  "language_info": {
   "codemirror_mode": {
    "name": "ipython",
    "version": 3
   },
   "file_extension": ".py",
   "mimetype": "text/x-python",
   "name": "python",
   "nbconvert_exporter": "python",
   "pygments_lexer": "ipython3",
   "version": "3.12.7"
  }
 },
 "nbformat": 4,
 "nbformat_minor": 5
}
